{
 "cells": [
  {
   "cell_type": "markdown",
   "metadata": {},
   "source": [
    "### Ladi_ai_RAG"
   ]
  },
  {
   "cell_type": "markdown",
   "metadata": {},
   "source": [
    "- API DOCS : http://43.202.173.71:3000/\n",
    "- TASK : 루틴 추천\n",
    "- 루틴 관련 데이터 저장(vectorDB) -> 검색(Retrieve) -> LLM(gpt-4o)의 Context로 사용"
   ]
  },
  {
   "cell_type": "markdown",
   "metadata": {},
   "source": [
    "## LADI API"
   ]
  },
  {
   "cell_type": "markdown",
   "metadata": {},
   "source": [
    "### API"
   ]
  },
  {
   "cell_type": "markdown",
   "metadata": {},
   "source": [
    "### 크롤링 테스트"
   ]
  },
  {
   "cell_type": "code",
   "execution_count": null,
   "metadata": {},
   "outputs": [],
   "source": [
    "import bs4\n",
    "import re\n",
    "from langchain_community.document_loaders import WebBaseLoader\n",
    "\n",
    "# 여러 개의 url 지정 가능\n",
    "url1 = \"https://jhealthmedia.joins.com/article/article_view.asp?pno=28775\"\n",
    "\n",
    "loader = WebBaseLoader(\n",
    "    web_path=url1,\n",
    "    bs_kwargs=dict(\n",
    "        parse_only=bs4.SoupStrainer(\n",
    "            name={\"keyword\", \"title\", \"meta\"}\n",
    "        )\n",
    "    ),\n",
    ")\n",
    "\n",
    "# 문서 로드\n",
    "docs = loader.load()\n",
    "\n",
    "# 필요한 정보 추출 함수 정의\n",
    "def filter_document(doc):\n",
    "    # 메타데이터에서 필요한 정보 추출\n",
    "    metadata = {}\n",
    "    if 'title' in doc.metadata:\n",
    "        metadata['title'] = doc.metadata['title']\n",
    "    if 'description' in doc.metadata:\n",
    "        metadata['description'] = doc.metadata['description']\n",
    "    if 'keywords' in doc.metadata:\n",
    "        metadata['keywords'] = doc.metadata['keywords']\n",
    "    if 'meta' in doc.metadata:\n",
    "        metadata['meta'] = doc.metadata['meta']\n",
    "    \n",
    "    # 페이지 내용 정리\n",
    "    clean_content = re.sub(r'<.*?>', '', doc.page_content)  # HTML 태그 제거\n",
    "    clean_content = re.sub(r'\\s+', ' ', clean_content).strip()  # 불필요한 공백 제거\n",
    "    \n",
    "    return {\n",
    "        'metadata': metadata,\n",
    "        'content': clean_content\n",
    "    }\n",
    "\n",
    "# 필터링된 문서 리스트 생성\n",
    "filtered_docs = [filter_document(doc) for doc in docs]\n",
    "\n",
    "# 필터링된 문서 수 출력\n",
    "print(f\"Filtered documents count: {len(filtered_docs)}\")\n",
    "\n",
    "# 필터링된 문서 내용 출력 (예시로 첫 번째 문서)\n",
    "if filtered_docs:\n",
    "    print(\"First filtered document:\")\n",
    "    print(filtered_docs[0])"
   ]
  },
  {
   "cell_type": "code",
   "execution_count": null,
   "metadata": {},
   "outputs": [],
   "source": [
    "filtered_docs\n",
    "\n"
   ]
  },
  {
   "cell_type": "code",
   "execution_count": 94,
   "metadata": {},
   "outputs": [],
   "source": [
    "url1 = \"https://jhealthmedia.joins.com/article/article_view.asp?pno=28772\"\n",
    "\n",
    "loader = WebBaseLoader(\n",
    "    web_path=url1,\n",
    "    bs_kwargs=dict(\n",
    "        parse_only=bs4.SoupStrainer(\n",
    "            name=\"meta\"  # 'script' 대신 'meta' 태그를 파싱하도록 변경\n",
    "        )\n",
    "    ),\n",
    ")\n",
    "\n",
    "# 문서 로드\n",
    "docs = loader.load()\n"
   ]
  },
  {
   "cell_type": "code",
   "execution_count": null,
   "metadata": {},
   "outputs": [],
   "source": [
    "docs[0].metadata"
   ]
  },
  {
   "cell_type": "code",
   "execution_count": null,
   "metadata": {},
   "outputs": [],
   "source": [
    "docs[0].page_content"
   ]
  },
  {
   "cell_type": "code",
   "execution_count": null,
   "metadata": {},
   "outputs": [],
   "source": [
    "import requests\n",
    "from bs4 import BeautifulSoup\n",
    "\n",
    "url1 = \"https://jhealthmedia.joins.com/article/article_view.asp?pno=28772\"\n",
    "\n",
    "# 웹 페이지 가져오기\n",
    "response = requests.get(url1)\n",
    "response.encoding = 'utf-8'  # 한글 인코딩 설정\n",
    "\n",
    "# HTML 파싱\n",
    "soup = BeautifulSoup(response.text, 'html.parser')\n",
    "\n",
    "# keyword meta 태그 찾기\n",
    "keyword_meta = soup.find('meta', attrs={'name': 'keyword'})\n",
    "date = soup.find_all('em', attrs={'class': 'mg'})\n",
    "\n",
    "\n",
    "if keyword_meta:\n",
    "    keywords = keyword_meta.get('content')\n",
    "    print(\"Keywords:\", keywords)\n",
    "else:\n",
    "    print(\"Keyword meta tag not found\")\n",
    "print(date)"
   ]
  },
  {
   "cell_type": "code",
   "execution_count": null,
   "metadata": {},
   "outputs": [],
   "source": [
    "import requests\n",
    "from bs4 import BeautifulSoup\n",
    "\n",
    "url1 = \"https://jhealthmedia.joins.com/article/article_view.asp?pno=28772\"\n",
    "\n",
    "# 웹 페이지 가져오기\n",
    "response = requests.get(url1)\n",
    "response.encoding = 'utf-8'  # 한글 인코딩 설정\n",
    "\n",
    "# HTML 파싱\n",
    "soup = BeautifulSoup(response.text, 'html.parser')\n",
    "\n",
    "# keyword meta 태그 찾기\n",
    "keyword_meta = soup.find('meta', attrs={'name': 'keyword'})\n",
    "date_elements = soup.find_all('em', attrs={'class': 'mg'})\n",
    "\n",
    "# 키워드 추출\n",
    "if keyword_meta:\n",
    "    keywords = keyword_meta.get('content')\n",
    "    print(\"Keywords:\", keywords)\n",
    "else:\n",
    "    print(\"Keyword meta tag not found\")\n",
    "\n",
    "# 날짜 추출\n",
    "if len(date_elements) > 1:  # 두 번째 요소가 존재하는지 확인\n",
    "    date = date_elements[1].get_text().split(\" \")[1]  # 두 번째 요소의 텍스트 가져오기\n",
    "    print(\"Date:\", date)\n",
    "else:\n",
    "    print(\"Date not found\")"
   ]
  },
  {
   "cell_type": "code",
   "execution_count": null,
   "metadata": {},
   "outputs": [],
   "source": [
    "import bs4\n",
    "from bs4 import BeautifulSoup\n",
    "\n",
    "html_doc = \"\"\"\n",
    "<html>\n",
    "<head>\n",
    "    <meta name=\"keyword\" content=\"example, test\">\n",
    "    <meta name=\"description\" content=\"This is a test description.\">\n",
    "    <title>Test Document</title>\n",
    "</head>\n",
    "<body>\n",
    "    <h1>Hello, World!</h1>\n",
    "</body>\n",
    "</html>\n",
    "\"\"\"\n",
    "\n",
    "# SoupStrainer를 사용하여 'meta' 태그만 파싱\n",
    "strainer = bs4.SoupStrainer(name=\"meta\")\n",
    "soup = BeautifulSoup(url1, 'html.parser', parse_only=strainer)\n",
    "\n",
    "# 필터링된 'meta' 태그 출력\n",
    "for meta in soup.find_all(\"meta\"):\n",
    "    print(meta)"
   ]
  },
  {
   "cell_type": "code",
   "execution_count": null,
   "metadata": {},
   "outputs": [],
   "source": [
    "import bs4\n",
    "import re\n",
    "import requests\n",
    "from langchain_community.document_loaders import WebBaseLoader\n",
    "from bs4 import BeautifulSoup\n",
    "\n",
    "def get_metadata_from_url(url):\n",
    "    # 웹 페이지 가져오기\n",
    "    response = requests.get(url)\n",
    "    response.encoding = 'utf-8'  # 한글 인코딩 설정\n",
    "    \n",
    "    # HTML 파싱\n",
    "    soup = BeautifulSoup(response.text, 'html.parser')\n",
    "    \n",
    "    # keyword meta 태그 찾기\n",
    "    keyword_meta = soup.find('meta', attrs={'name': 'keyword'})\n",
    "    date_elements = soup.find_all('em', attrs={'class': 'mg'})\n",
    "    \n",
    "    metadata = {}\n",
    "    \n",
    "    # 키워드 추출\n",
    "    if keyword_meta:\n",
    "        metadata['keywords'] = keyword_meta.get('content')\n",
    "    \n",
    "    # 날짜 추출\n",
    "    if len(date_elements) > 1:\n",
    "        metadata['date'] = date_elements[1].get_text().split(\" \")[1]\n",
    "    \n",
    "    return metadata\n",
    "\n",
    "def filter_document(doc):\n",
    "    # 메타데이터에서 필요한 정보 추출\n",
    "    metadata = {}\n",
    "    if 'title' in doc.metadata:\n",
    "        metadata['title'] = doc.metadata['title']\n",
    "    if 'description' in doc.metadata:\n",
    "        metadata['description'] = doc.metadata['description']\n",
    "    \n",
    "    # 페이지 내용 정리\n",
    "    clean_content = re.sub(r'<.*?>', '', doc.page_content)  # HTML 태그 제거\n",
    "    clean_content = re.sub(r'\\s+', ' ', clean_content).strip()  # 불필요한 공백 제거\n",
    "    \n",
    "    # \"기자의 최신 글\" 이전의 내용 제거\n",
    "    if \"기자의 최신 글\" in clean_content:\n",
    "        clean_content = clean_content.split(\"기자의 최신 글\")[0].strip()\n",
    "    \n",
    "    # \"기자\"라는 단어가 포함된 경우, 그 앞의 내용을 제거\n",
    "    if \"기자\" in clean_content:\n",
    "        clean_content = clean_content.split(\"기자\")[-1].strip()\n",
    "    \n",
    "    # \"SNS 공유 및 댓글\" 이후의 내용 제거\n",
    "    clean_content = clean_content.replace(\"닫기 SNS 공유 및 댓글 페이스북 트위터 카카오스토리\", \"\").strip()\n",
    "    return {\n",
    "        'metadata': metadata,\n",
    "        'content': clean_content\n",
    "    }\n",
    "\n",
    "# URL 설정\n",
    "url1 = \"https://jhealthmedia.joins.com/article/article_view.asp?pno=28775\"\n",
    "\n",
    "# WebBaseLoader를 사용하여 문서 로드\n",
    "loader = WebBaseLoader(\n",
    "    web_path=url1,\n",
    "    bs_kwargs=dict(\n",
    "        parse_only=bs4.SoupStrainer(\n",
    "            name={\"meta\"}\n",
    "        )\n",
    "    ),\n",
    ")\n",
    "\n",
    "# 문서 로드\n",
    "docs = loader.load()\n",
    "url_list = [{\"url\": f\"https://jhealthmedia.joins.com/article/article_view.asp?pno={pno}\", \"id\": pno} for pno in range(13000, 28776)]\n",
    "print(url_list)"
   ]
  },
  {
   "cell_type": "code",
   "execution_count": null,
   "metadata": {},
   "outputs": [],
   "source": [
    "import bs4\n",
    "import re\n",
    "import requests\n",
    "from langchain_community.document_loaders import WebBaseLoader\n",
    "from bs4 import BeautifulSoup\n",
    "from tqdm import tqdm  # tqdm 임포트 추가\n",
    "import json  # JSON 모듈 추가\n",
    "\n",
    "def get_metadata_from_url(url):\n",
    "    # 웹 페이지 가져오기\n",
    "    response = requests.get(url)\n",
    "    response.encoding = 'utf-8'  # 한글 인코딩 설정\n",
    "    \n",
    "    # HTML 파싱\n",
    "    soup = BeautifulSoup(response.text, 'html.parser')\n",
    "    \n",
    "    # keyword meta 태그 찾기\n",
    "    keyword_meta = soup.find('meta', attrs={'name': 'keyword'})\n",
    "    date_elements = soup.find_all('em', attrs={'class': 'mg'})\n",
    "    \n",
    "    metadata = {}\n",
    "    \n",
    "    # 키워드 추출\n",
    "    if keyword_meta:\n",
    "        metadata['keywords'] = keyword_meta.get('content')\n",
    "    \n",
    "    # 날짜 추출\n",
    "    if len(date_elements) > 1:\n",
    "        metadata['date'] = date_elements[1].get_text().split(\" \")[1]\n",
    "    \n",
    "    return metadata\n",
    "\n",
    "def filter_document(doc):\n",
    "    # 메타데이터에서 필요한 정보 추출\n",
    "    metadata = {}\n",
    "    if 'title' in doc.metadata:\n",
    "        metadata['title'] = doc.metadata['title']\n",
    "    if 'description' in doc.metadata:\n",
    "        metadata['description'] = doc.metadata['description']\n",
    "    \n",
    "    # 페이지 내용 정리\n",
    "    clean_content = re.sub(r'<.*?>', '', doc.page_content)  # HTML 태그 제거\n",
    "    clean_content = re.sub(r'\\s+', ' ', clean_content).strip()  # 불필요한 공백 제거\n",
    "    \n",
    "    # \"기자의 최신 글\" 이전의 내용 제거\n",
    "    if \"기자의 최신 글\" in clean_content:\n",
    "        clean_content = clean_content.split(\"기자의 최신 글\")[0].strip()\n",
    "    \n",
    "    # \"기자\"라는 단어가 포함된 경우, 그 앞의 내용을 제거\n",
    "    if \"기자\" in clean_content:\n",
    "        clean_content = clean_content.split(\"기자\")[-1].strip()\n",
    "    \n",
    "    # \"SNS 공유 및 댓글\" 이후의 내용 제거\n",
    "    clean_content = clean_content.replace(\"닫기 SNS 공유 및 댓글 페이스북 트위터 카카오스토리\", \"\").strip()\n",
    "    \n",
    "    return {\n",
    "        'metadata': metadata,\n",
    "        'content': clean_content\n",
    "    }\n",
    "\n",
    "def convert_to_json(filtered_docs):\n",
    "    # 필터링된 문서를 JSON 형식으로 변환\n",
    "    return json.dumps(filtered_docs, ensure_ascii=False, indent=4)\n",
    "\n",
    "# URL 설정\n",
    "url_list = [{\"url\": f\"https://jhealthmedia.joins.com/article/article_view.asp?pno={pno}\", \"id\": pno} for pno in range(13000, 28775)]\n",
    "\n",
    "# 문서 로드 및 필터링된 문서 리스트 생성\n",
    "filtered_docs = []\n",
    "for url_info in tqdm(url_list, desc=\"문서 로드 진행 중\", unit=\"문서\"):\n",
    "    url = url_info['url']\n",
    "    \n",
    "    # WebBaseLoader를 사용하여 문서 로드\n",
    "    loader = WebBaseLoader(\n",
    "        web_path=url,\n",
    "        bs_kwargs=dict(\n",
    "            parse_only=bs4.SoupStrainer(\n",
    "                name={\"meta\"}\n",
    "            )\n",
    "        ),\n",
    "    )\n",
    "    \n",
    "    # 문서 로드\n",
    "    docs = loader.load()\n",
    "    \n",
    "    # 추가 메타데이터 가져오기\n",
    "    additional_metadata = get_metadata_from_url(url)\n",
    "    \n",
    "    # 필터링된 문서 리스트 생성\n",
    "    for doc in docs:\n",
    "        filtered_doc = filter_document(doc)\n",
    "        filtered_doc['metadata'].update(additional_metadata)\n",
    "        filtered_docs.append(filtered_doc)\n",
    "\n",
    "# 결과 출력\n",
    "print(f\"Filtered documents count: {len(filtered_docs)}\")\n",
    "if filtered_docs:\n",
    "    print(\"\\nFirst filtered document metadata:\")\n",
    "    print(\"Title:\", filtered_docs[0]['metadata'].get('title', 'No title'))\n",
    "    print(\"Keywords:\", filtered_docs[0]['metadata'].get('keywords', 'No keywords'))\n",
    "    print(\"Date:\", filtered_docs[0]['metadata'].get('date', 'No date'))\n",
    "    print(\"Description:\", filtered_docs[0]['metadata'].get('description', 'No description'))\n",
    "    print(\"Content:\", filtered_docs[0]['content'])"
   ]
  },
  {
   "cell_type": "code",
   "execution_count": null,
   "metadata": {},
   "outputs": [],
   "source": [
    "# JSON 파일로 저장\n",
    "import os\n",
    "output_directory = \"/Users/minu/dev/LADI/LADI_ai/data/crawling_data\"\n",
    "\n",
    "# 디렉토리가 존재하지 않으면 생성\n",
    "os.makedirs(output_directory, exist_ok=True)\n",
    "\n",
    "# 각 문서에 대해 JSON 파일로 저장\n",
    "for index, doc in enumerate(filtered_docs):\n",
    "    output_file_path = os.path.join(output_directory, f\"filtered_document_{index + 1}.json\")  # 인덱스를 파일 이름에 포함\n",
    "    with open(output_file_path, 'w', encoding='utf-8') as json_file:\n",
    "        json_file.write(convert_to_json([doc]))  # 각 문서를 JSON 형식으로 저장\n",
    "\n",
    "print(f\"Filtered documents saved to {output_directory}\")"
   ]
  },
  {
   "cell_type": "code",
   "execution_count": null,
   "metadata": {},
   "outputs": [],
   "source": [
    "# JSON으로 변환된 필터링된 문서 출력\n",
    "json_output = convert_to_json(filtered_docs)\n",
    "print(\"\\nFiltered documents in JSON format:\")\n",
    "print(json_output)"
   ]
  },
  {
   "cell_type": "code",
   "execution_count": null,
   "metadata": {},
   "outputs": [],
   "source": [
    "len(filtered_docs)\n"
   ]
  },
  {
   "cell_type": "markdown",
   "metadata": {},
   "source": [
    "## RAG Setting"
   ]
  },
  {
   "cell_type": "markdown",
   "metadata": {},
   "source": [
    "### Json_Loader 지식검색대화-가족과주거"
   ]
  },
  {
   "cell_type": "code",
   "execution_count": 3,
   "metadata": {},
   "outputs": [
    {
     "name": "stderr",
     "output_type": "stream",
     "text": [
      "Processing files in data/045.지식검색 대화/01-1.정식개방데이터/Training/02.라벨링데이터/TL_가족과 주거: 100%|██████████| 1688/1688 [00:00<00:00, 2718.67it/s]\n",
      "Processing files in data/045.지식검색 대화/01-1.정식개방데이터/Training/02.라벨링데이터/TL_사회와 생활: 100%|██████████| 1395/1395 [00:00<00:00, 2984.79it/s]"
     ]
    },
    {
     "name": "stdout",
     "output_type": "stream",
     "text": [
      "총 3083개의 구조화된 데이터를 로드했습니다.\n",
      "\n",
      "첫 번째 구조화된 데이터 메타데이터:\n",
      "{'category': '지식검색 대화', 'id': 'BK22008943', 'name': '2022 한국어 블렌더봇 데이터 BK22008943', 'topic': '가족과 주거'}\n",
      "\n",
      "첫 번째 구조화된 데이터 콘텐츠:\n",
      "[{'turn_id': 'BK22008943-1', 'utterance_id': 'BK22008943.1', 'role': '질문자', 'text': '아이를 키우는 것은 정말 어렵네요. 처음이다 보니 모든 게 서툴러서 그런 것 같아요. 혹시 제가 몇 가지 여쭤봐도 될까요?'}, {'turn_id': 'BK22008943-1', 'utterance_id': 'BK22008943.2', 'role': '전문가', 'text': '그럼요. 어떤 것이 궁금하신가요? 제가 어린이집을 운영하고 있다 보니 육아에 대해서는 누구보다도 잘 알아요.'}, {'turn_id': 'BK22008943-2', 'utterance_id': 'BK22008943.3', 'role': '질문자', 'text': '너무 든든하네요. 제가 모유 수유를 못해서 아이에게 분유를 급여하고 있는데 혹시 분유는 몇 개월까지 먹이면 되나요?'}, {'turn_id': 'BK22008943-2', 'utterance_id': 'BK22008943.4', 'role': '전문가', 'text': '보통 분유는 두 돌까지 먹인다고 하지만 조금 더 오래 먹는다고 문제가 되지는 않아요. 하지만 보통 돌이 지나면 서서히 신선하고 거의 가공이 하지 않은 일반 우유를 먹이게 되죠. 분유를 먹는 아기는 이유식이나 음식을 조금씩 먹게 되는 만 1살 즉, 돌이 되면 서서히 생우유로 바꾸어 먹이는 것이 좋아요.'}, {'turn_id': 'BK22008943-3', 'utterance_id': 'BK22008943.5', 'role': '질문자', 'text': '그럼 돌까지는 먹여야 하는군요. 아, 그리고 혹시 아기 이유식은 어떻게 시작하는 것이 좋나요? 제가 첫 아이다 보니 이유식에 대해서도 아무것도 모르거든요.'}, {'turn_id': 'BK22008943-3', 'utterance_id': 'BK22008943.6', 'role': '전문가', 'text': '보통 이유식 초기에는 쌀죽으로 시작해서 고기, 잎채소, 노란 채소, 과일 순으로 재료를 늘려가는 것이 좋아요. 그리고 시기가 지날수록 이유식 양도 점차 늘려가면서 죽이 아닌 진밥처럼 만들어 주는 것이 좋죠.'}, {'turn_id': 'BK22008943-4', 'utterance_id': 'BK22008943.7', 'role': '질문자', 'text': '잘 적어둬야겠네요. 아, 그리고 어제 아기가 열이 많이 나서 정말 걱정했었는데 아기가 열이 날 때는 어떻게 해주면 열을 내릴 수 있나요? 해열제만 먹이면 될까요?'}, {'turn_id': 'BK22008943-4', 'utterance_id': 'BK22008943.8', 'role': '전문가', 'text': '우선 아기가 38도 이상의 고열이 날 때에는 열을 내리는 것이 가장 중요해요. 옷을 다 벗기거나 가볍게 입히는 것이 좋고 되도록 해열제보다는 몸을 식혀서 열을 내려주는 것이 좋죠. 하지만 만약 이렇게 해도 열이 떨어지지 않으면 해열제를 먹여야 해요.'}, {'turn_id': 'BK22008943-5', 'utterance_id': 'BK22008943.9', 'role': '질문자', 'text': '해열제가 마지막 수단이었다니 유념할게요. 그런데 혹시 아기가 언제부터 배밀이를 하고 걷게 되는지 아시나요? 친구들 아기는 배밀이를 하기 시작하던데 우리 아이는 아직 배밀이도 안 해서 늦는 건지 걱정이 돼서요.'}, {'turn_id': 'BK22008943-5', 'utterance_id': 'BK22008943.10', 'role': '전문가', 'text': '배밀이를 하거나 기어 다니는 것은 개인차가 커요. 보통 4~12개월에 배밀이를 하거나 기어 다니면서 이동을 시작하고 대부분은 12~18개월이면 걷기 시작해요. 그리고 24개월이 되면 계단을 오르기 시작하고 그 이후에는 비록 불안정하긴 하지만 서서히 뛸 수도 있죠.'}, {'turn_id': 'BK22008943-6', 'utterance_id': 'BK22008943.11', 'role': '질문자', 'text': '그럼 너무 조급해하면 안 되겠네요. 그런데 제가 아이가 걷는 데에 도움이 될 것 같아서 미리 보행기를 주문했었는데 혹시 언제부터 아이가 보행기를 탈 수 있나요?'}, {'turn_id': 'BK22008943-6', 'utterance_id': 'BK22008943.12', 'role': '전문가', 'text': '보통 보행기류는 생후 6개월이 지나서 태우는 것이 좋아요. 그전에는 아기가 아직 고개나 허리를 가누지 못하기 때문에 수직으로 앉혀 놓으면 몸에 무리가 와서 자세가 삐뚤어질 수 있거든요.'}, {'turn_id': 'BK22008943-7', 'utterance_id': 'BK22008943.13', 'role': '질문자', 'text': '그렇군요. 아, 그리고 요즘 가장 궁금한 부분인데 아기 수면 교육은 언제부터 시켜주는 것이 좋나요? 너무 많이 자고 자주 깨는 것 같아서요.'}, {'turn_id': 'BK22008943-7', 'utterance_id': 'BK22008943.14', 'role': '전문가', 'text': '보통 신생아들은 하루에 16~18시간 정도를 자지만 한 번에 2.5~4시간 이상 수면을 지속하는 것은 어려워요. 그 시기가 지나고 2개월 무렵이 되면 밤낮이 바뀌는 낮밤혼동의 시기가 오죠. 그러다가 생후 3개월이 되면 수면의 중요한 터닝포인트가 와요. 7~8시간을 먹지 않고 내내 자더라도 저혈당이 오지 않고 성인처럼 밤낮의 주기를 갖게 되거든요. 그래서 수면 교육은 4~6개월부터 하는 것이 적절해요.'}, {'turn_id': 'BK22008943-8', 'utterance_id': 'BK22008943.15', 'role': '질문자', 'text': '저희 아이가 5개월이니 지금부터 서서히 시작해봐야겠네요. 그런데 혹시 아기 치아는 언제부터 자라는지 아시나요? 치아가 나기 시작해야 이유식을 주기 시작할 텐데 말이죠.'}, {'turn_id': 'BK22008943-8', 'utterance_id': 'BK22008943.16', 'role': '전문가', 'text': '보통 6개월 전후로 아랫이빨 중에 앞니 두 개가 올라오면서 유치들이 서서히 자라기 시작해요. 평생 사용하는 치아는 영구치지만 유치부터 잘 관리해주지 않으면 잇몸이 약해질 수 있어요.'}, {'turn_id': 'BK22008943-9', 'utterance_id': 'BK22008943.17', 'role': '질문자', 'text': '그럼 양치질도 정말 중요하겠네요. 아직까지는 별도로 해주고 있는 것이 없긴 한데 치아가 자라면 양치질을 해야 할 텐데 어떻게 해주는 것이 좋나요? 칫솔모로 하기에는 상처가 날 수도 있을 것 같아 걱정이에요.'}, {'turn_id': 'BK22008943-9', 'utterance_id': 'BK22008943.18', 'role': '전문가', 'text': '보통 첫 유치가 나오는 생후 6개월경부터 치아를 닦아주기 시작하는데 이 시기의 아이에게 칫솔을 사용하면 단단한 칫솔모로 인해 잇몸에 상처가 날 수 있어요. 그래서 칫솔보다는 구강 티슈나 깨끗하게 소독해서 말린 부드러운 거즈, 그리고 손가락에 끼워서 사용하는 우레탄 칫솔 등을 이용해서 치아와 잇몸 전체를 양치질해주는 것이 좋죠.'}, {'turn_id': 'BK22008943-10', 'utterance_id': 'BK22008943.19', 'role': '질문자', 'text': '그럼 빨리 집에 가서 거즈나 구강 티슈를 미리 구매해놔야겠어요. 오늘 친절하게 잘 알려주셔서 너무 큰 도움이 되었어요. 정말 감사합니다.'}, {'turn_id': 'BK22008943-10', 'utterance_id': 'BK22008943.20', 'role': '전문가', 'text': '도움이 되었다니 너무 기쁘네요. 앞으로도 모르는 것이 있으면 언제든 연락주세요. 조심해서 들어가시고 다음에 또 봬요.'}]\n"
     ]
    },
    {
     "name": "stderr",
     "output_type": "stream",
     "text": [
      "\n"
     ]
    }
   ],
   "source": [
    "import os\n",
    "import json\n",
    "from glob import glob\n",
    "from langchain.schema import Document\n",
    "from tqdm import tqdm  # tqdm 라이브러리 임포트\n",
    "\n",
    "# 기본 경로 설정\n",
    "base_dir = \"data/045.지식검색 대화/01-1.정식개방데이터/Training/02.라벨링데이터\"\n",
    "\n",
    "# TL_ 로 시작하는 모든 폴더 찾기\n",
    "tl_folders = [\n",
    "    \"data/045.지식검색 대화/01-1.정식개방데이터/Training/02.라벨링데이터/TL_가족과 주거\",\n",
    "    \"data/045.지식검색 대화/01-1.정식개방데이터/Training/02.라벨링데이터/TL_사회와 생활\"\n",
    "]\n",
    "\n",
    "structured_data = []  # 구조화된 데이터를 저장할 리스트\n",
    "\n",
    "# 각 폴더에서 json 파일 처리\n",
    "for folder in tl_folders:\n",
    "    json_files = glob(os.path.join(folder, \"*.json\"))\n",
    "    \n",
    "    # tqdm을 사용하여 진행률 표시\n",
    "    for json_file in tqdm(json_files, desc=f\"Processing files in {folder}\"):\n",
    "        try:\n",
    "            with open(json_file, 'r', encoding='utf-8') as f:\n",
    "                data = json.load(f)\n",
    "                \n",
    "                # 필요한 메타데이터만 구성\n",
    "                metadata = {\n",
    "                    \"category\": data.get('info', {}).get('category'),\n",
    "                    \"id\": data.get('info', {}).get('id'),\n",
    "                    \"name\": data.get('info', {}).get('name'),\n",
    "                    \"topic\": data.get('info', {}).get('topic'),\n",
    "                }\n",
    "\n",
    "                # 콘텐츠 구성 (필요한 필드만 남기기)\n",
    "                content = []\n",
    "                for utterance in data.get('utterances', []):\n",
    "                    content.append({\n",
    "                        \"turn_id\": utterance.get('turn_id'),\n",
    "                        \"utterance_id\": utterance.get('utterance_id'),\n",
    "                        \"role\": utterance.get('role'),\n",
    "                        \"text\": utterance.get('text')\n",
    "                    })\n",
    "\n",
    "                # 구조화된 데이터 추가\n",
    "                structured_data.append({\n",
    "                    \"metadata\": metadata,\n",
    "                    \"content\": content\n",
    "                })\n",
    "                \n",
    "        except json.JSONDecodeError as e:\n",
    "            print(f\"JSON 파일 파싱 중 오류 발생 - {json_file}: {e}\")\n",
    "        except Exception as e:\n",
    "            print(f\"파일 처리 중 오류 발생 - {json_file}: {e}\")\n",
    "\n",
    "# 결과 출력\n",
    "print(f\"총 {len(structured_data)}개의 구조화된 데이터를 로드했습니다.\")\n",
    "\n",
    "# 첫 번째 구조화된 데이터의 메타데이터와 콘텐츠 출력 (확인용)\n",
    "if structured_data:\n",
    "    print(\"\\n첫 번째 구조화된 데이터 메타데이터:\")\n",
    "    print(structured_data[0]['metadata'])\n",
    "    print(\"\\n첫 번째 구조화된 데이터 콘텐츠:\")\n",
    "    print(structured_data[0]['content'])"
   ]
  },
  {
   "cell_type": "code",
   "execution_count": 4,
   "metadata": {},
   "outputs": [
    {
     "name": "stdout",
     "output_type": "stream",
     "text": [
      "3083\n",
      "<class 'list'>\n",
      "{'category': '지식검색 대화', 'id': 'BK22008943', 'name': '2022 한국어 블렌더봇 데이터 BK22008943', 'topic': '가족과 주거'}\n"
     ]
    }
   ],
   "source": [
    "print(len(structured_data))\n",
    "print(type(structured_data))\n",
    "print(structured_data[0]['metadata'])\n"
   ]
  },
  {
   "cell_type": "code",
   "execution_count": 3,
   "metadata": {},
   "outputs": [],
   "source": [
    "from rag.base import RetrievalChain\n",
    "from rag.json import JSONRetrievalChain\n",
    "rag = JSONRetrievalChain(source_uri=structured_data, docs=structured_data)\n"
   ]
  },
  {
   "cell_type": "code",
   "execution_count": 17,
   "metadata": {},
   "outputs": [
    {
     "name": "stdout",
     "output_type": "stream",
     "text": [
      "로컬에서 벡터 저장소 로드 중\n",
      "load_local 시간: 0.13초\n"
     ]
    },
    {
     "name": "stderr",
     "output_type": "stream",
     "text": [
      "/Users/minu/Library/Caches/pypoetry/virtualenvs/langchain-kr-0guSvvrv-py3.11/lib/python3.11/site-packages/pydantic/json_schema.py:2191: PydanticJsonSchemaWarning: Default value default=PydanticUndefined description='사용자를 위한 개인화된 인사말' extra={} is not JSON serializable; excluding default from JSON schema [non-serializable-default]\n",
      "  warnings.warn(message, PydanticJsonSchemaWarning)\n",
      "/Users/minu/Library/Caches/pypoetry/virtualenvs/langchain-kr-0guSvvrv-py3.11/lib/python3.11/site-packages/pydantic/json_schema.py:2191: PydanticJsonSchemaWarning: Default value default='' description='루틴 단계의 제목' extra={} is not JSON serializable; excluding default from JSON schema [non-serializable-default]\n",
      "  warnings.warn(message, PydanticJsonSchemaWarning)\n",
      "/Users/minu/Library/Caches/pypoetry/virtualenvs/langchain-kr-0guSvvrv-py3.11/lib/python3.11/site-packages/pydantic/json_schema.py:2191: PydanticJsonSchemaWarning: Default value default=[] description='세부 실천 단계들' extra={} is not JSON serializable; excluding default from JSON schema [non-serializable-default]\n",
      "  warnings.warn(message, PydanticJsonSchemaWarning)\n",
      "/Users/minu/Library/Caches/pypoetry/virtualenvs/langchain-kr-0guSvvrv-py3.11/lib/python3.11/site-packages/pydantic/json_schema.py:2191: PydanticJsonSchemaWarning: Default value default='0분' description='예상 소요 시간' extra={} is not JSON serializable; excluding default from JSON schema [non-serializable-default]\n",
      "  warnings.warn(message, PydanticJsonSchemaWarning)\n",
      "/Users/minu/Library/Caches/pypoetry/virtualenvs/langchain-kr-0guSvvrv-py3.11/lib/python3.11/site-packages/pydantic/json_schema.py:2191: PydanticJsonSchemaWarning: Default value default='중' description='난이도 (상/중/하)' extra={} is not JSON serializable; excluding default from JSON schema [non-serializable-default]\n",
      "  warnings.warn(message, PydanticJsonSchemaWarning)\n",
      "/Users/minu/Library/Caches/pypoetry/virtualenvs/langchain-kr-0guSvvrv-py3.11/lib/python3.11/site-packages/pydantic/json_schema.py:2191: PydanticJsonSchemaWarning: Default value default='기타' description='카테고리 (운동/식단/학습/취미/생활/기타)' extra={} is not JSON serializable; excluding default from JSON schema [non-serializable-default]\n",
      "  warnings.warn(message, PydanticJsonSchemaWarning)\n",
      "/Users/minu/Library/Caches/pypoetry/virtualenvs/langchain-kr-0guSvvrv-py3.11/lib/python3.11/site-packages/pydantic/json_schema.py:2191: PydanticJsonSchemaWarning: Default value default='' description='실천을 위한 조언이나 팁' extra={} is not JSON serializable; excluding default from JSON schema [non-serializable-default]\n",
      "  warnings.warn(message, PydanticJsonSchemaWarning)\n",
      "/Users/minu/Library/Caches/pypoetry/virtualenvs/langchain-kr-0guSvvrv-py3.11/lib/python3.11/site-packages/pydantic/json_schema.py:2191: PydanticJsonSchemaWarning: Default value default=PydanticUndefined description='추천된 루틴 단계들' extra={} is not JSON serializable; excluding default from JSON schema [non-serializable-default]\n",
      "  warnings.warn(message, PydanticJsonSchemaWarning)\n",
      "/Users/minu/Library/Caches/pypoetry/virtualenvs/langchain-kr-0guSvvrv-py3.11/lib/python3.11/site-packages/pydantic/json_schema.py:2191: PydanticJsonSchemaWarning: Default value description='실천을 위한 조언이나 팁' extra={} is not JSON serializable; excluding default from JSON schema [non-serializable-default]\n",
      "  warnings.warn(message, PydanticJsonSchemaWarning)\n"
     ]
    }
   ],
   "source": [
    "rag=rag.create_chain(cache_mode='load', local_db=\"./cached_TL_family_housing and social/\", category=\"건강\", mode='kiwi')\n"
   ]
  },
  {
   "cell_type": "code",
   "execution_count": 7,
   "metadata": {},
   "outputs": [
    {
     "name": "stdout",
     "output_type": "stream",
     "text": [
      "<class 'rag.base.KiwiBM25Retriever'>\n"
     ]
    }
   ],
   "source": [
    "print(type(rag.retriever))"
   ]
  },
  {
   "cell_type": "code",
   "execution_count": 10,
   "metadata": {},
   "outputs": [
    {
     "name": "stdout",
     "output_type": "stream",
     "text": [
      "[Document(metadata={'category': '지식검색 대화', 'id': 'BK22015351', 'name': '2022 한국어 블렌더봇 데이터 BK22015351', 'topic': '가족과 주거'}, page_content='요즘 입양한 강아지 보는 낙으로 살고 있어요. 새끼 강아지라서 더 그런 것 같은데 얼마나 귀엽고 예쁜지 왜 진작 입양을 안 했을까 하는 생각이 들더라고요.\\n새끼 강아지 정말 귀엽죠. 새끼 강아지 시절은 금방 지나가니까 기억하기 위해서 사진 많이 찍어두시면 좋아요.\\n네, 안 그래도 사진 많이 찍고 있어요. 근데 고민이 하나 있는데 비슷한 개월 수에 같은 견종에 비하면 성장이 너무 느린 것 같아요. 이거 뭔가 문제가 있는 건가요?\\n병원에 방문해 보시는게 좋을 것 같아요. 또래의 같은 견종보다 유독 몸집이 작다면 간문맥전신단락일 가능성이 있거든요. 이 질환이 있다면 강아지의 성장이 느려서 몸집이 작은 특성이 나타나요.\\n간문맥전신단락이라니 이름도 어렵네요. 처음 들어보는데 이게 무슨 질병인가요?\\n강아지가 태아일 때 혈액이 간을 지나치지 않고 곧장 심장으로 갈 수 있도록 하는 우회혈관이 있어요. 본래 자연적으로 닫히는 혈관이지만 닫히지 않은 채로 남아 있어서 생기는 병이에요.\\n그렇군요, 우회혈관이 닫히지 않고 남아있으면 어떤 일이 발생하나요?\\n혈액은 간문맥을 통해 간으로 흘러 해독과정을 거친 후에 심장으로 가게 돼요. 하지만 열려 있는 우회혈관을 타고 혈액이 흐르면 해독과정이 생략되고 이 혈액이 몸을 순환하면서 독성물질이 그대로 심장을 지나서 전신으로 퍼지게 돼요.\\n간문맥을 거쳐야 해독이 된다고 하셨잖아요. 그러면 강아지 몸에 독성물질이 있다는 말씀이신데, 강아지 몸에 어떤 독성물질이 있나요?\\n네, 맞아요. 유독성 물질인 암모니아를 조심해야 해요. 원래라면 간에서 해독되면서 신장을 지나 배출되지만 간문맥전신단락을 앓고 있다면 전신으로 흘러가서 문제가 돼요.\\n암모니아가 특별히 더 문제가 되는 이유가 있나요?\\n암모니아가 뇌혈관으로 유입되면 발작이 발생할 수 있고 멍하니 서 있거나, 제자리에서 빙글빙글 도는 등의 다양한 신경 증상이 나타날 수 있어요.\\n그렇군요, 그렇다면 간문맥전신단락은 어떻게 치료하나요?\\n간문맥전신단락을 치료하려면 기형혈관을 닫아 혈액이 도로 간으로 지나가게 해야 해요. 이를 위해서 아밀로이드 링이나 셀로판 밴드를 이용해 혈관을 닫아주는 수술이 필요하죠.\\n그런 수술을 진행하는군요. 그런데 아밀로이드 링이나 셀로판 밴드를 사용한 수술의 장점이 있나요?\\n아밀로이드 링이나 셀로판 밴드를 사용하면 혈관을 천천히 닫을 수 있어서 갑작스럽게 혈관을 닫아버렸을 때 발생할 수 있는 합병증을 막을 수 있어요.\\n그렇군요, 그런데 아밀로이드 링이나 셀로판 밴드 수술의 차이점이 있나요?\\n네, 두 수술법은 각각 장단점이 달라요. 그 때문에 꼭 수의사와 꼼꼼한 상담 후에 반려견에 맞는 수술법을 결정해야 해요.\\n내일 병원에 방문해서 간문맥전신단락인지 확인 해봐야겠어요. 오늘 좋은 정보 알려주셔서 감사합니다.\\n네, 병원 잘 다녀오시고 다음에 또 봬요.'), Document(metadata={'category': '지식검색 대화', 'id': 'BK22014984', 'name': '2022 한국어 블렌더봇 데이터 BK22014984', 'topic': '가족과 주거'}, page_content='조카가 가와사키병에 걸렸다고 입원해야 한다는 전화를 받았어요. 가와사키병은 저에겐 조금 생소한데, 가와사키가 어떠한 뜻이 있는 일본어 단어인가요?\\n가와사키라는 일본어 단어가 어떠한 뜻이 있는 것은 아니에요. 이 병은 1967년 일본의 소아과의사인 가와사키 도미사쿠가 최초로 발견하게 되면서 이름을 붙인 거예요.\\n이따이이따이병처럼 뜻이 있는 게 아니라 병을 발견한 박사의 이름을 딴 거군요. 저도 아이를 키웠지만 가와사키병은 처음 들어보는데, 어떤 질병인가요?\\n가와사키병은 아이들에게서 발생하는 원인 불명 급성 열성 혈관염이에요. 혈관뿐 아니라 피부나 점막, 임파절 등 온몸에 침범하는 질병이랍니다.\\n급성 혈관염이라면 꽤 심각한 병 아닌가요? 아이들이 자주 걸리는 병인지 아님 희귀병인지 궁금해요.\\n소아 가와사키병은 우리나라에서 매해 4000~5000명이 걸리는 비교적 흔한 질환이랍니다. 가와사키병의 사망률은 0.01%에 불과하여 치료가 잘 되는 질환 중 하나에요.\\n흔한 질환이라면 그나마 다행이네요. 처음에 코로나 증상인 줄 알고 계속 코로나 검사만 받았다는데, 코로나와 가와사키병 증상이 비슷한가요?\\n그럴 만도 한 게, 가와사키병은 기침과 고열 증상이 있기 때문에 코로나와 헷갈릴 수 있어요. 하지만 코로나나 독감은 겨울이나 봄에 감염이 많이 되지만 가와사키는 기온이 높은 여름이나 초가을에 많이 걸린다는 차이점이 있어요. 가와사키병 초기에는 설사나 두통, 복통 증상을 호소하는 경우도 있답니다.\\n정말 증상만 봐서는 코로나인지 독감인지 가와사키병인지 구분하기 어렵겠네요. 그럼 가와사키병에서만 나타나는 전형적인 증상이 있나요?\\n가와사키병의 전형적인 증상은 38.5도 이상의 고열이 지속되거나 눈곱 없이 결막이 충혈되는 경우, 입술이나 혓바닥이 빨개지면서 붓는 딸기 혀 증상이 있어요. 또한 몸이나 BCG 접종을 한 부위에 발진이 생기고 손발이 붓고 붉어지는 증상이 나타난답니다. 목 림프절도 붓는다면 가와사키병을 의심해 보아야 해요.\\n딸기 혀나 결막충혈, 발진 등이 생기면 코로나나 독감보다 가와사키병을 의심해 볼 수 있는 거네요. 그런데 가와사키병은 왜 걸리는 거예요?\\n가와사키병이 왜 걸리는지 그 원인은 아직 정확히 밝혀진 바가 없어요. 바이러스나 용혈사슬알균 등으로 인한 감염성 질환, 유전적인 요소 때문에 발생한다고 추측할 뿐이에요.\\n원인이 명확하지 않으면 예방하는 것도 힘들겠네요. 그럼 의심 증상이 있어 병원에 가면 어떤 검사를 통해 가와사키병을 진단받게 되나요?\\n피검사와 소변 검사 등을 통하여 5가지 증상 가운데 2~3가지만 나타나면 불완전가와사키병, 4가지 이상의 증상이 발현된다면 가와사키병으로 진단하게 돼요.\\n그렇군요. 조카가 몸도 아픈데 여러 검사까지 받느라 힘들었겠어요. 그럼 가와사키병은 어떤 치료를 하게 되나요?\\n가와사키병의 초기에는 면역글로블린과 고용량 아스피린을 투여하게 돼요. 발병한 지 1~2주가 지나면 꼭 심장초음파 검사를 하여 관상동맥의 상태를 파악해야 하는데요. 관상동맥합병증이 없다면 아스피린의 용량을 주로 투여하고 6~8주간의 경과를 지켜보게 된답니다.\\n그렇군요. 며칠 동안 열이 난다고 해서 단순 감기인 줄 알았는데, 가와사키라니 얼마나 걱정했는지 몰라요.\\n그러셨군요. 병원에서 치료받으면 나을 수 있는 병이니 너무 걱정하지 마세요.\\n그렇게 생각해야겠죠? 조카가 퇴원하면 몸에 좋은 음식도 잔뜩 해줘야겠어요. 오늘 도움 주셔서 감사해요.\\n별말씀을요. 아이가 하루빨리 건강해지길 저도 염원할게요. 그럼 다음에 또 이야기 나눠요.'), Document(metadata={'category': '지식검색 대화', 'id': 'BK22002427', 'name': '2022 한국어 블렌더봇 데이터 BK22002427', 'topic': '가족과 주거'}, page_content='지인 엄마가 치매라서 장기요양등급 판정 받았다는데, 혹시 장기요양등급에 대해서 아세요?\\n치매가 어느정도인지 판단할 때 내리는 등급을 장기요양등급이라고 하는데, 1등급에서 5등급까지 나누어져 있고, 그 외 인지지원등급이란것도 있어요. 등급을 판단할 때 기준으로 삼는 것은 노인장기요양보험법이예요. 마음이나 신체의 기능에 따라서 일상생활이 어느정도 가능한지, 다른 사람의 도움이 얼마나 필요한것인지를 측정해서 등급을 내려요. 참고로, 가장 심한 등급은 1등급이예요. 지인 엄마는 몇등급 받으셨어요?\\n등급판정 받았다는 말만 들었고, 몇등급인지는 못물어봤어요. 요즘 저희 엄마도 체력이 너무 안좋아지고 자주 깜빡깜빡하시는데, 등급받으면 노인장기요양보험혜택도 있다고 하니까 미리 알아놓으려고 해요.\\n부모님들이 연세 드시면 미리미리 알아놓는게 좋죠. 노인장기요양보험 혜택을 받으려면, 연세가 65세 이상이어야 해요. 65세 미만이 혜택 받을 수 있는 예외가 있는데, 치매 등 노인성 질병으로 6개월 이상 스스로 생활하지 못해서 남의 도움이 필요 하다고 인정되는 경우에만 가능해요. 환자를 간호하거나 목욕시키는 등의 요양 서비스 비용을 지원 받을 수 있어요.\\n치매가 아닌, 노인성 질환으로 거동이 힘든경우에도 혜택이 있는거군요. 나중을 위해 참고해놔야겠어요. 사실, 치매로 등급 받는것보다는 치매에 걸리지 않게 하는게 더 낫긴 하죠.\\n그럼요, 치매에 걸리면 되면 인지능력이 5살 이하 수준까지 내려가요. 그러면, 기억도 잘 못하시고, 사고 능력이 완전 떨어지잖아요. 5살이 된 부모를 바라보는 가족들 마음이 어떻겠어요. TV등에서도 많이 보셔서 알죠?\\n드라마나 건강프로그램에 나오는 것 보면, 본인은 본인대로 힘들고, 가족들도 돌봄에 너무나 힘들어 하더라고요. 치매가 생기는 초기에 발견하면 대처가 좀 더 빠를것 같아요.\\n사실, 치매 초기에는 본인은 물론이고, 가족들도 증상을 알아차리기 쉽지 않아요. 대표적인 치매 질환인 알츠하이머병은 단백질 이상으로 생기는 퇴행성 신경질환인데, 기억력이 나빠지거나 언어 장애같은 치매 증상이 긴 시간에 걸쳐서 서서히 악화되거든요.\\n알츠하이머로 인한 치매 초기에는 단순히 기억이 나빠지는거라, 나이들어서 자연스럽게 퇴화되는거라고 그냥 지나칠 수 있겠어요.\\n그럴수 있죠. 기억력이 뚜렷하게 저하되는 경우에는 경도인지지장애라고 해서 치매가 아닐거라고 생각 할수가 있어요. 경도인지장애로 진단을 받게 되면, 10퍼센트정도가 1년 뒤에 치매로 진단 받아요. 80퍼센트는 6년 이내에 치매에 걸리니까, 경도인지장애인 경우라도 결코 치매에 방심하면 안돼죠.\\n엄마가 자주 깜빡하고 잊어버리시는것 주의 깊게 살펴봐야겠네요. 치매는 이렇게 기억이 자꾸 깜빡거리는 알츠하이머가 대부분인거죠?\\n알츠하이머 외에도 혈관성 치매라는게 있어요. 이것은, 뇌조직이 손상되면서 발생되는데, 손상되기까지 뇌혈관이 반복적으로 막힌적이 있었기 때문에 생기거든요. 혈관성 치매에 걸리면, 치매 증상이 급격하게 나빠져요.\\n알츠하이머는 발견하기 쉽지 않고, 혈관성 치매는 급격해지고 치매 참 어려운 질병이네요. 지금부터라도 치매예방을 위해서 엄마에게 좋은 음식들 해드려야겠어요.\\n어머님은 효녀 두셨네요. 치매를 예방하려면, 항산화성분이 풍부하게 있는 음식이 좋아요. 혈관 건강을 위해서 지방산이 들어 있는 음식들도 좋고요. 그런 음식은 대표적으로 샐러드, 연어, 아보카도, 방울양배추, 두부, 강황 등이 있으니까 이런 음식들 위주로 해주세요.\\n다 채소 위주네요. 채소가 건강에 좋다는 것은 알고 있지만, 구체적으로 치매예방에도 좋을거라고는 생각 못했어요. 주의하거나 피해야할 음식은 따로 없나요?\\n좋은 음식 섭취하는것도 중요하지만, 피해야할 음식을 섭취하지 않는것도 상당히 중요하죠. 치매 예방을 하려면, 단 음식은 먹지 않도록 해야해요. 당뇨병에 걸린 환자는 그렇지 않은 환자보다 치매에 걸릴 확률이 훨씬 높아요. 당뇨 환자가 알츠하이머에 걸릴 위험은 1.6배고, 혈관성치매에 걸릴 위험은 2배나 된다는 연구 결과도 있으니, 단 음식은 절대 피하셔야해요.\\n아, 단 음식이 주는 행복감을 버려야겠군요. 당뇨도 무서운 병인데, 거기에 치매까지 겹치면 정말 힘들어지겠어요.\\n그럼요, 단 음식이 주는 순간의 행복에 소중한 건강을 소홀히 해서는 안돼죠.\\n맞는 말이긴 한데 실천하기가 쉽지는 않을 것 같아요. 운동이 몸에 좋은것 알아도 잘 안되는것처럼요.\\n알아도 잘 실천하기는 정말 어렵죠. 운동이 몸에 좋은 것 아는 것처럼, 치매 예방하려면 유산소 운동을 하면 더 도움이 돼요. 운동 뿐 아니라, 사람들과 자주 만나거나 전화통화 등으로 대화를 많이 하면 뇌신경세포를 자극하게 되고, 이 때 혈류량을 증가 시켜서 치매 예방에 좋아요.\\n대화가 치매 예방에 좋다니, 완전 희소식이예요. 음식이나 운동 권하기는 좀 힘들지만, 제가 수시로 만나서 대화 하는건 자신 있거든요.\\n이렇게 신경써주는 딸이 있어서, 어머니는 치매 안걸리실것 같아요.\\n그렇게 얘기해주시니 기분이 좋네요. 오늘, 궁금했던 내용들 너무 많이 알게 되어서 정말 도움이 많이 되었어요. 감사해요.'), Document(metadata={'category': '지식검색 대화', 'id': 'BK22015146', 'name': '2022 한국어 블렌더봇 데이터 BK22015146', 'topic': '가족과 주거'}, page_content='날씨가 추워져서 그런가 내 동생이 수족냉증으로 고생하더라. 근데 수족냉증은 원인이 뭐야?\\n수족냉증은 원인이 다양해. 혈액순환장애가 가장 흔한 원인이지만, 말초신경 질환, 갑상선 질환, 류머티즘성 질환, 경추와 요추의 협착증이나 디스크 등이 수족냉증을 일으키는 원인 질환일 수도 있어.\\n생각보다 너무 다양한데. 내 동생이라면 그나마 디스크 쪽이 의심되는데, 그럼 반드시 mri검사를 해야 정확한 원인을 알 수 있는 거야?\\n전문가에게 진료를 받고 정말 의심될 경우에만 고가의 검사를 받으면 돼. Ct나 mri 같은 것 말이야. 디스크와 협착증은 비대칭적인 증상 발현이 많고, 경추와 요추 신경의 피부분절 분포 양상에 따라 증상이 발현하거든.\\n그럼 일단 동생을 병원에 데려가서 진료부터 받고 검사를 하든가 해야겠네. 수족냉증은 여자한테 많이 나타난다던데, 그 이유는 뭐야? 내 동생도 여자거든.\\n생리통, 생리불순이 있으면 여성호르몬 분비에 문제가 있거나 생리 때문에 혈액이 부족할 수 있기 때문이야. 혈액순환이 잘 되지 않으니까 신체 말단의 체온이 떨어지는 거지.\\n동생이 생리통이 심한 편이긴 해. 수족냉증을 좀 완화하는 방법은 없을까?\\n있지. 따뜻한 물론 족욕을 하거나 반신욕을 하면 좋아. 또, 근력 운동과 유산소 운동을 꾸준히 해서 기초대사량을 높여 체온을 올리는 방법도 있고.\\n운동이 수족냉증에 도움이 될 줄은 몰랐어. 그런데 우리 엄마도 수족냉증이 있는 편이거든. 수족냉증은 흔한 편이야?\\n흔한 편이지, 우리나라의 12% 인구가 수족냉증을 호소할 정도야. 참고로 수족냉증의 정의는 그다지 춥지 않은 온도에서 손이나 발이 지나치게 차갑다고 느끼는 증상이야.\\n12%라면 정말 많네. 다행히 엄마나 동생이나 아주 심한 편은 아니지만, 혹시 수족냉증이 아니라 다른 질병일 가능성도 있을까?\\n만약 단순히 손발이 차가운 정도가 아니라 손끝과 발끝의 색깔이 변하거나 감각 이상, 통증이 느껴지면 레이노 증후군을 의심해야 해.\\n손발의 색깔이 변한다니, 듣기만 해도 무섭다. 다행히 그렇지는 않은데, 만약 레이노 증후군인 줄 모르고 시간이 지나면 어떻게 돼?\\n만약 증상이 심해진다면 만성적인 감염이 손톱 발톱 주변에 생기거나 또는 손끝에 궤양이 생길 수도 있어.\\n감염이나 궤양이라, 정말 무섭다. 레이노 증후군은 어떻게 치료해?\\n칼슘채널차단제, 프로스타글란딘 등의 약물로 혈관을 확장해줄 수 있어. 만약 효과가 없으면 수술로 혈관을 수축시키는 교감신경을 절제할 수도 있고.\\n교감신경을 절제하다니 생각보다 큰 수술일 것 같아. 엄마랑 동생한테 차 한잔 타줄까 하는데, 수족냉증에 도움이 되는 건 없을까?\\n좋은 생각이야! 생강차가 수족냉증, 배가 차가워져서 발생하는 소화불량, 생리통 완화에 좋아. 생강이 신진대사를 활성화하고, 생강에 있는 진저롤 성분이 혈액순환 촉진을 통해 체온을 높여주거든.\\n소화불량에도 좋다니 효과가 다양하네, 엄마가 소화기관이 좀 안 좋은데 한 번 타줘야겠다. 덕분에 오늘 많이 배웠지만, 나 지금은 좀 가봐야 하는데. 나중에 다시 얘기하자.\\n그래, 동생의 수족냉증이 얼른 완화되었으면 좋겠네. 조심히 가고 나중에 또 봐!')]\n"
     ]
    }
   ],
   "source": [
    "result=rag.retriever.invoke(\"혈관 질환\", top_k=5)\n",
    "print(result)"
   ]
  },
  {
   "cell_type": "code",
   "execution_count": 12,
   "metadata": {},
   "outputs": [
    {
     "name": "stderr",
     "output_type": "stream",
     "text": [
      "문서 점수 계산 중: 3083it [00:00, 173154.96it/s]"
     ]
    },
    {
     "name": "stdout",
     "output_type": "stream",
     "text": [
      "search_with_score 시간: 0.03초\n",
      "(Document(metadata={'score': 0.2582388597224033}, page_content='요즘 입양한 강아지 보는 낙으로 살고 있어요. 새끼 강아지라서 더 그런 것 같은데 얼마나 귀엽고 예쁜지 왜 진작 입양을 안 했을까 하는 생각이 들더라고요.\\n새끼 강아지 정말 귀엽죠. 새끼 강아지 시절은 금방 지나가니까 기억하기 위해서 사진 많이 찍어두시면 좋아요.\\n네, 안 그래도 사진 많이 찍고 있어요. 근데 고민이 하나 있는데 비슷한 개월 수에 같은 견종에 비하면 성장이 너무 느린 것 같아요. 이거 뭔가 문제가 있는 건가요?\\n병원에 방문해 보시는게 좋을 것 같아요. 또래의 같은 견종보다 유독 몸집이 작다면 간문맥전신단락일 가능성이 있거든요. 이 질환이 있다면 강아지의 성장이 느려서 몸집이 작은 특성이 나타나요.\\n간문맥전신단락이라니 이름도 어렵네요. 처음 들어보는데 이게 무슨 질병인가요?\\n강아지가 태아일 때 혈액이 간을 지나치지 않고 곧장 심장으로 갈 수 있도록 하는 우회혈관이 있어요. 본래 자연적으로 닫히는 혈관이지만 닫히지 않은 채로 남아 있어서 생기는 병이에요.\\n그렇군요, 우회혈관이 닫히지 않고 남아있으면 어떤 일이 발생하나요?\\n혈액은 간문맥을 통해 간으로 흘러 해독과정을 거친 후에 심장으로 가게 돼요. 하지만 열려 있는 우회혈관을 타고 혈액이 흐르면 해독과정이 생략되고 이 혈액이 몸을 순환하면서 독성물질이 그대로 심장을 지나서 전신으로 퍼지게 돼요.\\n간문맥을 거쳐야 해독이 된다고 하셨잖아요. 그러면 강아지 몸에 독성물질이 있다는 말씀이신데, 강아지 몸에 어떤 독성물질이 있나요?\\n네, 맞아요. 유독성 물질인 암모니아를 조심해야 해요. 원래라면 간에서 해독되면서 신장을 지나 배출되지만 간문맥전신단락을 앓고 있다면 전신으로 흘러가서 문제가 돼요.\\n암모니아가 특별히 더 문제가 되는 이유가 있나요?\\n암모니아가 뇌혈관으로 유입되면 발작이 발생할 수 있고 멍하니 서 있거나, 제자리에서 빙글빙글 도는 등의 다양한 신경 증상이 나타날 수 있어요.\\n그렇군요, 그렇다면 간문맥전신단락은 어떻게 치료하나요?\\n간문맥전신단락을 치료하려면 기형혈관을 닫아 혈액이 도로 간으로 지나가게 해야 해요. 이를 위해서 아밀로이드 링이나 셀로판 밴드를 이용해 혈관을 닫아주는 수술이 필요하죠.\\n그런 수술을 진행하는군요. 그런데 아밀로이드 링이나 셀로판 밴드를 사용한 수술의 장점이 있나요?\\n아밀로이드 링이나 셀로판 밴드를 사용하면 혈관을 천천히 닫을 수 있어서 갑작스럽게 혈관을 닫아버렸을 때 발생할 수 있는 합병증을 막을 수 있어요.\\n그렇군요, 그런데 아밀로이드 링이나 셀로판 밴드 수술의 차이점이 있나요?\\n네, 두 수술법은 각각 장단점이 달라요. 그 때문에 꼭 수의사와 꼼꼼한 상담 후에 반려견에 맞는 수술법을 결정해야 해요.\\n내일 병원에 방문해서 간문맥전신단락인지 확인 해봐야겠어요. 오늘 좋은 정보 알려주셔서 감사합니다.\\n네, 병원 잘 다녀오시고 다음에 또 봬요.'), Document(metadata={'score': 0.16260481647040226}, page_content='조카가 가와사키병에 걸렸다고 입원해야 한다는 전화를 받았어요. 가와사키병은 저에겐 조금 생소한데, 가와사키가 어떠한 뜻이 있는 일본어 단어인가요?\\n가와사키라는 일본어 단어가 어떠한 뜻이 있는 것은 아니에요. 이 병은 1967년 일본의 소아과의사인 가와사키 도미사쿠가 최초로 발견하게 되면서 이름을 붙인 거예요.\\n이따이이따이병처럼 뜻이 있는 게 아니라 병을 발견한 박사의 이름을 딴 거군요. 저도 아이를 키웠지만 가와사키병은 처음 들어보는데, 어떤 질병인가요?\\n가와사키병은 아이들에게서 발생하는 원인 불명 급성 열성 혈관염이에요. 혈관뿐 아니라 피부나 점막, 임파절 등 온몸에 침범하는 질병이랍니다.\\n급성 혈관염이라면 꽤 심각한 병 아닌가요? 아이들이 자주 걸리는 병인지 아님 희귀병인지 궁금해요.\\n소아 가와사키병은 우리나라에서 매해 4000~5000명이 걸리는 비교적 흔한 질환이랍니다. 가와사키병의 사망률은 0.01%에 불과하여 치료가 잘 되는 질환 중 하나에요.\\n흔한 질환이라면 그나마 다행이네요. 처음에 코로나 증상인 줄 알고 계속 코로나 검사만 받았다는데, 코로나와 가와사키병 증상이 비슷한가요?\\n그럴 만도 한 게, 가와사키병은 기침과 고열 증상이 있기 때문에 코로나와 헷갈릴 수 있어요. 하지만 코로나나 독감은 겨울이나 봄에 감염이 많이 되지만 가와사키는 기온이 높은 여름이나 초가을에 많이 걸린다는 차이점이 있어요. 가와사키병 초기에는 설사나 두통, 복통 증상을 호소하는 경우도 있답니다.\\n정말 증상만 봐서는 코로나인지 독감인지 가와사키병인지 구분하기 어렵겠네요. 그럼 가와사키병에서만 나타나는 전형적인 증상이 있나요?\\n가와사키병의 전형적인 증상은 38.5도 이상의 고열이 지속되거나 눈곱 없이 결막이 충혈되는 경우, 입술이나 혓바닥이 빨개지면서 붓는 딸기 혀 증상이 있어요. 또한 몸이나 BCG 접종을 한 부위에 발진이 생기고 손발이 붓고 붉어지는 증상이 나타난답니다. 목 림프절도 붓는다면 가와사키병을 의심해 보아야 해요.\\n딸기 혀나 결막충혈, 발진 등이 생기면 코로나나 독감보다 가와사키병을 의심해 볼 수 있는 거네요. 그런데 가와사키병은 왜 걸리는 거예요?\\n가와사키병이 왜 걸리는지 그 원인은 아직 정확히 밝혀진 바가 없어요. 바이러스나 용혈사슬알균 등으로 인한 감염성 질환, 유전적인 요소 때문에 발생한다고 추측할 뿐이에요.\\n원인이 명확하지 않으면 예방하는 것도 힘들겠네요. 그럼 의심 증상이 있어 병원에 가면 어떤 검사를 통해 가와사키병을 진단받게 되나요?\\n피검사와 소변 검사 등을 통하여 5가지 증상 가운데 2~3가지만 나타나면 불완전가와사키병, 4가지 이상의 증상이 발현된다면 가와사키병으로 진단하게 돼요.\\n그렇군요. 조카가 몸도 아픈데 여러 검사까지 받느라 힘들었겠어요. 그럼 가와사키병은 어떤 치료를 하게 되나요?\\n가와사키병의 초기에는 면역글로블린과 고용량 아스피린을 투여하게 돼요. 발병한 지 1~2주가 지나면 꼭 심장초음파 검사를 하여 관상동맥의 상태를 파악해야 하는데요. 관상동맥합병증이 없다면 아스피린의 용량을 주로 투여하고 6~8주간의 경과를 지켜보게 된답니다.\\n그렇군요. 며칠 동안 열이 난다고 해서 단순 감기인 줄 알았는데, 가와사키라니 얼마나 걱정했는지 몰라요.\\n그러셨군요. 병원에서 치료받으면 나을 수 있는 병이니 너무 걱정하지 마세요.\\n그렇게 생각해야겠죠? 조카가 퇴원하면 몸에 좋은 음식도 잔뜩 해줘야겠어요. 오늘 도움 주셔서 감사해요.\\n별말씀을요. 아이가 하루빨리 건강해지길 저도 염원할게요. 그럼 다음에 또 이야기 나눠요.'), Document(metadata={'score': 0.1206674154885584}, page_content='지인 엄마가 치매라서 장기요양등급 판정 받았다는데, 혹시 장기요양등급에 대해서 아세요?\\n치매가 어느정도인지 판단할 때 내리는 등급을 장기요양등급이라고 하는데, 1등급에서 5등급까지 나누어져 있고, 그 외 인지지원등급이란것도 있어요. 등급을 판단할 때 기준으로 삼는 것은 노인장기요양보험법이예요. 마음이나 신체의 기능에 따라서 일상생활이 어느정도 가능한지, 다른 사람의 도움이 얼마나 필요한것인지를 측정해서 등급을 내려요. 참고로, 가장 심한 등급은 1등급이예요. 지인 엄마는 몇등급 받으셨어요?\\n등급판정 받았다는 말만 들었고, 몇등급인지는 못물어봤어요. 요즘 저희 엄마도 체력이 너무 안좋아지고 자주 깜빡깜빡하시는데, 등급받으면 노인장기요양보험혜택도 있다고 하니까 미리 알아놓으려고 해요.\\n부모님들이 연세 드시면 미리미리 알아놓는게 좋죠. 노인장기요양보험 혜택을 받으려면, 연세가 65세 이상이어야 해요. 65세 미만이 혜택 받을 수 있는 예외가 있는데, 치매 등 노인성 질병으로 6개월 이상 스스로 생활하지 못해서 남의 도움이 필요 하다고 인정되는 경우에만 가능해요. 환자를 간호하거나 목욕시키는 등의 요양 서비스 비용을 지원 받을 수 있어요.\\n치매가 아닌, 노인성 질환으로 거동이 힘든경우에도 혜택이 있는거군요. 나중을 위해 참고해놔야겠어요. 사실, 치매로 등급 받는것보다는 치매에 걸리지 않게 하는게 더 낫긴 하죠.\\n그럼요, 치매에 걸리면 되면 인지능력이 5살 이하 수준까지 내려가요. 그러면, 기억도 잘 못하시고, 사고 능력이 완전 떨어지잖아요. 5살이 된 부모를 바라보는 가족들 마음이 어떻겠어요. TV등에서도 많이 보셔서 알죠?\\n드라마나 건강프로그램에 나오는 것 보면, 본인은 본인대로 힘들고, 가족들도 돌봄에 너무나 힘들어 하더라고요. 치매가 생기는 초기에 발견하면 대처가 좀 더 빠를것 같아요.\\n사실, 치매 초기에는 본인은 물론이고, 가족들도 증상을 알아차리기 쉽지 않아요. 대표적인 치매 질환인 알츠하이머병은 단백질 이상으로 생기는 퇴행성 신경질환인데, 기억력이 나빠지거나 언어 장애같은 치매 증상이 긴 시간에 걸쳐서 서서히 악화되거든요.\\n알츠하이머로 인한 치매 초기에는 단순히 기억이 나빠지는거라, 나이들어서 자연스럽게 퇴화되는거라고 그냥 지나칠 수 있겠어요.\\n그럴수 있죠. 기억력이 뚜렷하게 저하되는 경우에는 경도인지지장애라고 해서 치매가 아닐거라고 생각 할수가 있어요. 경도인지장애로 진단을 받게 되면, 10퍼센트정도가 1년 뒤에 치매로 진단 받아요. 80퍼센트는 6년 이내에 치매에 걸리니까, 경도인지장애인 경우라도 결코 치매에 방심하면 안돼죠.\\n엄마가 자주 깜빡하고 잊어버리시는것 주의 깊게 살펴봐야겠네요. 치매는 이렇게 기억이 자꾸 깜빡거리는 알츠하이머가 대부분인거죠?\\n알츠하이머 외에도 혈관성 치매라는게 있어요. 이것은, 뇌조직이 손상되면서 발생되는데, 손상되기까지 뇌혈관이 반복적으로 막힌적이 있었기 때문에 생기거든요. 혈관성 치매에 걸리면, 치매 증상이 급격하게 나빠져요.\\n알츠하이머는 발견하기 쉽지 않고, 혈관성 치매는 급격해지고 치매 참 어려운 질병이네요. 지금부터라도 치매예방을 위해서 엄마에게 좋은 음식들 해드려야겠어요.\\n어머님은 효녀 두셨네요. 치매를 예방하려면, 항산화성분이 풍부하게 있는 음식이 좋아요. 혈관 건강을 위해서 지방산이 들어 있는 음식들도 좋고요. 그런 음식은 대표적으로 샐러드, 연어, 아보카도, 방울양배추, 두부, 강황 등이 있으니까 이런 음식들 위주로 해주세요.\\n다 채소 위주네요. 채소가 건강에 좋다는 것은 알고 있지만, 구체적으로 치매예방에도 좋을거라고는 생각 못했어요. 주의하거나 피해야할 음식은 따로 없나요?\\n좋은 음식 섭취하는것도 중요하지만, 피해야할 음식을 섭취하지 않는것도 상당히 중요하죠. 치매 예방을 하려면, 단 음식은 먹지 않도록 해야해요. 당뇨병에 걸린 환자는 그렇지 않은 환자보다 치매에 걸릴 확률이 훨씬 높아요. 당뇨 환자가 알츠하이머에 걸릴 위험은 1.6배고, 혈관성치매에 걸릴 위험은 2배나 된다는 연구 결과도 있으니, 단 음식은 절대 피하셔야해요.\\n아, 단 음식이 주는 행복감을 버려야겠군요. 당뇨도 무서운 병인데, 거기에 치매까지 겹치면 정말 힘들어지겠어요.\\n그럼요, 단 음식이 주는 순간의 행복에 소중한 건강을 소홀히 해서는 안돼죠.\\n맞는 말이긴 한데 실천하기가 쉽지는 않을 것 같아요. 운동이 몸에 좋은것 알아도 잘 안되는것처럼요.\\n알아도 잘 실천하기는 정말 어렵죠. 운동이 몸에 좋은 것 아는 것처럼, 치매 예방하려면 유산소 운동을 하면 더 도움이 돼요. 운동 뿐 아니라, 사람들과 자주 만나거나 전화통화 등으로 대화를 많이 하면 뇌신경세포를 자극하게 되고, 이 때 혈류량을 증가 시켜서 치매 예방에 좋아요.\\n대화가 치매 예방에 좋다니, 완전 희소식이예요. 음식이나 운동 권하기는 좀 힘들지만, 제가 수시로 만나서 대화 하는건 자신 있거든요.\\n이렇게 신경써주는 딸이 있어서, 어머니는 치매 안걸리실것 같아요.\\n그렇게 얘기해주시니 기분이 좋네요. 오늘, 궁금했던 내용들 너무 많이 알게 되어서 정말 도움이 많이 되었어요. 감사해요.'), Document(metadata={'score': 0.07965775617787631}, page_content='날씨가 추워져서 그런가 내 동생이 수족냉증으로 고생하더라. 근데 수족냉증은 원인이 뭐야?\\n수족냉증은 원인이 다양해. 혈액순환장애가 가장 흔한 원인이지만, 말초신경 질환, 갑상선 질환, 류머티즘성 질환, 경추와 요추의 협착증이나 디스크 등이 수족냉증을 일으키는 원인 질환일 수도 있어.\\n생각보다 너무 다양한데. 내 동생이라면 그나마 디스크 쪽이 의심되는데, 그럼 반드시 mri검사를 해야 정확한 원인을 알 수 있는 거야?\\n전문가에게 진료를 받고 정말 의심될 경우에만 고가의 검사를 받으면 돼. Ct나 mri 같은 것 말이야. 디스크와 협착증은 비대칭적인 증상 발현이 많고, 경추와 요추 신경의 피부분절 분포 양상에 따라 증상이 발현하거든.\\n그럼 일단 동생을 병원에 데려가서 진료부터 받고 검사를 하든가 해야겠네. 수족냉증은 여자한테 많이 나타난다던데, 그 이유는 뭐야? 내 동생도 여자거든.\\n생리통, 생리불순이 있으면 여성호르몬 분비에 문제가 있거나 생리 때문에 혈액이 부족할 수 있기 때문이야. 혈액순환이 잘 되지 않으니까 신체 말단의 체온이 떨어지는 거지.\\n동생이 생리통이 심한 편이긴 해. 수족냉증을 좀 완화하는 방법은 없을까?\\n있지. 따뜻한 물론 족욕을 하거나 반신욕을 하면 좋아. 또, 근력 운동과 유산소 운동을 꾸준히 해서 기초대사량을 높여 체온을 올리는 방법도 있고.\\n운동이 수족냉증에 도움이 될 줄은 몰랐어. 그런데 우리 엄마도 수족냉증이 있는 편이거든. 수족냉증은 흔한 편이야?\\n흔한 편이지, 우리나라의 12% 인구가 수족냉증을 호소할 정도야. 참고로 수족냉증의 정의는 그다지 춥지 않은 온도에서 손이나 발이 지나치게 차갑다고 느끼는 증상이야.\\n12%라면 정말 많네. 다행히 엄마나 동생이나 아주 심한 편은 아니지만, 혹시 수족냉증이 아니라 다른 질병일 가능성도 있을까?\\n만약 단순히 손발이 차가운 정도가 아니라 손끝과 발끝의 색깔이 변하거나 감각 이상, 통증이 느껴지면 레이노 증후군을 의심해야 해.\\n손발의 색깔이 변한다니, 듣기만 해도 무섭다. 다행히 그렇지는 않은데, 만약 레이노 증후군인 줄 모르고 시간이 지나면 어떻게 돼?\\n만약 증상이 심해진다면 만성적인 감염이 손톱 발톱 주변에 생기거나 또는 손끝에 궤양이 생길 수도 있어.\\n감염이나 궤양이라, 정말 무섭다. 레이노 증후군은 어떻게 치료해?\\n칼슘채널차단제, 프로스타글란딘 등의 약물로 혈관을 확장해줄 수 있어. 만약 효과가 없으면 수술로 혈관을 수축시키는 교감신경을 절제할 수도 있고.\\n교감신경을 절제하다니 생각보다 큰 수술일 것 같아. 엄마랑 동생한테 차 한잔 타줄까 하는데, 수족냉증에 도움이 되는 건 없을까?\\n좋은 생각이야! 생강차가 수족냉증, 배가 차가워져서 발생하는 소화불량, 생리통 완화에 좋아. 생강이 신진대사를 활성화하고, 생강에 있는 진저롤 성분이 혈액순환 촉진을 통해 체온을 높여주거든.\\n소화불량에도 좋다니 효과가 다양하네, 엄마가 소화기관이 좀 안 좋은데 한 번 타줘야겠다. 덕분에 오늘 많이 배웠지만, 나 지금은 좀 가봐야 하는데. 나중에 다시 얘기하자.\\n그래, 동생의 수족냉증이 얼른 완화되었으면 좋겠네. 조심히 가고 나중에 또 봐!'), Document(metadata={'score': 0.06906604942510382}, page_content='옛날에는 아기를 낳다가 산모 사망 사고가 많았다고 하잖아요. 지금도 출산은 위험한가요?\\n네, 여전히 출산은 위험해요. 현재 우리나라의 영아 사망률은 점차 줄어들고 있고 OECD 평균보다 낮은 수준이에요. 하지만 모성 사망비는 OECD 평균보다 높은 수준으로 엄마와 아이의 건강한 삶을 위한 모자보건사업이 여전히 중요함을 알 수 있죠.\\n의술이 많이 발달해서 출산도 그리 위험하다 느껴지지 않는데 아니었군요. 산모 사망의 원인은 뭔가요?\\n산모에게는 고혈압, 출혈, 감염 이 세 가지가 심각한 3대 질환으로 꼽혀요. 산모 사망 원인의 약 16퍼센트로 고혈압성 질환이 가장 많고 그 다음이 약 13퍼센트 정도되는 출혈이에요.\\n임신 중 고혈압에 대해서는 익히 들어 알고 있는데 출혈의 위험도 상당하군요.\\n산후출혈은 출산 후 24시간 안에 발생하는 1차성이 있고 24시간 이후부터 12주 안에 생기는 2차성으로 구분돼요. 자궁, 산도손상, 자궁수축부전, 잔류태반, 혈액응고장애가 대표적인 원인으로 꼽히고 있고요.\\n산후출혈이 발생한다 해서 모두 사망하는건 아니겠죠?\\n네, 모두 사망하는 것은 아니지만 위험해요. 2009년에서 2018년까지의 산모 사망 숫자는 연평균 49.8명이었어요. 이 중 20퍼센트에서 30퍼센트는 산후출혈이 원인이죠.\\n생각보다 많은 비중을 차지 하네요. 만약 산후출혈이 발생하면 어떤 처치를 받게 되나요?\\n산후출혈이 발생하면 가장 먼저 혈압과 맥박, 산소포화도를 파악해요. 그 다음 출혈 원인을 정확하게 찾기위해 산후출혈의 대표적인 4가지 원인인 자궁수축부전, 자궁 또는 산도손상, 태반관련, 혈액응고장애에 대해서 전문 의료진이 검진을 하게되죠. 원인을 찾아 처치를 했는데도 멈추지 않는다면 시술이나 수술적 치료를 고려할 수 있어요.\\n메뉴얼이 잘 만들어져있어서 다행인 것 같아요. 산모사망에 대해 이야기가 나오면 양수색전증도 많이 거론되는데 이건 산후출혈과 다른건가요?\\n양수색전증도 대량의 출혈을 발생시키지만 원인이 달라요. 출산 중이거나 직후에 자궁 혈관이 터지면서 그 혈관으로 양수가 흘러 들어가 혈관을 막으면서 생기는 질병이에요. 이 과정에서 대량의 출혈이 생기고 호흡곤란, 경련, 심폐정지 등의 증상이 나타날 수 있어요. 심한 경우 산모와 신생아가 사망하기도 하는 무서운 병이죠. 산부인과학회에서는 양수색전증으로 인한 산모 사망률이 약 60퍼센트라고 밝힌 바 있어요.\\n정말 무서운 병이네요. 양수색전증도 빨리 발견하면 살 수 있나요?\\n맞아요. 양수색전증은 초동대처가 중요해요. 분만 중 양수색전증이 발병했다면 골든타임안에 의사가 판단하고 빠르게 대처해야 하죠. 출혈때문에 심장 활동이 위축되면서 위험한 상태에 빠질 수 있기때문에 의사는 빠르게 심폐기능을 회복하는데 집중할거에요.\\n빠른 대처가 생존율을 높이는거네요. 양수색전증을 특별히 조심해야하는 임산부들이 있을까요?\\n몇 가지 위험 요인들이 있어요. 35세 이상의 산모, 제왕절개, 흡입 분만, 전치태반이나 태반조기박리, 임신중독증, 양수과다증, 자궁경부열상, 자궁파열, 태아곤란증 등이 있어요.\\n고려해야하는 부분들이 많네요. 만약 양수색전증이 생겼고 사망을 피한다면 합병증의 위험은 없나요?\\n양수색전증은 산모, 태아 모두에게 치명적이고 사망률도 높아요. 게다가 생명을 잃지 않더라도 예후가 안좋은 경우가 많아요.\\n내가 조심한다고해서 되는 일이 아니니 더 무서운 것 같아요.\\n맞아요. 그러니 응급상황에 잘 대처할 수 있는 병원을 찾아 검진 받고 출산을 준비하는 것이 좋아요.\\n모든 엄마들이 이런 두려움을 이겨내고 출산을 하는 거겠죠? 저도 긍정적인 마음으로 지내야겠어요. 다음에 또 만나요.'))\n"
     ]
    },
    {
     "name": "stderr",
     "output_type": "stream",
     "text": [
      "\n"
     ]
    }
   ],
   "source": [
    "result=rag.retriever.search_with_score(\"혈관 질환\", top_k=5)\n",
    "print(result)"
   ]
  },
  {
   "cell_type": "code",
   "execution_count": 2,
   "metadata": {},
   "outputs": [
    {
     "ename": "NameError",
     "evalue": "name 'rag' is not defined",
     "output_type": "error",
     "traceback": [
      "\u001b[0;31m---------------------------------------------------------------------------\u001b[0m",
      "\u001b[0;31mNameError\u001b[0m                                 Traceback (most recent call last)",
      "Cell \u001b[0;32mIn[2], line 25\u001b[0m\n\u001b[1;32m     18\u001b[0m         \u001b[38;5;28mprint\u001b[39m(\u001b[38;5;124m\"\u001b[39m\u001b[38;5;124m-\u001b[39m\u001b[38;5;124m\"\u001b[39m \u001b[38;5;241m*\u001b[39m \u001b[38;5;241m50\u001b[39m)\n\u001b[1;32m     20\u001b[0m \u001b[38;5;66;03m# 사용 예시\u001b[39;00m\n\u001b[1;32m     21\u001b[0m \u001b[38;5;66;03m# 1. 리트리버의 문서 확인\u001b[39;00m\n\u001b[1;32m     22\u001b[0m \u001b[38;5;66;03m#check_documents(rag.retriever)\u001b[39;00m\n\u001b[1;32m     23\u001b[0m \n\u001b[1;32m     24\u001b[0m \u001b[38;5;66;03m# 2. 리트리버에 간 건강에 대한 질문 테스트\u001b[39;00m\n\u001b[0;32m---> 25\u001b[0m test_retriever_query(\u001b[43mrag\u001b[49m\u001b[38;5;241m.\u001b[39mretriever, \u001b[38;5;124m\"\u001b[39m\u001b[38;5;124m빈 둥지 증후군\u001b[39m\u001b[38;5;124m\"\u001b[39m)\n",
      "\u001b[0;31mNameError\u001b[0m: name 'rag' is not defined"
     ]
    }
   ],
   "source": [
    "# 1. 벡터 DB에 저장된 문서 확인\n",
    "def check_documents(retriever):\n",
    "    print(\"저장된 문서 목록:\")\n",
    "    for doc in retriever.docs:\n",
    "        print(f\"ID: {doc.metadata.get('id')}, Topic: {doc.metadata.get('topic')}\")\n",
    "        print(f\"Content: {doc.page_content[:100]}...\")  # 내용의 일부만 출력\n",
    "        print(\"-\" * 50)\n",
    "\n",
    "# 2. 리트리버의 검색 결과 확인\n",
    "def test_retriever_query(retriever, query):\n",
    "    print(f\"'{query}'에 대한 검색 결과:\")\n",
    "    results = retriever.search_with_score(query, top_k=5)\n",
    "    for i, doc in enumerate(results):\n",
    "        print(f\"Result {i + 1}:\")\n",
    "        print(f\"ID: {doc.metadata.get('id')}, Topic: {doc.metadata.get('topic')}\")\n",
    "        print(f\"Content: {doc.page_content[:100]}...\")  # 내용의 일부만 출력\n",
    "        print(f\"Score: {doc.metadata.get('score')}\")\n",
    "        print(\"-\" * 50)\n",
    "\n",
    "# 사용 예시\n",
    "# 1. 리트리버의 문서 확인\n",
    "#check_documents(rag.retriever)\n",
    "\n",
    "# 2. 리트리버에 간 건강에 대한 질문 테스트\n",
    "test_retriever_query(rag.retriever, \"빈 둥지 증후군\")"
   ]
  },
  {
   "cell_type": "code",
   "execution_count": 1,
   "metadata": {},
   "outputs": [
    {
     "ename": "NameError",
     "evalue": "name 'structured_data' is not defined",
     "output_type": "error",
     "traceback": [
      "\u001b[0;31m---------------------------------------------------------------------------\u001b[0m",
      "\u001b[0;31mNameError\u001b[0m                                 Traceback (most recent call last)",
      "Cell \u001b[0;32mIn[1], line 11\u001b[0m\n\u001b[1;32m      3\u001b[0m \u001b[38;5;66;03m# structured_data를 Document 객체 리스트로 변환\u001b[39;00m\n\u001b[1;32m      4\u001b[0m \u001b[38;5;28;01mfrom\u001b[39;00m \u001b[38;5;21;01mtqdm\u001b[39;00m \u001b[38;5;28;01mimport\u001b[39;00m tqdm  \u001b[38;5;66;03m# tqdm 라이브러리 임포트\u001b[39;00m\n\u001b[1;32m      6\u001b[0m documents \u001b[38;5;241m=\u001b[39m [\n\u001b[1;32m      7\u001b[0m     Document(\n\u001b[1;32m      8\u001b[0m         page_content\u001b[38;5;241m=\u001b[39m\u001b[38;5;28mstr\u001b[39m(data[\u001b[38;5;124m'\u001b[39m\u001b[38;5;124mcontent\u001b[39m\u001b[38;5;124m'\u001b[39m]),  \u001b[38;5;66;03m# 'content' 필드에서 페이지 내용을 문자열로 변환합니다.\u001b[39;00m\n\u001b[1;32m      9\u001b[0m         metadata\u001b[38;5;241m=\u001b[39mdata[\u001b[38;5;124m'\u001b[39m\u001b[38;5;124mmetadata\u001b[39m\u001b[38;5;124m'\u001b[39m]  \u001b[38;5;66;03m# 'metadata' 필드에서 메타데이터를 가져옵니다.\u001b[39;00m\n\u001b[1;32m     10\u001b[0m     )\n\u001b[0;32m---> 11\u001b[0m     \u001b[38;5;28;01mfor\u001b[39;00m data \u001b[38;5;129;01min\u001b[39;00m tqdm(\u001b[43mstructured_data\u001b[49m, desc\u001b[38;5;241m=\u001b[39m\u001b[38;5;124m\"\u001b[39m\u001b[38;5;124m문서 변환 진행 중\u001b[39m\u001b[38;5;124m\"\u001b[39m)  \u001b[38;5;66;03m# tqdm을 사용하여 진행 상황 표시\u001b[39;00m\n\u001b[1;32m     12\u001b[0m ]\n\u001b[1;32m     14\u001b[0m \u001b[38;5;66;03m# 리트리버 생성\u001b[39;00m\n\u001b[1;32m     15\u001b[0m rag_retriever \u001b[38;5;241m=\u001b[39m rag\u001b[38;5;241m.\u001b[39mcreate_retriever(documents, category\u001b[38;5;241m=\u001b[39m\u001b[38;5;124m\"\u001b[39m\u001b[38;5;124m건강\u001b[39m\u001b[38;5;124m\"\u001b[39m, mode\u001b[38;5;241m=\u001b[39m\u001b[38;5;124m'\u001b[39m\u001b[38;5;124mkiwi\u001b[39m\u001b[38;5;124m'\u001b[39m)\n",
      "\u001b[0;31mNameError\u001b[0m: name 'structured_data' is not defined"
     ]
    }
   ],
   "source": [
    "from langchain.schema import Document\n",
    "\n",
    "# structured_data를 Document 객체 리스트로 변환\n",
    "from tqdm import tqdm  # tqdm 라이브러리 임포트\n",
    "\n",
    "documents = [\n",
    "    Document(\n",
    "        page_content=str(data['content']),  # 'content' 필드에서 페이지 내용을 문자열로 변환합니다.\n",
    "        metadata=data['metadata']  # 'metadata' 필드에서 메타데이터를 가져옵니다.\n",
    "    )\n",
    "    for data in tqdm(structured_data, desc=\"문서 변환 진행 중\")  # tqdm을 사용하여 진행 상황 표시\n",
    "]\n",
    "\n",
    "# 리트리버 생성\n",
    "rag_retriever = rag.create_retriever(documents, category=\"건강\", mode='kiwi')\n",
    "print(rag_retriever.invoke(\"가족과 주거에 대해 설명해줘\"))"
   ]
  },
  {
   "cell_type": "code",
   "execution_count": 15,
   "metadata": {},
   "outputs": [],
   "source": [
    "user_info={\n",
    "  \"USER_ID\": 123,\n",
    "  \"NAME\": \"이상하\",\n",
    "  \"age\": 23,\n",
    "  \"GOAL\": \"건강한 몸 만들기\",\n",
    "  \"gender\": \"남성\",\n",
    "  \"JOB\": \"학생\",\n",
    "  \"weight\": 65,\n",
    "  \"height\": 168,\n",
    "  \"workout_frequency\": \"1회 미만\",\n",
    "  \"workout_location\": \"집\",\n",
    "  \"category\": \"건강\",\n",
    "  \"goal\": \"건강한 몸 만들기\",\n",
    "  \"selected_tasks\": [\"식습관\", \"수면습관\", \"운동\", \"기타\"],\n",
    "  \"start_time\": \"07:00\",\n",
    "  \"repeat_days\": [\"월\", \"수\", \"금\"],\n",
    "  \"notification\": \"True\"\n",
    "}"
   ]
  },
  {
   "cell_type": "code",
   "execution_count": null,
   "metadata": {},
   "outputs": [],
   "source": [
    "rag_retriever = rag.create_retriever(structured_data,category=\"건강\",mode='kiwi')\n",
    "print(rag_retriever.invoke(\"가족과 주거에 대해 설명해줘\"))\n"
   ]
  },
  {
   "cell_type": "code",
   "execution_count": 19,
   "metadata": {},
   "outputs": [
    {
     "name": "stdout",
     "output_type": "stream",
     "text": [
      "로컬에서 벡터 저장소 로드 중\n",
      "load_local 시간: 0.14초\n"
     ]
    },
    {
     "name": "stderr",
     "output_type": "stream",
     "text": [
      "/Users/minu/Library/Caches/pypoetry/virtualenvs/langchain-kr-0guSvvrv-py3.11/lib/python3.11/site-packages/pydantic/json_schema.py:2191: PydanticJsonSchemaWarning: Default value default=PydanticUndefined description='사용자를 위한 개인화된 인사말' extra={} is not JSON serializable; excluding default from JSON schema [non-serializable-default]\n",
      "  warnings.warn(message, PydanticJsonSchemaWarning)\n",
      "/Users/minu/Library/Caches/pypoetry/virtualenvs/langchain-kr-0guSvvrv-py3.11/lib/python3.11/site-packages/pydantic/json_schema.py:2191: PydanticJsonSchemaWarning: Default value default='' description='루틴 단계의 제목' extra={} is not JSON serializable; excluding default from JSON schema [non-serializable-default]\n",
      "  warnings.warn(message, PydanticJsonSchemaWarning)\n",
      "/Users/minu/Library/Caches/pypoetry/virtualenvs/langchain-kr-0guSvvrv-py3.11/lib/python3.11/site-packages/pydantic/json_schema.py:2191: PydanticJsonSchemaWarning: Default value default=[] description='세부 실천 단계들' extra={} is not JSON serializable; excluding default from JSON schema [non-serializable-default]\n",
      "  warnings.warn(message, PydanticJsonSchemaWarning)\n",
      "/Users/minu/Library/Caches/pypoetry/virtualenvs/langchain-kr-0guSvvrv-py3.11/lib/python3.11/site-packages/pydantic/json_schema.py:2191: PydanticJsonSchemaWarning: Default value default='0분' description='예상 소요 시간' extra={} is not JSON serializable; excluding default from JSON schema [non-serializable-default]\n",
      "  warnings.warn(message, PydanticJsonSchemaWarning)\n",
      "/Users/minu/Library/Caches/pypoetry/virtualenvs/langchain-kr-0guSvvrv-py3.11/lib/python3.11/site-packages/pydantic/json_schema.py:2191: PydanticJsonSchemaWarning: Default value default='중' description='난이도 (상/중/하)' extra={} is not JSON serializable; excluding default from JSON schema [non-serializable-default]\n",
      "  warnings.warn(message, PydanticJsonSchemaWarning)\n",
      "/Users/minu/Library/Caches/pypoetry/virtualenvs/langchain-kr-0guSvvrv-py3.11/lib/python3.11/site-packages/pydantic/json_schema.py:2191: PydanticJsonSchemaWarning: Default value default='기타' description='카테고리 (운동/식단/학습/취미/생활/기타)' extra={} is not JSON serializable; excluding default from JSON schema [non-serializable-default]\n",
      "  warnings.warn(message, PydanticJsonSchemaWarning)\n",
      "/Users/minu/Library/Caches/pypoetry/virtualenvs/langchain-kr-0guSvvrv-py3.11/lib/python3.11/site-packages/pydantic/json_schema.py:2191: PydanticJsonSchemaWarning: Default value default='' description='실천을 위한 조언이나 팁' extra={} is not JSON serializable; excluding default from JSON schema [non-serializable-default]\n",
      "  warnings.warn(message, PydanticJsonSchemaWarning)\n",
      "/Users/minu/Library/Caches/pypoetry/virtualenvs/langchain-kr-0guSvvrv-py3.11/lib/python3.11/site-packages/pydantic/json_schema.py:2191: PydanticJsonSchemaWarning: Default value default=PydanticUndefined description='추천된 루틴 단계들' extra={} is not JSON serializable; excluding default from JSON schema [non-serializable-default]\n",
      "  warnings.warn(message, PydanticJsonSchemaWarning)\n",
      "/Users/minu/Library/Caches/pypoetry/virtualenvs/langchain-kr-0guSvvrv-py3.11/lib/python3.11/site-packages/pydantic/json_schema.py:2191: PydanticJsonSchemaWarning: Default value description='실천을 위한 조언이나 팁' extra={} is not JSON serializable; excluding default from JSON schema [non-serializable-default]\n",
      "  warnings.warn(message, PydanticJsonSchemaWarning)\n"
     ]
    }
   ],
   "source": [
    "question = \"새해 기념 루틴을 짜워!!\"\n",
    "rag_chain=rag.create_chain(cache_mode='load', local_db=\"./cached_TL_family_housing and social/\", category=\"건강\", mode='kiwi')\n"
   ]
  },
  {
   "cell_type": "code",
   "execution_count": 20,
   "metadata": {},
   "outputs": [
    {
     "ename": "AttributeError",
     "evalue": "'JSONRetrievalChain' object has no attribute 'invoke'",
     "output_type": "error",
     "traceback": [
      "\u001b[0;31m---------------------------------------------------------------------------\u001b[0m",
      "\u001b[0;31mAttributeError\u001b[0m                            Traceback (most recent call last)",
      "Cell \u001b[0;32mIn[20], line 1\u001b[0m\n\u001b[0;32m----> 1\u001b[0m result \u001b[38;5;241m=\u001b[39m \u001b[43mrag_chain\u001b[49m\u001b[38;5;241;43m.\u001b[39;49m\u001b[43minvoke\u001b[49m({\n\u001b[1;32m      2\u001b[0m     \u001b[38;5;124m\"\u001b[39m\u001b[38;5;124mcontext\u001b[39m\u001b[38;5;124m\"\u001b[39m: rag_retriever,\n\u001b[1;32m      3\u001b[0m     \u001b[38;5;124m\"\u001b[39m\u001b[38;5;124mquestion\u001b[39m\u001b[38;5;124m\"\u001b[39m: question,\n\u001b[1;32m      4\u001b[0m     \u001b[38;5;124m\"\u001b[39m\u001b[38;5;124mUSER_ID\u001b[39m\u001b[38;5;124m\"\u001b[39m: user_info\u001b[38;5;241m.\u001b[39mget(\u001b[38;5;124m\"\u001b[39m\u001b[38;5;124mUSER_ID\u001b[39m\u001b[38;5;124m\"\u001b[39m),\n\u001b[1;32m      5\u001b[0m     \u001b[38;5;124m\"\u001b[39m\u001b[38;5;124mNAME\u001b[39m\u001b[38;5;124m\"\u001b[39m: user_info\u001b[38;5;241m.\u001b[39mget(\u001b[38;5;124m\"\u001b[39m\u001b[38;5;124mNAME\u001b[39m\u001b[38;5;124m\"\u001b[39m),\n\u001b[1;32m      6\u001b[0m     \u001b[38;5;124m\"\u001b[39m\u001b[38;5;124mage\u001b[39m\u001b[38;5;124m\"\u001b[39m: user_info\u001b[38;5;241m.\u001b[39mget(\u001b[38;5;124m\"\u001b[39m\u001b[38;5;124mage\u001b[39m\u001b[38;5;124m\"\u001b[39m),\n\u001b[1;32m      7\u001b[0m     \u001b[38;5;124m\"\u001b[39m\u001b[38;5;124mGOAL\u001b[39m\u001b[38;5;124m\"\u001b[39m: user_info\u001b[38;5;241m.\u001b[39mget(\u001b[38;5;124m\"\u001b[39m\u001b[38;5;124mGOAL\u001b[39m\u001b[38;5;124m\"\u001b[39m),\n\u001b[1;32m      8\u001b[0m     \u001b[38;5;124m\"\u001b[39m\u001b[38;5;124mgender\u001b[39m\u001b[38;5;124m\"\u001b[39m: user_info\u001b[38;5;241m.\u001b[39mget(\u001b[38;5;124m\"\u001b[39m\u001b[38;5;124mgender\u001b[39m\u001b[38;5;124m\"\u001b[39m),\n\u001b[1;32m      9\u001b[0m     \u001b[38;5;124m\"\u001b[39m\u001b[38;5;124mJOB\u001b[39m\u001b[38;5;124m\"\u001b[39m: user_info\u001b[38;5;241m.\u001b[39mget(\u001b[38;5;124m\"\u001b[39m\u001b[38;5;124mJOB\u001b[39m\u001b[38;5;124m\"\u001b[39m),\n\u001b[1;32m     10\u001b[0m     \u001b[38;5;124m\"\u001b[39m\u001b[38;5;124mweight\u001b[39m\u001b[38;5;124m\"\u001b[39m: user_info\u001b[38;5;241m.\u001b[39mget(\u001b[38;5;124m\"\u001b[39m\u001b[38;5;124mweight\u001b[39m\u001b[38;5;124m\"\u001b[39m),\n\u001b[1;32m     11\u001b[0m     \u001b[38;5;124m\"\u001b[39m\u001b[38;5;124mheight\u001b[39m\u001b[38;5;124m\"\u001b[39m: user_info\u001b[38;5;241m.\u001b[39mget(\u001b[38;5;124m\"\u001b[39m\u001b[38;5;124mheight\u001b[39m\u001b[38;5;124m\"\u001b[39m),\n\u001b[1;32m     12\u001b[0m     \u001b[38;5;124m\"\u001b[39m\u001b[38;5;124mworkout_frequency\u001b[39m\u001b[38;5;124m\"\u001b[39m: user_info\u001b[38;5;241m.\u001b[39mget(\u001b[38;5;124m\"\u001b[39m\u001b[38;5;124mworkout_frequency\u001b[39m\u001b[38;5;124m\"\u001b[39m),\n\u001b[1;32m     13\u001b[0m     \u001b[38;5;124m\"\u001b[39m\u001b[38;5;124mworkout_location\u001b[39m\u001b[38;5;124m\"\u001b[39m: user_info\u001b[38;5;241m.\u001b[39mget(\u001b[38;5;124m\"\u001b[39m\u001b[38;5;124mworkout_location\u001b[39m\u001b[38;5;124m\"\u001b[39m),\n\u001b[1;32m     14\u001b[0m     \u001b[38;5;124m\"\u001b[39m\u001b[38;5;124mcategory\u001b[39m\u001b[38;5;124m\"\u001b[39m: user_info\u001b[38;5;241m.\u001b[39mget(\u001b[38;5;124m\"\u001b[39m\u001b[38;5;124mcategory\u001b[39m\u001b[38;5;124m\"\u001b[39m),\n\u001b[1;32m     15\u001b[0m     \u001b[38;5;124m\"\u001b[39m\u001b[38;5;124mgoal\u001b[39m\u001b[38;5;124m\"\u001b[39m: user_info\u001b[38;5;241m.\u001b[39mget(\u001b[38;5;124m\"\u001b[39m\u001b[38;5;124mgoal\u001b[39m\u001b[38;5;124m\"\u001b[39m),\n\u001b[1;32m     16\u001b[0m     \u001b[38;5;124m\"\u001b[39m\u001b[38;5;124mselected_tasks\u001b[39m\u001b[38;5;124m\"\u001b[39m: user_info\u001b[38;5;241m.\u001b[39mget(\u001b[38;5;124m\"\u001b[39m\u001b[38;5;124mselected_tasks\u001b[39m\u001b[38;5;124m\"\u001b[39m),\n\u001b[1;32m     17\u001b[0m     \u001b[38;5;124m\"\u001b[39m\u001b[38;5;124mstart_time\u001b[39m\u001b[38;5;124m\"\u001b[39m: user_info\u001b[38;5;241m.\u001b[39mget(\u001b[38;5;124m\"\u001b[39m\u001b[38;5;124mstart_time\u001b[39m\u001b[38;5;124m\"\u001b[39m),\n\u001b[1;32m     18\u001b[0m     \u001b[38;5;124m\"\u001b[39m\u001b[38;5;124mrepeat_days\u001b[39m\u001b[38;5;124m\"\u001b[39m: user_info\u001b[38;5;241m.\u001b[39mget(\u001b[38;5;124m\"\u001b[39m\u001b[38;5;124mrepeat_days\u001b[39m\u001b[38;5;124m\"\u001b[39m),\n\u001b[1;32m     19\u001b[0m     \u001b[38;5;124m\"\u001b[39m\u001b[38;5;124mnotification\u001b[39m\u001b[38;5;124m\"\u001b[39m: user_info\u001b[38;5;241m.\u001b[39mget(\u001b[38;5;124m\"\u001b[39m\u001b[38;5;124mnotification\u001b[39m\u001b[38;5;124m\"\u001b[39m)\n\u001b[1;32m     20\u001b[0m })\n\u001b[1;32m     21\u001b[0m \u001b[38;5;28mprint\u001b[39m(result)\n",
      "\u001b[0;31mAttributeError\u001b[0m: 'JSONRetrievalChain' object has no attribute 'invoke'"
     ]
    }
   ],
   "source": [
    "result = rag_chain.invoke({\n",
    "    \"context\": rag_retriever,\n",
    "    \"question\": question,\n",
    "    \"USER_ID\": user_info.get(\"USER_ID\"),\n",
    "    \"NAME\": user_info.get(\"NAME\"),\n",
    "    \"age\": user_info.get(\"age\"),\n",
    "    \"GOAL\": user_info.get(\"GOAL\"),\n",
    "    \"gender\": user_info.get(\"gender\"),\n",
    "    \"JOB\": user_info.get(\"JOB\"),\n",
    "    \"weight\": user_info.get(\"weight\"),\n",
    "    \"height\": user_info.get(\"height\"),\n",
    "    \"workout_frequency\": user_info.get(\"workout_frequency\"),\n",
    "    \"workout_location\": user_info.get(\"workout_location\"),\n",
    "    \"category\": user_info.get(\"category\"),\n",
    "    \"goal\": user_info.get(\"goal\"),\n",
    "    \"selected_tasks\": user_info.get(\"selected_tasks\"),\n",
    "    \"start_time\": user_info.get(\"start_time\"),\n",
    "    \"repeat_days\": user_info.get(\"repeat_days\")\n",
    "})\n",
    "print(result)"
   ]
  },
  {
   "cell_type": "code",
   "execution_count": null,
   "metadata": {},
   "outputs": [],
   "source": [
    "# result를 md 형태로 출력\n",
    "print(f\"# 인사말\\n{result.greeting}\\n\")\n",
    "print(f\"# 루틴\\n{result.routines}\\n\")\n",
    "print(f\"# 팁\\n{result.tips}\\n\")"
   ]
  },
  {
   "cell_type": "code",
   "execution_count": null,
   "metadata": {},
   "outputs": [],
   "source": [
    "from fastapi import FastAPI\n",
    "import httpx\n",
    "import nest_asyncio\n",
    "\n",
    "nest_asyncio.apply()  # 이벤트 루프 문제 해결\n",
    "\n",
    "app = FastAPI()\n",
    "\n",
    "@app.post(\"/routine/\")\n",
    "async def create_routine(user_info: dict, question: str):\n",
    "    result = rag.chain.invoke({\n",
    "        \"context\": rag_retriever,\n",
    "        \"question\": question,  # POST 요청에서 받은 question 사용\n",
    "        \"USER_ID\": user_info.get(\"USER_ID\"),\n",
    "        \"NAME\": user_info.get(\"NAME\"),\n",
    "        \"age\": user_info.get(\"age\"),\n",
    "        \"GOAL\": user_info.get(\"GOAL\"),\n",
    "        \"gender\": user_info.get(\"gender\"),\n",
    "        \"JOB\": user_info.get(\"JOB\"),\n",
    "        \"weight\": user_info.get(\"weight\"),\n",
    "        \"height\": user_info.get(\"height\"),\n",
    "        \"workout_frequency\": user_info.get(\"workout_frequency\"),\n",
    "        \"workout_location\": user_info.get(\"workout_location\"),\n",
    "        \"category\": user_info.get(\"category\"),\n",
    "        \"goal\": user_info.get(\"goal\"),\n",
    "        \"selected_tasks\": user_info.get(\"selected_tasks\"),\n",
    "        \"start_time\": user_info.get(\"start_time\"),\n",
    "        \"repeat_days\": user_info.get(\"repeat_days\"),\n",
    "        \"notification\": user_info.get(\"notification\")\n",
    "    })\n",
    "    \n",
    "    # API 호출 예시\n",
    "    async with httpx.AsyncClient() as client:\n",
    "        api_response = await client.post(\"http://localhost:8000/routine\", json={\n",
    "            \"greeting\": result.greeting,\n",
    "            \"routines\": [routine.dict() for routine in result.routines],  # RoutineStep을 dict로 변환\n",
    "            \"tips\": result.tips\n",
    "        })\n",
    "    \n",
    "    # API 응답의 원본 텍스트 출력\n",
    "    print(api_response.text)  # 응답의 원본 텍스트 출력\n",
    "\n",
    "    try:\n",
    "        api_response_json = api_response.json()\n",
    "    except ValueError:\n",
    "        api_response_json = {\"error\": \"Invalid JSON response\", \"response_text\": api_response.text}\n",
    "\n",
    "    return {\n",
    "        \"greeting\": result.greeting,\n",
    "        \"routines\": [routine.dict() for routine in result.routines],  # RoutineStep을 dict로 변환\n",
    "        \"tips\": result.tips,\n",
    "        \"api_response\": api_response_json  # API 응답 추가\n",
    "    }\n",
    "\n",
    "import uvicorn\n",
    "\n",
    "if __name__ == \"__main__\":\n",
    "    uvicorn.run(app, host=\"0.0.0.0\", port=8000)"
   ]
  },
  {
   "cell_type": "code",
   "execution_count": 13,
   "metadata": {},
   "outputs": [],
   "source": [
    "\n",
    "from fastapi.middleware.cors import CORSMiddleware\n",
    "\n",
    "app.add_middleware(\n",
    "    CORSMiddleware,\n",
    "    allow_origins=[\"*\"],\n",
    "    allow_methods=[\"*\"],\n",
    "    allow_headers=[\"*\"],\n",
    ")\n"
   ]
  },
  {
   "cell_type": "code",
   "execution_count": null,
   "metadata": {},
   "outputs": [],
   "source": []
  },
  {
   "cell_type": "markdown",
   "metadata": {},
   "source": [
    "### Json_Loader"
   ]
  },
  {
   "cell_type": "code",
   "execution_count": null,
   "metadata": {},
   "outputs": [],
   "source": [
    "import json\n",
    "from langchain.schema import Document\n",
    "from pprint import pprint\n",
    "\n",
    "# JSON 파일 로드 함수 정의\n",
    "def load_json_file(file_path):\n",
    "    with open(file_path, 'r', encoding='utf-8') as file:\n",
    "        return json.load(file)\n",
    "\n",
    "# JSON 데이터 로드\n",
    "data = load_json_file(\"data/dummy_data.json\")\n",
    "\\\n",
    "# 필요한 정보 추출 및 Document 객체 생성\n",
    "docs = [\n",
    "    Document(\n",
    "        page_content=item[\"context\"],\n",
    "        metadata={\n",
    "            \"id\": item[\"id\"],\n",
    "            \"question\": item[\"question\"],\n",
    "            \"age\": item[\"age\"],\n",
    "            \"gender\": item[\"gender\"],\n",
    "            \"Job\": item[\"Job\"],\n",
    "            \"Difficult\": item[\"Difficult\"],\n",
    "            \"goal\": item[\"goal\"]\n",
    "        }\n",
    "    )\n",
    "    for item in data\n",
    "]\n",
    "\n",
    "# 결과 출력\n",
    "pprint(docs)"
   ]
  },
  {
   "cell_type": "markdown",
   "metadata": {},
   "source": [
    "### PDF_Loader"
   ]
  },
  {
   "cell_type": "code",
   "execution_count": 1,
   "metadata": {},
   "outputs": [
    {
     "name": "stdout",
     "output_type": "stream",
     "text": [
      "로컬에서 벡터 저장소 로드 중\n"
     ]
    },
    {
     "ename": "RuntimeError",
     "evalue": "Error in faiss::FileIOReader::FileIOReader(const char *) at /Users/runner/work/faiss-wheels/faiss-wheels/faiss/faiss/impl/io.cpp:68: Error: 'f' failed: could not open cache/index.faiss for reading: No such file or directory",
     "output_type": "error",
     "traceback": [
      "\u001b[0;31m---------------------------------------------------------------------------\u001b[0m",
      "\u001b[0;31mRuntimeError\u001b[0m                              Traceback (most recent call last)",
      "\u001b[0;32m/var/folders/ng/3fkn67lx65g3fmz9qjw7gdp80000gn/T/ipykernel_58437/2112061551.py\u001b[0m in \u001b[0;36m?\u001b[0;34m()\u001b[0m\n\u001b[1;32m      1\u001b[0m \u001b[0;32mfrom\u001b[0m \u001b[0mpdf_rag\u001b[0m\u001b[0;34m.\u001b[0m\u001b[0mpdf\u001b[0m \u001b[0;32mimport\u001b[0m \u001b[0mPDFRetrievalChain\u001b[0m\u001b[0;34m\u001b[0m\u001b[0;34m\u001b[0m\u001b[0m\n\u001b[1;32m      2\u001b[0m \u001b[0;34m\u001b[0m\u001b[0m\n\u001b[1;32m      3\u001b[0m \u001b[0mpdf_chain\u001b[0m \u001b[0;34m=\u001b[0m \u001b[0mPDFRetrievalChain\u001b[0m\u001b[0;34m(\u001b[0m\u001b[0;34m[\u001b[0m\u001b[0;34m\"data/세계보건기구(WHO) 신체활동 권장지침.pdf\"\u001b[0m\u001b[0;34m]\u001b[0m\u001b[0;34m)\u001b[0m\u001b[0;34m\u001b[0m\u001b[0;34m\u001b[0m\u001b[0m\n\u001b[1;32m      4\u001b[0m \u001b[0mpdf_chain\u001b[0m\u001b[0;34m.\u001b[0m\u001b[0mcreate_embedding\u001b[0m\u001b[0;34m(\u001b[0m\u001b[0;34m)\u001b[0m  \u001b[0;31m# cached_embeddings 초기화\u001b[0m\u001b[0;34m\u001b[0m\u001b[0;34m\u001b[0m\u001b[0m\n\u001b[0;32m----> 5\u001b[0;31m \u001b[0mpdf\u001b[0m \u001b[0;34m=\u001b[0m \u001b[0mpdf_chain\u001b[0m\u001b[0;34m.\u001b[0m\u001b[0mcreate_chain\u001b[0m\u001b[0;34m(\u001b[0m\u001b[0;34m)\u001b[0m\u001b[0;34m\u001b[0m\u001b[0;34m\u001b[0m\u001b[0m\n\u001b[0m\u001b[1;32m      6\u001b[0m \u001b[0mpdf_retriever\u001b[0m \u001b[0;34m=\u001b[0m \u001b[0mpdf\u001b[0m\u001b[0;34m.\u001b[0m\u001b[0mretriever\u001b[0m\u001b[0;34m\u001b[0m\u001b[0;34m\u001b[0m\u001b[0m\n\u001b[1;32m      7\u001b[0m \u001b[0mpdf_chain\u001b[0m \u001b[0;34m=\u001b[0m \u001b[0mpdf\u001b[0m\u001b[0;34m.\u001b[0m\u001b[0mchain\u001b[0m\u001b[0;34m\u001b[0m\u001b[0;34m\u001b[0m\u001b[0m\n",
      "\u001b[0;32m~/dev/LADI/LADI_ai/pdf_rag/base.py\u001b[0m in \u001b[0;36m?\u001b[0;34m(self, cache_mode, local_db, category, mode)\u001b[0m\n\u001b[1;32m    311\u001b[0m     \u001b[0;32mdef\u001b[0m \u001b[0mcreate_chain\u001b[0m\u001b[0;34m(\u001b[0m\u001b[0mself\u001b[0m\u001b[0;34m,\u001b[0m \u001b[0mcache_mode\u001b[0m\u001b[0;34m=\u001b[0m\u001b[0;34m'load'\u001b[0m\u001b[0;34m,\u001b[0m \u001b[0mlocal_db\u001b[0m\u001b[0;34m=\u001b[0m\u001b[0;34m\"./cache/\"\u001b[0m\u001b[0;34m,\u001b[0m \u001b[0mcategory\u001b[0m\u001b[0;34m=\u001b[0m\u001b[0;32mNone\u001b[0m\u001b[0;34m,\u001b[0m \u001b[0mmode\u001b[0m\u001b[0;34m=\u001b[0m\u001b[0;34m'dense'\u001b[0m\u001b[0;34m)\u001b[0m\u001b[0;34m:\u001b[0m\u001b[0;34m\u001b[0m\u001b[0;34m\u001b[0m\u001b[0m\n\u001b[1;32m    312\u001b[0m         \u001b[0mdocs\u001b[0m \u001b[0;34m=\u001b[0m \u001b[0mself\u001b[0m\u001b[0;34m.\u001b[0m\u001b[0mload_documents\u001b[0m\u001b[0;34m(\u001b[0m\u001b[0mself\u001b[0m\u001b[0;34m.\u001b[0m\u001b[0msource_uri\u001b[0m\u001b[0;34m)\u001b[0m\u001b[0;34m\u001b[0m\u001b[0;34m\u001b[0m\u001b[0m\n\u001b[1;32m    313\u001b[0m         \u001b[0mtext_splitter\u001b[0m \u001b[0;34m=\u001b[0m \u001b[0mself\u001b[0m\u001b[0;34m.\u001b[0m\u001b[0mcreate_text_splitter\u001b[0m\u001b[0;34m(\u001b[0m\u001b[0;34m)\u001b[0m\u001b[0;34m\u001b[0m\u001b[0;34m\u001b[0m\u001b[0m\n\u001b[1;32m    314\u001b[0m         \u001b[0msplit_docs\u001b[0m \u001b[0;34m=\u001b[0m \u001b[0mself\u001b[0m\u001b[0;34m.\u001b[0m\u001b[0msplit_documents\u001b[0m\u001b[0;34m(\u001b[0m\u001b[0mdocs\u001b[0m\u001b[0;34m,\u001b[0m \u001b[0mtext_splitter\u001b[0m\u001b[0;34m)\u001b[0m\u001b[0;34m\u001b[0m\u001b[0;34m\u001b[0m\u001b[0m\n\u001b[0;32m--> 315\u001b[0;31m         \u001b[0mself\u001b[0m\u001b[0;34m.\u001b[0m\u001b[0mvectorstore\u001b[0m \u001b[0;34m=\u001b[0m \u001b[0mself\u001b[0m\u001b[0;34m.\u001b[0m\u001b[0mcreate_vectorstore\u001b[0m\u001b[0;34m(\u001b[0m\u001b[0msplit_docs\u001b[0m\u001b[0;34m,\u001b[0m \u001b[0mcache_mode\u001b[0m\u001b[0;34m=\u001b[0m\u001b[0mcache_mode\u001b[0m\u001b[0;34m,\u001b[0m \u001b[0mlocal_db\u001b[0m\u001b[0;34m=\u001b[0m\u001b[0mlocal_db\u001b[0m\u001b[0;34m)\u001b[0m\u001b[0;34m\u001b[0m\u001b[0;34m\u001b[0m\u001b[0m\n\u001b[0m\u001b[1;32m    316\u001b[0m         \u001b[0mself\u001b[0m\u001b[0;34m.\u001b[0m\u001b[0mretriever\u001b[0m \u001b[0;34m=\u001b[0m \u001b[0mself\u001b[0m\u001b[0;34m.\u001b[0m\u001b[0mcreate_retriever\u001b[0m\u001b[0;34m(\u001b[0m\u001b[0msplit_docs\u001b[0m\u001b[0;34m,\u001b[0m \u001b[0mcategory\u001b[0m\u001b[0;34m=\u001b[0m\u001b[0mcategory\u001b[0m\u001b[0;34m,\u001b[0m \u001b[0mmode\u001b[0m\u001b[0;34m=\u001b[0m\u001b[0mmode\u001b[0m\u001b[0;34m)\u001b[0m\u001b[0;34m\u001b[0m\u001b[0;34m\u001b[0m\u001b[0m\n\u001b[1;32m    317\u001b[0m         \u001b[0mmodel\u001b[0m \u001b[0;34m=\u001b[0m \u001b[0mself\u001b[0m\u001b[0;34m.\u001b[0m\u001b[0mcreate_model\u001b[0m\u001b[0;34m(\u001b[0m\u001b[0;34m)\u001b[0m\u001b[0;34m\u001b[0m\u001b[0;34m\u001b[0m\u001b[0m\n\u001b[1;32m    318\u001b[0m         \u001b[0mprompt\u001b[0m \u001b[0;34m=\u001b[0m \u001b[0mself\u001b[0m\u001b[0;34m.\u001b[0m\u001b[0mcreate_prompt\u001b[0m\u001b[0;34m(\u001b[0m\u001b[0;34m)\u001b[0m\u001b[0;34m\u001b[0m\u001b[0;34m\u001b[0m\u001b[0m\n",
      "\u001b[0;32m~/dev/LADI/LADI_ai/pdf_rag/base.py\u001b[0m in \u001b[0;36m?\u001b[0;34m(self, split_docs, cache_mode, local_db)\u001b[0m\n\u001b[1;32m    257\u001b[0m \u001b[0;34m\u001b[0m\u001b[0m\n\u001b[1;32m    258\u001b[0m             \u001b[0;32mreturn\u001b[0m \u001b[0mvectorstore\u001b[0m\u001b[0;34m\u001b[0m\u001b[0;34m\u001b[0m\u001b[0m\n\u001b[1;32m    259\u001b[0m         \u001b[0;32melif\u001b[0m \u001b[0mcache_mode\u001b[0m \u001b[0;34m==\u001b[0m \u001b[0;34m'load'\u001b[0m\u001b[0;34m:\u001b[0m\u001b[0;34m\u001b[0m\u001b[0;34m\u001b[0m\u001b[0m\n\u001b[1;32m    260\u001b[0m             \u001b[0mprint\u001b[0m\u001b[0;34m(\u001b[0m\u001b[0;34m\"로컬에서 벡터 저장소 로드 중\"\u001b[0m\u001b[0;34m)\u001b[0m\u001b[0;34m\u001b[0m\u001b[0;34m\u001b[0m\u001b[0m\n\u001b[0;32m--> 261\u001b[0;31m             \u001b[0;32mreturn\u001b[0m \u001b[0mFAISS\u001b[0m\u001b[0;34m.\u001b[0m\u001b[0mload_local\u001b[0m\u001b[0;34m(\u001b[0m\u001b[0mlocal_db\u001b[0m\u001b[0;34m,\u001b[0m \u001b[0mself\u001b[0m\u001b[0;34m.\u001b[0m\u001b[0mcreate_embedding\u001b[0m\u001b[0;34m(\u001b[0m\u001b[0;34m)\u001b[0m\u001b[0;34m,\u001b[0m \u001b[0mallow_dangerous_deserialization\u001b[0m\u001b[0;34m=\u001b[0m\u001b[0;32mTrue\u001b[0m\u001b[0;34m)\u001b[0m\u001b[0;34m\u001b[0m\u001b[0;34m\u001b[0m\u001b[0m\n\u001b[0m\u001b[1;32m    262\u001b[0m         \u001b[0;32melse\u001b[0m\u001b[0;34m:\u001b[0m\u001b[0;34m\u001b[0m\u001b[0;34m\u001b[0m\u001b[0m\n\u001b[1;32m    263\u001b[0m             \u001b[0mprint\u001b[0m\u001b[0;34m(\u001b[0m\u001b[0;34m\"벡터 저장소를 생성중\"\u001b[0m\u001b[0;34m)\u001b[0m\u001b[0;34m\u001b[0m\u001b[0;34m\u001b[0m\u001b[0m\n\u001b[1;32m    264\u001b[0m             return FAISS.from_documents(\n",
      "\u001b[0;32m~/Library/Caches/pypoetry/virtualenvs/langchain-kr-0guSvvrv-py3.11/lib/python3.11/site-packages/langchain_community/vectorstores/faiss.py\u001b[0m in \u001b[0;36m?\u001b[0;34m(cls, folder_path, embeddings, index_name, allow_dangerous_deserialization, **kwargs)\u001b[0m\n\u001b[1;32m   1199\u001b[0m             )\n\u001b[1;32m   1200\u001b[0m         \u001b[0mpath\u001b[0m \u001b[0;34m=\u001b[0m \u001b[0mPath\u001b[0m\u001b[0;34m(\u001b[0m\u001b[0mfolder_path\u001b[0m\u001b[0;34m)\u001b[0m\u001b[0;34m\u001b[0m\u001b[0;34m\u001b[0m\u001b[0m\n\u001b[1;32m   1201\u001b[0m         \u001b[0;31m# load index separately since it is not picklable\u001b[0m\u001b[0;34m\u001b[0m\u001b[0;34m\u001b[0m\u001b[0m\n\u001b[1;32m   1202\u001b[0m         \u001b[0mfaiss\u001b[0m \u001b[0;34m=\u001b[0m \u001b[0mdependable_faiss_import\u001b[0m\u001b[0;34m(\u001b[0m\u001b[0;34m)\u001b[0m\u001b[0;34m\u001b[0m\u001b[0;34m\u001b[0m\u001b[0m\n\u001b[0;32m-> 1203\u001b[0;31m         \u001b[0mindex\u001b[0m \u001b[0;34m=\u001b[0m \u001b[0mfaiss\u001b[0m\u001b[0;34m.\u001b[0m\u001b[0mread_index\u001b[0m\u001b[0;34m(\u001b[0m\u001b[0mstr\u001b[0m\u001b[0;34m(\u001b[0m\u001b[0mpath\u001b[0m \u001b[0;34m/\u001b[0m \u001b[0;34mf\"{index_name}.faiss\"\u001b[0m\u001b[0;34m)\u001b[0m\u001b[0;34m)\u001b[0m\u001b[0;34m\u001b[0m\u001b[0;34m\u001b[0m\u001b[0m\n\u001b[0m\u001b[1;32m   1204\u001b[0m \u001b[0;34m\u001b[0m\u001b[0m\n\u001b[1;32m   1205\u001b[0m         \u001b[0;31m# load docstore and index_to_docstore_id\u001b[0m\u001b[0;34m\u001b[0m\u001b[0;34m\u001b[0m\u001b[0m\n\u001b[1;32m   1206\u001b[0m         \u001b[0;32mwith\u001b[0m \u001b[0mopen\u001b[0m\u001b[0;34m(\u001b[0m\u001b[0mpath\u001b[0m \u001b[0;34m/\u001b[0m \u001b[0;34mf\"{index_name}.pkl\"\u001b[0m\u001b[0;34m,\u001b[0m \u001b[0;34m\"rb\"\u001b[0m\u001b[0;34m)\u001b[0m \u001b[0;32mas\u001b[0m \u001b[0mf\u001b[0m\u001b[0;34m:\u001b[0m\u001b[0;34m\u001b[0m\u001b[0;34m\u001b[0m\u001b[0m\n",
      "\u001b[0;32m~/Library/Caches/pypoetry/virtualenvs/langchain-kr-0guSvvrv-py3.11/lib/python3.11/site-packages/faiss/swigfaiss.py\u001b[0m in \u001b[0;36m?\u001b[0;34m(*args)\u001b[0m\n\u001b[1;32m  10965\u001b[0m \u001b[0;32mdef\u001b[0m \u001b[0mread_index\u001b[0m\u001b[0;34m(\u001b[0m\u001b[0;34m*\u001b[0m\u001b[0margs\u001b[0m\u001b[0;34m)\u001b[0m\u001b[0;34m:\u001b[0m\u001b[0;34m\u001b[0m\u001b[0;34m\u001b[0m\u001b[0m\n\u001b[0;32m> 10966\u001b[0;31m     \u001b[0;32mreturn\u001b[0m \u001b[0m_swigfaiss\u001b[0m\u001b[0;34m.\u001b[0m\u001b[0mread_index\u001b[0m\u001b[0;34m(\u001b[0m\u001b[0;34m*\u001b[0m\u001b[0margs\u001b[0m\u001b[0;34m)\u001b[0m\u001b[0;34m\u001b[0m\u001b[0;34m\u001b[0m\u001b[0m\n\u001b[0m",
      "\u001b[0;31mRuntimeError\u001b[0m: Error in faiss::FileIOReader::FileIOReader(const char *) at /Users/runner/work/faiss-wheels/faiss-wheels/faiss/faiss/impl/io.cpp:68: Error: 'f' failed: could not open cache/index.faiss for reading: No such file or directory"
     ]
    }
   ],
   "source": [
    "from pdf_rag.pdf import PDFRetrievalChain\n",
    "\n",
    "pdf_chain = PDFRetrievalChain([\"data/세계보건기구(WHO) 신체활동 권장지침.pdf\"])\n",
    "pdf_chain.create_embedding()  # cached_embeddings 초기화\n",
    "pdf = pdf_chain.create_chain()\n",
    "pdf_retriever = pdf.retriever\n",
    "pdf_chain = pdf.chain"
   ]
  },
  {
   "cell_type": "code",
   "execution_count": null,
   "metadata": {},
   "outputs": [],
   "source": [
    "pdf_retriever.invoke(\"신체활동 권장지침에 대해 설명해줘\")"
   ]
  },
  {
   "cell_type": "code",
   "execution_count": null,
   "metadata": {},
   "outputs": [],
   "source": [
    "pdf_chain.invoke({\"context\":pdf_retriever,\"question\":\"신체활동 권장지침에 대해 설명해줘\"})\n"
   ]
  },
  {
   "cell_type": "markdown",
   "metadata": {},
   "source": [
    "### Embedding and Vectorstore"
   ]
  },
  {
   "cell_type": "code",
   "execution_count": 25,
   "metadata": {},
   "outputs": [],
   "source": [
    "from langchain.vectorstores import FAISS\n",
    "from langchain.embeddings import HuggingFaceEmbeddings\n",
    "from langchain_upstage import UpstageEmbeddings\n",
    "from langchain.text_splitter import CharacterTextSplitter\n",
    "from langchain_openai import ChatOpenAI\n",
    "from langchain.prompts import PromptTemplate\n",
    "from langchain.storage import LocalFileStore\n",
    "from langchain.embeddings import CacheBackedEmbeddings\n",
    "\n",
    "# 1. 벡터 저장소 생성\n",
    "passage_embeddings = UpstageEmbeddings(model=\"solar-embedding-1-large-query\")\n",
    "\n",
    "\n",
    "fs = LocalFileStore(\"./cache/\")\n",
    "cached_embeddings = CacheBackedEmbeddings.from_bytes_store(\n",
    "    passage_embeddings, fs, namespace=passage_embeddings.model\n",
    ")\n",
    "vectorstore = FAISS(embedding_function=cached_embeddings)\n"
   ]
  },
  {
   "cell_type": "code",
   "execution_count": null,
   "metadata": {},
   "outputs": [],
   "source": []
  },
  {
   "cell_type": "code",
   "execution_count": null,
   "metadata": {},
   "outputs": [],
   "source": []
  },
  {
   "cell_type": "markdown",
   "metadata": {},
   "source": [
    "### text_spliting and add_documents"
   ]
  },
  {
   "cell_type": "code",
   "execution_count": null,
   "metadata": {},
   "outputs": [],
   "source": [
    "\n",
    "\n",
    "# 2. 문서 임베딩 및 저장\n",
    "text_splitter = CharacterTextSplitter(chunk_size=1000, chunk_overlap=0)\n",
    "texts = text_splitter.split_documents(docs)\n",
    "vectorstore.add_documents(texts)\n"
   ]
  },
  {
   "cell_type": "markdown",
   "metadata": {},
   "source": [
    "### 더미 데이터 생성"
   ]
  },
  {
   "cell_type": "markdown",
   "metadata": {},
   "source": [
    "### generate one"
   ]
  },
  {
   "cell_type": "code",
   "execution_count": null,
   "metadata": {},
   "outputs": [],
   "source": [
    "from langchain_openai import ChatOpenAI\n",
    "from pydantic import BaseModel, Field\n",
    "from typing import Optional\n",
    "\n",
    "class SubRoutine(BaseModel):\n",
    "    \"\"\"운동 루틴을 추천합니다.\"\"\"\n",
    "    emoji: str\n",
    "    routineDetail: str\n",
    "    minuteDuration: str\n",
    "\n",
    "llm = ChatOpenAI(model=\"gpt-4o-mini-2024-07-18\", temperature=0,response_format=SubRoutine)\n",
    "response = llm.invoke(\"30분 동안 할 수 있는 운동 루틴을 추천해주세요.\")\n",
    "# structured_llm = llm.with_structured_output(\n",
    "#     SubRoutine,\n",
    "#     method=\"json_schema\",\n",
    "#     include_raw=False,\n",
    "#     strict=True\n",
    "# )\n",
    "\n",
    "# response = structured_llm.invoke(\"30분 동안 할 수 있는 운동 루틴을 추천해주세요.\")\n",
    "import json\n",
    "\n",
    "content = json.loads(response.content)\n",
    "json_response = json.dumps(content, indent=2, ensure_ascii=False)\n",
    "print(json_response)\n",
    "print(type(json_response))\n"
   ]
  },
  {
   "cell_type": "markdown",
   "metadata": {},
   "source": [
    "### LLM Answer"
   ]
  },
  {
   "cell_type": "code",
   "execution_count": 33,
   "metadata": {},
   "outputs": [],
   "source": [
    "from langchain_openai import ChatOpenAI\n",
    "from pydantic import BaseModel, Field\n",
    "from typing import List\n",
    "from langchain_core.output_parsers import JsonOutputParser\n",
    "from langchain.prompts import PromptTemplate\n",
    "\n",
    "# 5. RAG 파이프라인 구축\n",
    "prompt_template = PromptTemplate(\n",
    "    input_variables=[\"context\", \"question\", \"user_id\", \"age\", \"gender\", \"height\", \"weight\", \"goal_id\", \"frequency_id\", \"location_id\", \"start_time\", \"end_time\", \"repeat_days\"],\n",
    "        template=\"\"\"당신은 API 서버입니다.\n",
    "{context}를 참고하여 사용자에 맞는 루틴을 추천해주세요.\n",
    "\n",
    "사용자 정보:\n",
    "- 사용자 ID: {user_id}\n",
    "- 나이: {age}\n",
    "- 성별: {gender} \n",
    "- 신장: {height}cm\n",
    "- 체중: {weight}kg\n",
    "- 운동 목표 ID: {goal_id}\n",
    "- 운동 빈도 ID: {frequency_id}\n",
    "- 선호 운동 장소 ID: {location_id}\n",
    "- 운동 시작 시간: {start_time}\n",
    "- 운동 종료 시간: {end_time}\n",
    "- 반복 요일: {repeat_days}\n",
    "\n",
    "질문: {question}\n",
    "답변:\n",
    "응답 형식\n",
    "{{\n",
    "  \"subRoutine\": {{\n",
    "      \"emoji\": \"이모지\",\n",
    "      \"routineDetail\": \"루틴 설명\", \n",
    "      \"minuteDuration\": \"시간(분 단위)\"\n",
    "  }}\n",
    "}}\n",
    "\"\"\"\n",
    ")\n",
    "\n",
    "retriever = vectorstore.as_retriever()\n",
    "\n",
    "class SubRoutine(BaseModel):\n",
    "    \"\"\"운동 루틴을 추천합니다.\"\"\"\n",
    "    emoji: str = Field(description=\"이모지\")\n",
    "    routineDetail: str = Field(description=\"루틴 설명\")\n",
    "    minuteDuration: str = Field(description=\"시간(분 단위)\")\n",
    "\n",
    "llm = ChatOpenAI(model=\"gpt-4o-mini-2024-07-18\", temperature=0.7)\n",
    "parser = JsonOutputParser(pydantic_object=SubRoutine)\n",
    "from langchain_core.output_parsers import StrOutputParser\n",
    "parser = StrOutputParser()\n",
    "\n",
    "retrieved_docs = retriever.invoke(\"30분 동안 할 수 있는 운동 루틴을 추천해주세요.\")\n"
   ]
  },
  {
   "cell_type": "code",
   "execution_count": null,
   "metadata": {},
   "outputs": [],
   "source": [
    "\n",
    "# RAG 체인 생성\n",
    "from operator import itemgetter\n",
    "chain = (\n",
    "    {\n",
    "        \"question\":itemgetter(\"question\"),\n",
    "        \"context\":itemgetter(\"context\"),\n",
    "        \"age\":itemgetter(\"age\"),\n",
    "        \"gender\":itemgetter(\"gender\"),\n",
    "        \"job\":itemgetter(\"job\"),\n",
    "        \"difficult\":itemgetter(\"difficult\"),\n",
    "        \"goal\":itemgetter(\"goal\")\n",
    "    }\n",
    "    | prompt_template\n",
    "    | llm\n",
    "    | parser\n",
    ")\n",
    "\n",
    "# 결과 생성\n",
    "results = []\n",
    "for i in range(5):\n",
    "\n",
    "    result = chain.invoke(\n",
    "        {\"context\":retrieved_docs,\"question\":\"시험 공부를 위한 목표 달성 루틴 생성해줘\",\n",
    "         \"age\":itemgetter(\"age\"),\"gender\":itemgetter(\"gender\"),\n",
    "         \"job\":itemgetter(\"job\"),\"difficult\":itemgetter(\"difficult\"),\n",
    "         \"goal\":itemgetter(\"goal\")}\n",
    "    )\n",
    "    results.append(result)\n",
    "\n",
    "# 결과 출력\n",
    "for i, result in enumerate(results, 1):\n",
    "    print(f\"Result {i}:\")\n",
    "    print(result)\n",
    "    print()"
   ]
  },
  {
   "cell_type": "code",
   "execution_count": 43,
   "metadata": {},
   "outputs": [],
   "source": [
    "import random\n",
    "from langchain_openai import ChatOpenAI\n",
    "from pydantic import BaseModel, Field\n",
    "from typing import List\n",
    "from langchain_core.output_parsers import JsonOutputParser\n",
    "from langchain.prompts import PromptTemplate\n",
    "from langchain.schema import HumanMessage\n",
    "\n",
    "\n",
    "# 프롬프트 템플릿 수정\n",
    "prompt_template = PromptTemplate(\n",
    "    input_variables=[\"context\", \"question\", \"age\", \"gender\", \"job\", \"difficult\", \"goal\", \"emojis\"],\n",
    "    template=\"\"\"당신은 API 서버입니다.\n",
    "{context}를 참고하여 사용자에 맞는 루틴을 추천해주세요.\n",
    "사용자의 나이는 {age}입니다.\n",
    "사용자의 성별은 {gender}입니다.\n",
    "사용자의 직업은 {job}입니다.\n",
    "사용자의 겪고 있는 어려움은 {difficult}입니다.\n",
    "사용자의 목표는 {goal}입니다.\n",
    "\n",
    "가능한 한 다양하고 창의적인 루틴을 생성해 주세요. 루틴의 내용에 맞는 적절한 이모지를 응답에 포함해주세요.\n",
    "\n",
    "질문: {question}\n",
    "답변:\n",
    "응답 형식\n",
    "{{\n",
    "  \"subRoutine\": [\n",
    "    {{\n",
    "      \"emoji\": \"이모지\",\n",
    "      \"routineDetail\": \"루틴 설명\",\n",
    "      \"minuteDuration\": 시간(분 단위)\n",
    "    }},\n",
    "    ...\n",
    "  ]\n",
    "}}\n",
    "\"\"\"\n",
    ")\n",
    "\n",
    "# LLM 설정 (온도 증가 및 타임아웃 설정)\n",
    "llm = ChatOpenAI(model=\"gpt-4o\", temperature=0.9, request_timeout=30)\n",
    "\n",
    "# 파서 설정\n",
    "class SubRoutineItem(BaseModel):\n",
    "    emoji: str = Field(description=\"이모지\")\n",
    "    routineDetail: str = Field(description=\"루틴 설명\")\n",
    "    minuteDuration: int = Field(description=\"시간(분 단위)\")\n",
    "\n",
    "class SubRoutine(BaseModel):\n",
    "    subRoutine: List[SubRoutineItem]\n",
    "\n",
    "parser = JsonOutputParser(pydantic_object=SubRoutine)\n",
    "\n",
    "# RAG 체인 생성\n",
    "def create_chain():\n",
    "    def chain(input_dict):\n",
    "        prompt = prompt_template.format(\n",
    "            context=input_dict[\"context\"],\n",
    "            question=input_dict[\"question\"],\n",
    "            age=input_dict[\"age\"],\n",
    "            gender=input_dict[\"gender\"],\n",
    "            job=input_dict[\"job\"],\n",
    "            difficult=input_dict[\"difficult\"],\n",
    "            goal=input_dict[\"goal\"]\n",
    "        )\n",
    "        try:\n",
    "            response = llm([HumanMessage(content=prompt)])\n",
    "            if isinstance(response.content, str):\n",
    "                parsed_response = parser.parse(response.content)\n",
    "                return parsed_response\n",
    "            else:\n",
    "                print(f\"Unexpected response type: {type(response.content)}\")\n",
    "                return None\n",
    "        except Exception as e:\n",
    "            print(f\"Error in chain: {e}\")\n",
    "            return None\n",
    "    return chain\n",
    "\n",
    "chain = create_chain()\n",
    "\n",
    "# 결과 생성\n",
    "# 기존에 작성된 부분은 그대로 유지합니다.\n",
    "\n",
    "# ...\n"
   ]
  },
  {
   "cell_type": "code",
   "execution_count": null,
   "metadata": {},
   "outputs": [],
   "source": [
    "\n",
    "# 입력 데이터 리스트 생성\n",
    "input_datas = [\n",
    "    {\n",
    "        \"context\": retrieved_docs,\n",
    "        \"question\": \"요즘 피곤해\",\n",
    "        \"age\": \"20\",\n",
    "        \"gender\": \"남성\",\n",
    "        \"job\": \"학생\",\n",
    "        \"difficult\": \"공부 집중력 부족\",\n",
    "        \"goal\": \"시험에서 좋은 성적 받기\"\n",
    "    },\n",
    "    {\n",
    "        \"context\": retrieved_docs,\n",
    "        \"question\": \"공부에 집중이 안 돼\",\n",
    "        \"age\": \"21\",\n",
    "        \"gender\": \"남성\",\n",
    "        \"job\": \"학생\",\n",
    "        \"difficult\": \"시험 스트레스\",\n",
    "        \"goal\": \"성적 향상\"\n",
    "    },\n",
    "    {\n",
    "        \"context\": retrieved_docs,\n",
    "        \"question\": \"시간 관리가 어려워\",\n",
    "        \"age\": \"22\",\n",
    "        \"gender\": \"남성\",\n",
    "        \"job\": \"학생\",\n",
    "        \"difficult\": \"시간 부족\",\n",
    "        \"goal\": \"효율적인 공부\"\n",
    "    },\n",
    "    {\n",
    "        \"context\": retrieved_docs,\n",
    "        \"question\": \"시험 준비 어떻게 해야 할까?\",\n",
    "        \"age\": \"23\",\n",
    "        \"gender\": \"남성\",\n",
    "        \"job\": \"학생\",\n",
    "        \"difficult\": \"공부 방법 몰라\",\n",
    "        \"goal\": \"시험 합격\"\n",
    "    },\n",
    "    {\n",
    "        \"context\": retrieved_docs,\n",
    "        \"question\": \"집중력이 떨어져\",\n",
    "        \"age\": \"24\",\n",
    "        \"gender\": \"남성\",\n",
    "        \"job\": \"학생\",\n",
    "        \"difficult\": \"집중력 부족\",\n",
    "        \"goal\": \"공부 효율 향상\"\n",
    "    }\n",
    "]\n",
    "\n",
    "# 결과 생성\n",
    "results = []\n",
    "for i, input_data in enumerate(input_datas, 1):\n",
    "    try:\n",
    "        result = chain(input_data)\n",
    "        if result:\n",
    "            results.append(result)\n",
    "    except Exception as e:\n",
    "        print(f\"Error at case {i}: {e}\")\n",
    "        continue\n",
    "\n",
    "# 결과 출력\n",
    "for i, result in enumerate(results, 1):\n",
    "    print(f\"Result {i}:\")\n",
    "    print(result)\n",
    "    print()\n"
   ]
  },
  {
   "cell_type": "code",
   "execution_count": null,
   "metadata": {},
   "outputs": [],
   "source": [
    "\n",
    "# 결과 출력\n",
    "for i, result in enumerate(results, 1):\n",
    "    print(f\"Result {i} {input_datas[i-1]['question']}:\")\n",
    "    print(result)\n",
    "    print()"
   ]
  },
  {
   "cell_type": "code",
   "execution_count": null,
   "metadata": {},
   "outputs": [],
   "source": []
  }
 ],
 "metadata": {
  "kernelspec": {
   "display_name": "langchain-kr-0guSvvrv-py3.11",
   "language": "python",
   "name": "python3"
  },
  "language_info": {
   "codemirror_mode": {
    "name": "ipython",
    "version": 3
   },
   "file_extension": ".py",
   "mimetype": "text/x-python",
   "name": "python",
   "nbconvert_exporter": "python",
   "pygments_lexer": "ipython3",
   "version": "3.11.10"
  }
 },
 "nbformat": 4,
 "nbformat_minor": 2
}
