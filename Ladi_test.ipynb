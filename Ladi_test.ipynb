{
 "cells": [
  {
   "cell_type": "markdown",
   "metadata": {},
   "source": [
    "### Ladi_ai_RAG"
   ]
  },
  {
   "cell_type": "markdown",
   "metadata": {},
   "source": [
    "- API DOCS : http://43.202.173.71:3000/\n",
    "- TASK : 루틴 추천\n",
    "- 루틴 관련 데이터 저장(vectorDB) -> 검색(Retrieve) -> LLM(gpt-4o)의 Context로 사용"
   ]
  },
  {
   "cell_type": "code",
   "execution_count": null,
   "metadata": {},
   "outputs": [],
   "source": []
  },
  {
   "cell_type": "code",
   "execution_count": null,
   "metadata": {},
   "outputs": [],
   "source": [
    "import requests\n",
    "import json\n",
    "\n",
    "# API 엔드포인트 URL\n",
    "api_url = \"http://43.202.173.71:3000/api/endpoint\"  # 실제 엔드포인트 URL로 변경해야 합니다\n",
    "\n",
    "# 요청 데이터\n",
    "request_data = {\n",
    "    \"Difficult\": \"의욕 떨어짐, 목표 너무 큼\",\n",
    "    \"Job\": \"학생\",\n",
    "    \"gender\": \"남성\",\n",
    "    \"age\": 24,\n",
    "    \"goal\": \"꾸준히 운동하기\"\n",
    "}\n",
    "\n",
    "# POST 요청 보내기\n",
    "response = requests.post(api_url, json=request_data)\n",
    "\n",
    "# 응답 처리\n",
    "if response.status_code == 200:\n",
    "    # 성공적인 응답\n",
    "    response_data = response.json()\n",
    "    print(\"API 응답:\")\n",
    "    print(json.dumps(response_data, indent=2, ensure_ascii=False))\n",
    "else:\n",
    "    # 오류 응답\n",
    "    print(f\"오류 발생: {response.status_code}\")\n",
    "    print(response.text)"
   ]
  },
  {
   "cell_type": "code",
   "execution_count": 8,
   "metadata": {},
   "outputs": [
    {
     "name": "stdout",
     "output_type": "stream",
     "text": [
      "오류 발생: 401\n",
      "Unauthorized\n"
     ]
    }
   ],
   "source": [
    "import requests\n",
    "\n",
    "# API 엔드포인트 URL\n",
    "token_url = \"http://43.202.173.71:3000/auth/token\"\n",
    "\n",
    "# 요청 데이터 (필요한 경우 수정)\n",
    "request_data = {\n",
    "    \"username\": \"your_username\",  # 사용자 이름\n",
    "    \"password\": \"your_password\"   # 비밀번호\n",
    "}\n",
    "\n",
    "# POST 요청 보내기\n",
    "response = requests.post(token_url)\n",
    "\n",
    "# 응답 처리\n",
    "if response.status_code == 200:\n",
    "    # 성공적인 응답\n",
    "    token_data = response.json()\n",
    "    print(\"토큰 응답:\")\n",
    "    print(json.dumps(token_data, indent=2, ensure_ascii=False))\n",
    "else:\n",
    "    # 오류 응답\n",
    "    print(f\"오류 발생: {response.status_code}\")\n",
    "    print(response.text)\n"
   ]
  },
  {
   "cell_type": "code",
   "execution_count": 6,
   "metadata": {},
   "outputs": [
    {
     "name": "stdout",
     "output_type": "stream",
     "text": [
      "오류 발생: 401 - Unauthorized\n"
     ]
    }
   ],
   "source": [
    "import requests\n",
    "# response=requests.get('http://43.202.173.71:3000/statistics')\n",
    "# print(response.json())\n",
    "\n",
    "response = requests.get('http://43.202.173.71:3000/statistics')\n",
    "if response.status_code == 200:\n",
    "    try:\n",
    "        data = response.json()\n",
    "    except ValueError:\n",
    "        print(\"응답이 JSON 형식이 아닙니다:\", response.text)\n",
    "else:\n",
    "    print(f\"오류 발생: {response.status_code} - {response.text}\")\n"
   ]
  },
  {
   "cell_type": "code",
   "execution_count": null,
   "metadata": {},
   "outputs": [],
   "source": [
    "from flask import Flask, jsonify\n",
    "import requests\n",
    "\n",
    "app = Flask(__name__)\n",
    "\n",
    "@app.route('/get_statistics', methods=['GET'])\n",
    "def get_statistics():\n",
    "    try:\n",
    "        # localhost:3000/statistics에 GET 요청 보내기\n",
    "        response = requests.get('http://43.202.173.71:3000/statistics')\n",
    "        \n",
    "        # 응답 상태 코드 확인\n",
    "        if response.status_code == 200:\n",
    "            # 성공적으로 데이터를 받아왔을 때\n",
    "            data = response.json()\n",
    "            return jsonify(data), 200\n",
    "        else:\n",
    "            # 오류 발생 시\n",
    "            return jsonify({\"error\": \"외부 API에서 데이터를 가져오는 데 실패했습니다.\"}), response.status_code\n",
    "    \n",
    "    except requests.RequestException as e:\n",
    "        # 네트워크 오류 등 예외 처리\n",
    "        return jsonify({\"error\": f\"요청 중 오류 발생: {str(e)}\"}), 500\n",
    "\n",
    "if __name__ == '__main__':\n",
    "    app.run(debug=True, port=5001)"
   ]
  },
  {
   "cell_type": "code",
   "execution_count": 9,
   "metadata": {},
   "outputs": [],
   "source": [
    "import json\n",
    "import os\n",
    "\n",
    "def load_json_files(directory):\n",
    "    data = []\n",
    "    for filename in os.listdir(directory):\n",
    "        if filename.endswith('.json'):\n",
    "            with open(os.path.join(directory, filename), 'r', encoding='utf-8') as file:\n",
    "                data.extend(json.load(file))\n",
    "    return data\n",
    "\n",
    "json_data = load_json_files('data/')"
   ]
  },
  {
   "cell_type": "code",
   "execution_count": 26,
   "metadata": {},
   "outputs": [
    {
     "name": "stdout",
     "output_type": "stream",
     "text": [
      "[Document(metadata={'id': '1', 'emoji': '🏃', 'miniuteDuration': 5}, page_content='가볍게 5분 걷기'),\n",
      " Document(metadata={'id': '2', 'emoji': '🧘', 'miniuteDuration': 5}, page_content='스트레칭으로 몸 풀기'),\n",
      " Document(metadata={'id': '3', 'emoji': '💪', 'miniuteDuration': 3}, page_content='팔굽혀펴기 10회'),\n",
      " Document(metadata={'id': '4', 'emoji': '🦵', 'miniuteDuration': 5}, page_content='스쿼트 15회'),\n",
      " Document(metadata={'id': '5', 'emoji': '🚶', 'miniuteDuration': 10}, page_content='10분 걷기로 마무리'),\n",
      " Document(metadata={'id': '6', 'emoji': '🧘\\u200d♂️', 'miniuteDuration': 15}, page_content='요가로 몸과 마음 안정시키기'),\n",
      " Document(metadata={'id': '7', 'emoji': '🚴', 'miniuteDuration': 20}, page_content='자전거 타기 20분'),\n",
      " Document(metadata={'id': '8', 'emoji': '🤸', 'miniuteDuration': 2}, page_content='플랭크 1분 유지'),\n",
      " Document(metadata={'id': '9', 'emoji': '🦵', 'miniuteDuration': 5}, page_content='런지 10회'),\n",
      " Document(metadata={'id': '10', 'emoji': '🏃\\u200d♂️', 'miniuteDuration': 15}, page_content='가벼운 조깅 15분')]\n"
     ]
    }
   ],
   "source": [
    "import json\n",
    "from langchain.schema import Document\n",
    "from pprint import pprint\n",
    "\n",
    "# JSON 파일 로드 함수 정의\n",
    "def load_json_file(file_path):\n",
    "    with open(file_path, 'r', encoding='utf-8') as file:\n",
    "        return json.load(file)\n",
    "\n",
    "# JSON 데이터 로드\n",
    "data = load_json_file(\"data/dummy.json\")\n",
    "\n",
    "# 필요한 정보 추출 및 Document 객체 생성\n",
    "docs = [\n",
    "    Document(\n",
    "        page_content=item[\"text\"],\n",
    "        metadata={\n",
    "            \"id\": item[\"id\"],\n",
    "            \"emoji\": item[\"metadata\"].get(\"emoji\"),\n",
    "            \"miniuteDuration\": item[\"metadata\"].get(\"miniuteDuration\")\n",
    "        }\n",
    "    )\n",
    "    for item in data\n",
    "]\n",
    "\n",
    "# 결과 출력\n",
    "pprint(docs)"
   ]
  },
  {
   "cell_type": "code",
   "execution_count": 32,
   "metadata": {},
   "outputs": [],
   "source": [
    "from langchain.vectorstores import Chroma\n",
    "from langchain.embeddings import HuggingFaceEmbeddings\n",
    "from langchain_upstage import UpstageEmbeddings\n",
    "from langchain.text_splitter import CharacterTextSplitter\n",
    "from langchain_openai import ChatOpenAI\n",
    "from langchain.prompts import PromptTemplate\n",
    "\n",
    "# 1. 벡터 저장소 생성\n",
    "passage_embeddings = UpstageEmbeddings(model=\"solar-embedding-1-large-query\")\n",
    "vectorstore = Chroma(embedding_function=passage_embeddings)\n"
   ]
  },
  {
   "cell_type": "code",
   "execution_count": 33,
   "metadata": {},
   "outputs": [
    {
     "data": {
      "text/plain": [
       "['6eb02a76-6a6e-42b8-ad53-bff4a3395cdb',\n",
       " '9329517f-9749-48de-b850-1358193782cc',\n",
       " '2435c6d4-e3fe-4fb1-a251-04ddccfeece9',\n",
       " 'd70f27f9-938a-4177-8937-58624d8c42d8',\n",
       " 'e06d786d-2e2f-4cf6-a06b-e7c814bb9566',\n",
       " 'f2f9fdfd-4a51-470d-95cb-e2e6a753779b',\n",
       " 'dd4b6b7e-177d-4124-94f3-18d8c7f14137',\n",
       " '2f88e5e6-d301-4135-bd62-c38281e6e783',\n",
       " '76b3af85-ba58-4df9-b601-326d57ed9bcd',\n",
       " 'fc15a954-f191-4a57-903c-d34b557c0f2c']"
      ]
     },
     "execution_count": 33,
     "metadata": {},
     "output_type": "execute_result"
    }
   ],
   "source": [
    "from langchain.storage import LocalFileStore\n",
    "from langchain.embeddings import CacheBackedEmbeddings\n",
    "\n",
    "fs = LocalFileStore(\"./cache/\")\n",
    "cached_embeddings = CacheBackedEmbeddings.from_bytes_store(\n",
    "    passage_embeddings, fs, namespace=passage_embeddings.model\n",
    ")\n",
    "\n",
    "# 2. 문서 임베딩 및 저장\n",
    "text_splitter = CharacterTextSplitter(chunk_size=1000, chunk_overlap=0)\n",
    "texts = text_splitter.split_documents(docs)\n",
    "vectorstore.add_documents(texts)\n"
   ]
  },
  {
   "cell_type": "code",
   "execution_count": 42,
   "metadata": {},
   "outputs": [
    {
     "name": "stdout",
     "output_type": "stream",
     "text": [
      "운동 루틴은 개인의 목표와 상황에 맞춰 설계된 운동 계획입니다. 24세 남성 학생인 당신의 경우, 꾸준히 운동하기 위한 루틴을 제안드립니다. 의욕이 떨어지거나 목표가 너무 크다고 느낀다면, 작은 목표를 설정하고 점진적으로 발전하는 것이 중요합니다.\n",
      "\n",
      "### 운동 루틴 제안\n",
      "\n",
      "1. **주 3-4회 운동**: 매일 운동하기보다는 주 3-4회로 시작하여 몸이 적응할 수 있도록 합니다.\n",
      "\n",
      "2. **운동 시간**: 한 번에 30-45분 정도 운동하는 것을 목표로 합니다. 짧은 시간 동안 집중적으로 운동하는 것이 의욕을 유지하는 데 도움이 됩니다.\n",
      "\n",
      "3. **운동 종류**:\n",
      "   - **유산소 운동**: 조깅, 자전거 타기, 수영 등. 주 2-3회, 20-30분 정도.\n",
      "   - **근력 운동**: 체중을 이용한 운동(푸시업, 스쿼트 등)이나 가벼운 덤벨을 이용한 운동. 주 2회, 20-30분 정도.\n",
      "   - **스트레칭**: 운동 전후로 5-10분간 스트레칭을 통해 부상을 예방하고 유연성을 높입니다.\n",
      "\n",
      "4. **목표 설정**: 처음에는 '주 3회 운동하기'와 같은 작은 목표를 설정하고, 이를 달성했을 때 스스로에게 보상을 주는 방식으로 동기를 부여합니다.\n",
      "\n",
      "5. **운동 파트너**: 친구나 동료와 함께 운동하면 서로의 의욕을 북돋아 줄 수 있습니다.\n",
      "\n",
      "6. **일지 작성**: 운동 일지를 작성하여 자신의 진행 상황을 기록하고, 성취감을 느낄 수 있도록 합니다.\n",
      "\n",
      "이러한 루틴을 통해 꾸준히 운동하는 습관을 기르고, 점차 목표를 확장해 나갈 수 있습니다. 중요한 것은 자신에게 맞는 속도로 진행하며, 즐겁게 운동하는 것입니다.\n"
     ]
    }
   ],
   "source": [
    "from langchain_core.output_parsers import StrOutputParser\n",
    "from langchain.prompts import PromptTemplate\n",
    "from langchain_openai import ChatOpenAI\n",
    "\n",
    "# 3. 검색 기능 구현\n",
    "retriever = vectorstore.as_retriever()\n",
    "\n",
    "# 4. LLM 설정 (OpenAI API 키가 필요합니다)\n",
    "model = ChatOpenAI(temperature=0, model_name=\"gpt-4o-mini-2024-07-18\")\n",
    "\n",
    "# 더미 데이터 생성\n",
    "dummy_data = {\n",
    "    \"context\": \"운동 루틴에 대한 정보가 포함된 문서 내용입니다.\",\n",
    "    \"question\": \"운동 루틴에 대해 설명해주세요.\",\n",
    "    \"age\": 24,\n",
    "    \"gender\": \"남성\",\n",
    "    \"Job\": \"학생\",\n",
    "    \"Difficult\": \"의욕 떨어짐, 목표 너무 큼\",\n",
    "    \"goal\": \"꾸준히 운동하기\"\n",
    "}\n",
    "\n",
    "# 5. RAG 파이프라인 구축\n",
    "template = \"\"\"당신은 API 서버입니다.\n",
    "{context}\n",
    "사용자의 나이는 {age}입니다.\n",
    "사용자의 성별은 {gender}입니다.\n",
    "사용자의 직업은 {Job}입니다.\n",
    "사용자의 겪고 있는 어려움은 {Difficult}입니다.\n",
    "사용자의 목표는 {goal}입니다.\n",
    "\n",
    "질문: {question}\n",
    "답변:\"\"\"\n",
    "\n",
    "prompt = PromptTemplate(\n",
    "    template=template,\n",
    "    input_variables=[\"context\", \"question\", \"age\", \"gender\", \"Job\", \"Difficult\", \"goal\"]\n",
    ")\n",
    "\n",
    "# RAG 체인 생성\n",
    "chain = (\n",
    "     prompt\n",
    "    | model\n",
    "    | StrOutputParser()\n",
    ")\n",
    "\n",
    "# 결과 생성\n",
    "result = chain.invoke(dummy_data)\n",
    "\n",
    "# 결과 출력\n",
    "print(result)"
   ]
  },
  {
   "cell_type": "code",
   "execution_count": null,
   "metadata": {},
   "outputs": [],
   "source": []
  }
 ],
 "metadata": {
  "kernelspec": {
   "display_name": "langchain-kr-0guSvvrv-py3.11",
   "language": "python",
   "name": "python3"
  },
  "language_info": {
   "codemirror_mode": {
    "name": "ipython",
    "version": 3
   },
   "file_extension": ".py",
   "mimetype": "text/x-python",
   "name": "python",
   "nbconvert_exporter": "python",
   "pygments_lexer": "ipython3",
   "version": "3.11.10"
  }
 },
 "nbformat": 4,
 "nbformat_minor": 2
}
