{
 "cells": [
  {
   "cell_type": "markdown",
   "metadata": {},
   "source": [
    "### Ladi_ai_RAG"
   ]
  },
  {
   "cell_type": "markdown",
   "metadata": {},
   "source": [
    "- API DOCS : http://43.202.173.71:3000/\n",
    "- TASK : 루틴 추천\n",
    "- 루틴 관련 데이터 저장(vectorDB) -> 검색(Retrieve) -> LLM(gpt-4o)의 Context로 사용"
   ]
  },
  {
   "cell_type": "markdown",
   "metadata": {},
   "source": [
    "## LADI API"
   ]
  },
  {
   "cell_type": "code",
   "execution_count": 23,
   "metadata": {},
   "outputs": [
    {
     "name": "stdout",
     "output_type": "stream",
     "text": [
      "오류 발생: 404\n",
      "<!DOCTYPE html><html><head><title></title><link rel=\"stylesheet\" href=\"/stylesheets/style.css\"></head><body><h1>Not Found</h1><h2>404</h2><pre>NotFoundError: Not Found\n",
      "    at file:///home/ubuntu/life-designer-server/app.js:39:8\n",
      "    at Layer.handle [as handle_request] (/home/ubuntu/life-designer-server/node_modules/express/lib/router/layer.js:95:5)\n",
      "    at trim_prefix (/home/ubuntu/life-designer-server/node_modules/express/lib/router/index.js:317:13)\n",
      "    at /home/ubuntu/life-designer-server/node_modules/express/lib/router/index.js:284:7\n",
      "    at Function.process_params (/home/ubuntu/life-designer-server/node_modules/express/lib/router/index.js:335:12)\n",
      "    at next (/home/ubuntu/life-designer-server/node_modules/express/lib/router/index.js:275:10)\n",
      "    at /home/ubuntu/life-designer-server/node_modules/express/lib/router/index.js:635:15\n",
      "    at next (/home/ubuntu/life-designer-server/node_modules/express/lib/router/index.js:260:14)\n",
      "    at Function.handle (/home/ubuntu/life-designer-server/node_modules/express/lib/router/index.js:174:3)\n",
      "    at router (/home/ubuntu/life-designer-server/node_modules/express/lib/router/index.js:47:12)</pre></body></html>\n"
     ]
    }
   ],
   "source": [
    "import requests\n",
    "import json\n",
    "\n",
    "# API 엔드포인트 URL\n",
    "api_url = \"http://43.202.173.71:3000/api/endpoint\"  # 실제 엔드포인트 URL로 변경해야 합니다\n",
    "\n",
    "# 요청 데이터\n",
    "request_data = {\n",
    "    \"Difficult\": \"의욕 떨어짐, 목표 너무 큼\",\n",
    "    \"Job\": \"학생\",\n",
    "    \"gender\": \"남성\",\n",
    "    \"age\": 24,\n",
    "    \"goal\": \"꾸준히 운동하기\"\n",
    "}\n",
    "\n",
    "# POST 요청 보내기\n",
    "response = requests.post(api_url, json=request_data)\n",
    "\n",
    "# 응답 처리\n",
    "if response.status_code == 200:\n",
    "    # 성공적인 응답\n",
    "    response_data = response.json()\n",
    "    print(\"API 응답:\")\n",
    "    print(json.dumps(response_data, indent=2, ensure_ascii=False))\n",
    "else:\n",
    "    # 오류 응답\n",
    "    print(f\"오류 발생: {response.status_code}\")\n",
    "    print(response.text)"
   ]
  },
  {
   "cell_type": "markdown",
   "metadata": {},
   "source": [
    "### API"
   ]
  },
  {
   "cell_type": "code",
   "execution_count": 3,
   "metadata": {},
   "outputs": [
    {
     "name": "stdout",
     "output_type": "stream",
     "text": [
      "오류 발생: 401\n",
      "Unauthorized\n"
     ]
    }
   ],
   "source": [
    "import requests\n",
    "\n",
    "# API 엔드포인트 URL\n",
    "token_url = \"http://43.202.173.71:3000/auth/token\"\n",
    "\n",
    "# 요청 데이터 (필요한 경우 수정)\n",
    "request_data = {\n",
    "    \"username\": \"your_username\",  # 사용자 이름\n",
    "    \"password\": \"your_password\"   # 비밀번호\n",
    "}\n",
    "\n",
    "# POST 요청 보내기\n",
    "response = requests.post(token_url)\n",
    "\n",
    "# 응답 처리\n",
    "if response.status_code == 200:\n",
    "    # 성공적인 응답\n",
    "    token_data = response.json()\n",
    "    print(\"토큰 응답:\")\n",
    "    print(json.dumps(token_data, indent=2, ensure_ascii=False))\n",
    "else:\n",
    "    # 오류 응답\n",
    "    print(f\"오류 발생: {response.status_code}\")\n",
    "    print(response.text)\n"
   ]
  },
  {
   "cell_type": "code",
   "execution_count": 4,
   "metadata": {},
   "outputs": [
    {
     "name": "stdout",
     "output_type": "stream",
     "text": [
      "오류 발생: 401 - Unauthorized\n"
     ]
    }
   ],
   "source": [
    "import requests\n",
    "# response=requests.get('http://43.202.173.71:3000/statistics')\n",
    "# print(response.json())\n",
    "\n",
    "response = requests.get('http://43.202.173.71:3000/statistics')\n",
    "if response.status_code == 200:\n",
    "    try:\n",
    "        data = response.json()\n",
    "    except ValueError:\n",
    "        print(\"응답이 JSON 형식이 아닙니다:\", response.text)\n",
    "else:\n",
    "    print(f\"오류 발생: {response.status_code} - {response.text}\")\n"
   ]
  },
  {
   "cell_type": "code",
   "execution_count": null,
   "metadata": {},
   "outputs": [],
   "source": [
    "from flask import Flask, jsonify\n",
    "import requests\n",
    "\n",
    "app = Flask(__name__)\n",
    "\n",
    "@app.route('/get_statistics', methods=['GET'])\n",
    "def get_statistics():\n",
    "    try:\n",
    "        # localhost:3000/statistics에 GET 요청 보내기\n",
    "        response = requests.get('http://43.202.173.71:3000/statistics')\n",
    "        \n",
    "        # 응답 상태 코드 확인\n",
    "        if response.status_code == 200:\n",
    "            # 성공적으로 데이터를 받아왔을 때\n",
    "            data = response.json()\n",
    "            return jsonify(data), 200\n",
    "        else:\n",
    "            # 오류 발생 시\n",
    "            return jsonify({\"error\": \"외부 API에서 데이터를 가져오는 데 실패했습니다.\"}), response.status_code\n",
    "    \n",
    "    except requests.RequestException as e:\n",
    "        # 네트워크 오류 등 예외 처리\n",
    "        return jsonify({\"error\": f\"요청 중 오류 발생: {str(e)}\"}), 500\n",
    "\n",
    "if __name__ == '__main__':\n",
    "    app.run(debug=True, port=5001)"
   ]
  },
  {
   "cell_type": "markdown",
   "metadata": {},
   "source": [
    "## RAG Setting"
   ]
  },
  {
   "cell_type": "markdown",
   "metadata": {},
   "source": [
    "### Json_Loader"
   ]
  },
  {
   "cell_type": "code",
   "execution_count": 24,
   "metadata": {},
   "outputs": [
    {
     "name": "stdout",
     "output_type": "stream",
     "text": [
      "[Document(metadata={'id': 1, 'question': '효과적인 운동 방법은 무엇인가요?', 'age': 18, 'gender': '남성', 'Job': '직장인', 'Difficult': '체력 부족, 운동에 대한 두려움', 'goal': '스트레스 해소하기'}, page_content='운동 루틴에 대한 정보가 포함된 문서 내용입니다.'),\n",
      " Document(metadata={'id': 2, 'question': '운동 목표에 맞는 루틴은 무엇인가요?', 'age': 36, 'gender': '남성', 'Job': '프리랜서', 'Difficult': '의욕 떨어짐, 목표 너무 큼', 'goal': '스트레스 해소하기'}, page_content='운동 루틴에 대한 정보가 포함된 문서 내용입니다.'),\n",
      " Document(metadata={'id': 3, 'question': '운동 루틴에 대해 설명해주세요.', 'age': 22, 'gender': '여성', 'Job': '직장인', 'Difficult': '운동 후 피로감', 'goal': '스트레스 해소하기'}, page_content='운동 루틴에 대한 정보가 포함된 문서 내용입니다.'),\n",
      " Document(metadata={'id': 4, 'question': '추천하는 운동 루틴은 무엇인가요?', 'age': 52, 'gender': '남성', 'Job': '주부', 'Difficult': '운동에 대한 정보 부족', 'goal': '스트레스 해소하기'}, page_content='효과적인 운동 방법에 대한 정보입니다.'),\n",
      " Document(metadata={'id': 5, 'question': '추천하는 운동 루틴은 무엇인가요?', 'age': 38, 'gender': '남성', 'Job': '학생', 'Difficult': '운동 후 피로감', 'goal': '스트레스 해소하기'}, page_content='운동을 통해 건강을 유지하는 방법입니다.'),\n",
      " Document(metadata={'id': 6, 'question': '효과적인 운동 방법은 무엇인가요?', 'age': 20, 'gender': '남성', 'Job': '프리랜서', 'Difficult': '의욕 떨어짐, 목표 너무 큼', 'goal': '근력 키우기'}, page_content='운동 루틴에 대한 정보가 포함된 문서 내용입니다.'),\n",
      " Document(metadata={'id': 7, 'question': '효과적인 운동 방법은 무엇인가요?', 'age': 18, 'gender': '남성', 'Job': '주부', 'Difficult': '체력 부족, 운동에 대한 두려움', 'goal': '유연성 향상하기'}, page_content='운동 목표에 맞는 루틴을 제안합니다.'),\n",
      " Document(metadata={'id': 8, 'question': '효과적인 운동 방법은 무엇인가요?', 'age': 38, 'gender': '여성', 'Job': '주부', 'Difficult': '운동 후 피로감', 'goal': '근력 키우기'}, page_content='운동 루틴에 대한 정보가 포함된 문서 내용입니다.'),\n",
      " Document(metadata={'id': 9, 'question': '어떤 운동을 해야 할까요?', 'age': 34, 'gender': '남성', 'Job': '주부', 'Difficult': '의욕 떨어짐, 목표 너무 큼', 'goal': '유연성 향상하기'}, page_content='운동 목표에 맞는 루틴을 제안합니다.'),\n",
      " Document(metadata={'id': 10, 'question': '운동 목표에 맞는 루틴은 무엇인가요?', 'age': 56, 'gender': '남성', 'Job': '직장인', 'Difficult': '의욕 떨어짐, 목표 너무 큼', 'goal': '스트레스 해소하기'}, page_content='다양한 운동 루틴을 추천합니다.'),\n",
      " Document(metadata={'id': 11, 'question': '추천하는 운동 루틴은 무엇인가요?', 'age': 21, 'gender': '남성', 'Job': '직장인', 'Difficult': '의욕 떨어짐, 목표 너무 큼', 'goal': '꾸준히 운동하기'}, page_content='운동을 통해 건강을 유지하는 방법입니다.'),\n",
      " Document(metadata={'id': 12, 'question': '어떤 운동을 해야 할까요?', 'age': 44, 'gender': '남성', 'Job': '프리랜서', 'Difficult': '운동 후 피로감', 'goal': '근력 키우기'}, page_content='다양한 운동 루틴을 추천합니다.'),\n",
      " Document(metadata={'id': 13, 'question': '추천하는 운동 루틴은 무엇인가요?', 'age': 42, 'gender': '남성', 'Job': '주부', 'Difficult': '운동 후 피로감', 'goal': '꾸준히 운동하기'}, page_content='운동 루틴에 대한 정보가 포함된 문서 내용입니다.'),\n",
      " Document(metadata={'id': 14, 'question': '효과적인 운동 방법은 무엇인가요?', 'age': 22, 'gender': '남성', 'Job': '주부', 'Difficult': '시간 부족, 운동 습관 없음', 'goal': '스트레스 해소하기'}, page_content='운동 루틴에 대한 정보가 포함된 문서 내용입니다.'),\n",
      " Document(metadata={'id': 15, 'question': '운동 루틴에 대해 설명해주세요.', 'age': 22, 'gender': '남성', 'Job': '프리랜서', 'Difficult': '체력 부족, 운동에 대한 두려움', 'goal': '체중 감량하기'}, page_content='운동 목표에 맞는 루틴을 제안합니다.'),\n",
      " Document(metadata={'id': 16, 'question': '효과적인 운동 방법은 무엇인가요?', 'age': 36, 'gender': '여성', 'Job': '주부', 'Difficult': '운동에 대한 정보 부족', 'goal': '유연성 향상하기'}, page_content='효과적인 운동 방법에 대한 정보입니다.'),\n",
      " Document(metadata={'id': 17, 'question': '운동 목표에 맞는 루틴은 무엇인가요?', 'age': 48, 'gender': '여성', 'Job': '프리랜서', 'Difficult': '운동 후 피로감', 'goal': '꾸준히 운동하기'}, page_content='운동 목표에 맞는 루틴을 제안합니다.'),\n",
      " Document(metadata={'id': 18, 'question': '추천하는 운동 루틴은 무엇인가요?', 'age': 18, 'gender': '여성', 'Job': '프리랜서', 'Difficult': '시간 부족, 운동 습관 없음', 'goal': '꾸준히 운동하기'}, page_content='효과적인 운동 방법에 대한 정보입니다.'),\n",
      " Document(metadata={'id': 19, 'question': '운동 루틴에 대해 설명해주세요.', 'age': 18, 'gender': '남성', 'Job': '주부', 'Difficult': '운동 후 피로감', 'goal': '근력 키우기'}, page_content='효과적인 운동 방법에 대한 정보입니다.'),\n",
      " Document(metadata={'id': 20, 'question': '운동 루틴에 대해 설명해주세요.', 'age': 56, 'gender': '여성', 'Job': '직장인', 'Difficult': '운동 후 피로감', 'goal': '스트레스 해소하기'}, page_content='운동 루틴에 대한 정보가 포함된 문서 내용입니다.')]\n"
     ]
    }
   ],
   "source": [
    "import json\n",
    "from langchain.schema import Document\n",
    "from pprint import pprint\n",
    "\n",
    "# JSON 파일 로드 함수 정의\n",
    "def load_json_file(file_path):\n",
    "    with open(file_path, 'r', encoding='utf-8') as file:\n",
    "        return json.load(file)\n",
    "\n",
    "# JSON 데이터 로드\n",
    "data = load_json_file(\"data/dummy_data.json\")\n",
    "\\\n",
    "# 필요한 정보 추출 및 Document 객체 생성\n",
    "docs = [\n",
    "    Document(\n",
    "        page_content=item[\"context\"],\n",
    "        metadata={\n",
    "            \"id\": item[\"id\"],\n",
    "            \"question\": item[\"question\"],\n",
    "            \"age\": item[\"age\"],\n",
    "            \"gender\": item[\"gender\"],\n",
    "            \"Job\": item[\"Job\"],\n",
    "            \"Difficult\": item[\"Difficult\"],\n",
    "            \"goal\": item[\"goal\"]\n",
    "        }\n",
    "    )\n",
    "    for item in data\n",
    "]\n",
    "\n",
    "# 결과 출력\n",
    "pprint(docs)"
   ]
  },
  {
   "cell_type": "markdown",
   "metadata": {},
   "source": [
    "### Embedding and Vectorstore"
   ]
  },
  {
   "cell_type": "code",
   "execution_count": 25,
   "metadata": {},
   "outputs": [],
   "source": [
    "from langchain.vectorstores import Chroma\n",
    "from langchain.embeddings import HuggingFaceEmbeddings\n",
    "from langchain_upstage import UpstageEmbeddings\n",
    "from langchain.text_splitter import CharacterTextSplitter\n",
    "from langchain_openai import ChatOpenAI\n",
    "from langchain.prompts import PromptTemplate\n",
    "\n",
    "# 1. 벡터 저장소 생성\n",
    "passage_embeddings = UpstageEmbeddings(model=\"solar-embedding-1-large-query\")\n",
    "vectorstore = Chroma(embedding_function=passage_embeddings)\n"
   ]
  },
  {
   "cell_type": "markdown",
   "metadata": {},
   "source": [
    "### text_spliting and add_documents"
   ]
  },
  {
   "cell_type": "code",
   "execution_count": 26,
   "metadata": {},
   "outputs": [
    {
     "data": {
      "text/plain": [
       "['64ac78f6-0126-44cb-bdc3-5e67663b1378',\n",
       " '80fd2f05-096f-4a06-bb78-9c6c6785f200',\n",
       " 'b54b10ac-8dc2-4b2b-a553-ae1e9cc60010',\n",
       " '745df946-2dbb-4eeb-9c66-3081565698bb',\n",
       " '11f85b26-8e8e-4eeb-ae40-69555594f95a',\n",
       " '20eec00d-59fe-4d50-a381-ede4ced25693',\n",
       " 'ce288103-baf2-4bfd-a4b5-2624ff142d9f',\n",
       " '81815b5a-b58f-435b-a646-b4aa5491cca2',\n",
       " 'ef0370c0-4895-4b9b-8284-78b186ed6ccf',\n",
       " 'c3a6bc51-60e7-434c-94f1-8addb79f414a',\n",
       " '82649352-fe66-49d0-ae3c-d97e901ba3d1',\n",
       " '548d03fe-40d4-4b62-b49f-becf89452b60',\n",
       " '47febfa4-ae80-4d0a-b4bd-d6db37381c9a',\n",
       " '71bd1e6d-aee7-4b59-9dc4-5a687b3e6a15',\n",
       " '72728908-f14e-4eff-8e53-34db1b3dc3a6',\n",
       " '7acc7140-ee38-4719-9201-39031e6a7ec5',\n",
       " '7fe86e3a-3c4c-4544-b7ce-405b6610fc5b',\n",
       " '6800a60f-acab-4ddd-8269-b386ac936070',\n",
       " 'e984c5c8-f51c-4d67-9bd8-be743710c2b1',\n",
       " '25d44ddd-5438-41b4-a8b6-71c2de38ac05']"
      ]
     },
     "execution_count": 26,
     "metadata": {},
     "output_type": "execute_result"
    }
   ],
   "source": [
    "from langchain.storage import LocalFileStore\n",
    "from langchain.embeddings import CacheBackedEmbeddings\n",
    "\n",
    "fs = LocalFileStore(\"./cache/\")\n",
    "cached_embeddings = CacheBackedEmbeddings.from_bytes_store(\n",
    "    passage_embeddings, fs, namespace=passage_embeddings.model\n",
    ")\n",
    "\n",
    "# 2. 문서 임베딩 및 저장\n",
    "text_splitter = CharacterTextSplitter(chunk_size=1000, chunk_overlap=0)\n",
    "texts = text_splitter.split_documents(docs)\n",
    "vectorstore.add_documents(texts)\n"
   ]
  },
  {
   "cell_type": "markdown",
   "metadata": {},
   "source": [
    "### 더미 데이터 생성"
   ]
  },
  {
   "cell_type": "code",
   "execution_count": 42,
   "metadata": {},
   "outputs": [
    {
     "name": "stdout",
     "output_type": "stream",
     "text": [
      "더미 데이터가 'dummy_data.json' 파일로 저장되었습니다.\n"
     ]
    }
   ],
   "source": [
    "import json\n",
    "import random\n",
    "\n",
    "# 더미 데이터 생성 함수\n",
    "def generate_dummy_data():\n",
    "    contexts = [\n",
    "        \"운동 루틴에 대한 정보가 포함된 문서 내용입니다.\",\n",
    "        \"다양한 운동 루틴을 추천합니다.\",\n",
    "        \"운동 목표에 맞는 루틴을 제안합니다.\",\n",
    "        \"효과적인 운동 방법에 대한 정보입니다.\",\n",
    "        \"운동을 통해 건강을 유지하는 방법입니다.\"\n",
    "    ]\n",
    "    \n",
    "    questions = [\n",
    "        \"운동 루틴에 대해 설명해주세요.\",\n",
    "        \"추천하는 운동 루틴은 무엇인가요?\",\n",
    "        \"어떤 운동을 해야 할까요?\",\n",
    "        \"운동 목표에 맞는 루틴은 무엇인가요?\",\n",
    "        \"효과적인 운동 방법은 무엇인가요?\"\n",
    "    ]\n",
    "    \n",
    "    ages = [random.randint(18, 60) for _ in range(20)]\n",
    "    genders = [\"남성\", \"여성\"]\n",
    "    jobs = [\"학생\", \"직장인\", \"주부\", \"프리랜서\"]\n",
    "    difficulties = [\n",
    "        \"의욕 떨어짐, 목표 너무 큼\",\n",
    "        \"시간 부족, 운동 습관 없음\",\n",
    "        \"운동에 대한 정보 부족\",\n",
    "        \"체력 부족, 운동에 대한 두려움\",\n",
    "        \"운동 후 피로감\"\n",
    "    ]\n",
    "    goals = [\n",
    "        \"꾸준히 운동하기\",\n",
    "        \"체중 감량하기\",\n",
    "        \"근력 키우기\",\n",
    "        \"유연성 향상하기\",\n",
    "        \"스트레스 해소하기\"\n",
    "    ]\n",
    "    \n",
    "    dummy_data_list = []\n",
    "    \n",
    "    for i in range(20):\n",
    "        dummy_data = {\n",
    "            \"id\": i + 1,  # id 추가\n",
    "            \"context\": random.choice(contexts),\n",
    "            \"question\": random.choice(questions),\n",
    "            \"age\": random.choice(ages),\n",
    "            \"gender\": random.choice(genders),\n",
    "            \"Job\": random.choice(jobs),\n",
    "            \"Difficult\": random.choice(difficulties),\n",
    "            \"goal\": random.choice(goals)\n",
    "        }\n",
    "        dummy_data_list.append(dummy_data)\n",
    "    \n",
    "    return dummy_data_list\n",
    "\n",
    "# 더미 데이터 생성\n",
    "dummy_data_list = generate_dummy_data()\n",
    "\n",
    "# JSON 파일로 저장\n",
    "with open('dummy_data.json', 'w', encoding='utf-8') as json_file:\n",
    "    json.dump(dummy_data_list, json_file, ensure_ascii=False, indent=2)\n",
    "\n",
    "print(\"더미 데이터가 'dummy_data.json' 파일로 저장되었습니다.\")"
   ]
  },
  {
   "cell_type": "markdown",
   "metadata": {},
   "source": [
    "### generate one"
   ]
  },
  {
   "cell_type": "code",
   "execution_count": 5,
   "metadata": {},
   "outputs": [
    {
     "name": "stderr",
     "output_type": "stream",
     "text": [
      "/Users/minu/Library/Caches/pypoetry/virtualenvs/langchain-kr-0guSvvrv-py3.11/lib/python3.11/site-packages/IPython/core/interactiveshell.py:3577: UserWarning: WARNING! function_map is not default parameter.\n",
      "                function_map was transferred to model_kwargs.\n",
      "                Please confirm that function_map is what you intended.\n",
      "  exec(code_obj, self.user_global_ns, self.user_ns)\n"
     ]
    },
    {
     "ename": "KeyError",
     "evalue": "'Input to PromptTemplate is missing variables {\\'\\\\n  \"subRoutine\"\\'}.  Expected: [\\'\\\\n  \"subRoutine\"\\', \\'Difficult\\', \\'Job\\', \\'age\\', \\'context\\', \\'gender\\', \\'goal\\', \\'question\\'] Received: [\\'context\\', \\'question\\', \\'age\\', \\'gender\\', \\'Job\\', \\'Difficult\\', \\'goal\\']\\nNote: if you intended {\\n  \"subRoutine\"} to be part of the string and not a variable, please escape it with double curly braces like: \\'{{\\n  \"subRoutine\"}}\\'.'",
     "output_type": "error",
     "traceback": [
      "\u001b[0;31m---------------------------------------------------------------------------\u001b[0m",
      "\u001b[0;31mKeyError\u001b[0m                                  Traceback (most recent call last)",
      "Cell \u001b[0;32mIn[10], line 71\u001b[0m\n\u001b[1;32m     64\u001b[0m chain \u001b[38;5;241m=\u001b[39m (\n\u001b[1;32m     65\u001b[0m      prompt\n\u001b[1;32m     66\u001b[0m     \u001b[38;5;241m|\u001b[39m model\n\u001b[1;32m     67\u001b[0m     \u001b[38;5;241m|\u001b[39m StrOutputParser()\n\u001b[1;32m     68\u001b[0m )\n\u001b[1;32m     70\u001b[0m \u001b[38;5;66;03m# 결과 생성\u001b[39;00m\n\u001b[0;32m---> 71\u001b[0m result \u001b[38;5;241m=\u001b[39m \u001b[43mchain\u001b[49m\u001b[38;5;241;43m.\u001b[39;49m\u001b[43minvoke\u001b[49m\u001b[43m(\u001b[49m\u001b[43mdummy_data\u001b[49m\u001b[43m,\u001b[49m\u001b[43m)\u001b[49m\n\u001b[1;32m     73\u001b[0m \u001b[38;5;66;03m# 결과 출력\u001b[39;00m\n\u001b[1;32m     74\u001b[0m \u001b[38;5;28mprint\u001b[39m(result)\n",
      "File \u001b[0;32m~/Library/Caches/pypoetry/virtualenvs/langchain-kr-0guSvvrv-py3.11/lib/python3.11/site-packages/langchain_core/runnables/base.py:2877\u001b[0m, in \u001b[0;36mRunnableSequence.invoke\u001b[0;34m(self, input, config, **kwargs)\u001b[0m\n\u001b[1;32m   2875\u001b[0m context\u001b[38;5;241m.\u001b[39mrun(_set_config_context, config)\n\u001b[1;32m   2876\u001b[0m \u001b[38;5;28;01mif\u001b[39;00m i \u001b[38;5;241m==\u001b[39m \u001b[38;5;241m0\u001b[39m:\n\u001b[0;32m-> 2877\u001b[0m     \u001b[38;5;28minput\u001b[39m \u001b[38;5;241m=\u001b[39m \u001b[43mcontext\u001b[49m\u001b[38;5;241;43m.\u001b[39;49m\u001b[43mrun\u001b[49m\u001b[43m(\u001b[49m\u001b[43mstep\u001b[49m\u001b[38;5;241;43m.\u001b[39;49m\u001b[43minvoke\u001b[49m\u001b[43m,\u001b[49m\u001b[43m \u001b[49m\u001b[38;5;28;43minput\u001b[39;49m\u001b[43m,\u001b[49m\u001b[43m \u001b[49m\u001b[43mconfig\u001b[49m\u001b[43m,\u001b[49m\u001b[43m \u001b[49m\u001b[38;5;241;43m*\u001b[39;49m\u001b[38;5;241;43m*\u001b[39;49m\u001b[43mkwargs\u001b[49m\u001b[43m)\u001b[49m\n\u001b[1;32m   2878\u001b[0m \u001b[38;5;28;01melse\u001b[39;00m:\n\u001b[1;32m   2879\u001b[0m     \u001b[38;5;28minput\u001b[39m \u001b[38;5;241m=\u001b[39m context\u001b[38;5;241m.\u001b[39mrun(step\u001b[38;5;241m.\u001b[39minvoke, \u001b[38;5;28minput\u001b[39m, config)\n",
      "File \u001b[0;32m~/Library/Caches/pypoetry/virtualenvs/langchain-kr-0guSvvrv-py3.11/lib/python3.11/site-packages/langchain_core/prompts/base.py:187\u001b[0m, in \u001b[0;36mBasePromptTemplate.invoke\u001b[0;34m(self, input, config)\u001b[0m\n\u001b[1;32m    185\u001b[0m \u001b[38;5;28;01mif\u001b[39;00m \u001b[38;5;28mself\u001b[39m\u001b[38;5;241m.\u001b[39mtags:\n\u001b[1;32m    186\u001b[0m     config[\u001b[38;5;124m\"\u001b[39m\u001b[38;5;124mtags\u001b[39m\u001b[38;5;124m\"\u001b[39m] \u001b[38;5;241m=\u001b[39m config[\u001b[38;5;124m\"\u001b[39m\u001b[38;5;124mtags\u001b[39m\u001b[38;5;124m\"\u001b[39m] \u001b[38;5;241m+\u001b[39m \u001b[38;5;28mself\u001b[39m\u001b[38;5;241m.\u001b[39mtags\n\u001b[0;32m--> 187\u001b[0m \u001b[38;5;28;01mreturn\u001b[39;00m \u001b[38;5;28;43mself\u001b[39;49m\u001b[38;5;241;43m.\u001b[39;49m\u001b[43m_call_with_config\u001b[49m\u001b[43m(\u001b[49m\n\u001b[1;32m    188\u001b[0m \u001b[43m    \u001b[49m\u001b[38;5;28;43mself\u001b[39;49m\u001b[38;5;241;43m.\u001b[39;49m\u001b[43m_format_prompt_with_error_handling\u001b[49m\u001b[43m,\u001b[49m\n\u001b[1;32m    189\u001b[0m \u001b[43m    \u001b[49m\u001b[38;5;28;43minput\u001b[39;49m\u001b[43m,\u001b[49m\n\u001b[1;32m    190\u001b[0m \u001b[43m    \u001b[49m\u001b[43mconfig\u001b[49m\u001b[43m,\u001b[49m\n\u001b[1;32m    191\u001b[0m \u001b[43m    \u001b[49m\u001b[43mrun_type\u001b[49m\u001b[38;5;241;43m=\u001b[39;49m\u001b[38;5;124;43m\"\u001b[39;49m\u001b[38;5;124;43mprompt\u001b[39;49m\u001b[38;5;124;43m\"\u001b[39;49m\u001b[43m,\u001b[49m\n\u001b[1;32m    192\u001b[0m \u001b[43m    \u001b[49m\u001b[43mserialized\u001b[49m\u001b[38;5;241;43m=\u001b[39;49m\u001b[43mdumpd\u001b[49m\u001b[43m(\u001b[49m\u001b[38;5;28;43mself\u001b[39;49m\u001b[43m)\u001b[49m\u001b[43m,\u001b[49m\n\u001b[1;32m    193\u001b[0m \u001b[43m\u001b[49m\u001b[43m)\u001b[49m\n",
      "File \u001b[0;32m~/Library/Caches/pypoetry/virtualenvs/langchain-kr-0guSvvrv-py3.11/lib/python3.11/site-packages/langchain_core/runnables/base.py:1786\u001b[0m, in \u001b[0;36mRunnable._call_with_config\u001b[0;34m(self, func, input, config, run_type, serialized, **kwargs)\u001b[0m\n\u001b[1;32m   1782\u001b[0m     context \u001b[38;5;241m=\u001b[39m copy_context()\n\u001b[1;32m   1783\u001b[0m     context\u001b[38;5;241m.\u001b[39mrun(_set_config_context, child_config)\n\u001b[1;32m   1784\u001b[0m     output \u001b[38;5;241m=\u001b[39m cast(\n\u001b[1;32m   1785\u001b[0m         Output,\n\u001b[0;32m-> 1786\u001b[0m         \u001b[43mcontext\u001b[49m\u001b[38;5;241;43m.\u001b[39;49m\u001b[43mrun\u001b[49m\u001b[43m(\u001b[49m\n\u001b[1;32m   1787\u001b[0m \u001b[43m            \u001b[49m\u001b[43mcall_func_with_variable_args\u001b[49m\u001b[43m,\u001b[49m\u001b[43m  \u001b[49m\u001b[38;5;66;43;03m# type: ignore[arg-type]\u001b[39;49;00m\n\u001b[1;32m   1788\u001b[0m \u001b[43m            \u001b[49m\u001b[43mfunc\u001b[49m\u001b[43m,\u001b[49m\u001b[43m  \u001b[49m\u001b[38;5;66;43;03m# type: ignore[arg-type]\u001b[39;49;00m\n\u001b[1;32m   1789\u001b[0m \u001b[43m            \u001b[49m\u001b[38;5;28;43minput\u001b[39;49m\u001b[43m,\u001b[49m\u001b[43m  \u001b[49m\u001b[38;5;66;43;03m# type: ignore[arg-type]\u001b[39;49;00m\n\u001b[1;32m   1790\u001b[0m \u001b[43m            \u001b[49m\u001b[43mconfig\u001b[49m\u001b[43m,\u001b[49m\n\u001b[1;32m   1791\u001b[0m \u001b[43m            \u001b[49m\u001b[43mrun_manager\u001b[49m\u001b[43m,\u001b[49m\n\u001b[1;32m   1792\u001b[0m \u001b[43m            \u001b[49m\u001b[38;5;241;43m*\u001b[39;49m\u001b[38;5;241;43m*\u001b[39;49m\u001b[43mkwargs\u001b[49m\u001b[43m,\u001b[49m\n\u001b[1;32m   1793\u001b[0m \u001b[43m        \u001b[49m\u001b[43m)\u001b[49m,\n\u001b[1;32m   1794\u001b[0m     )\n\u001b[1;32m   1795\u001b[0m \u001b[38;5;28;01mexcept\u001b[39;00m \u001b[38;5;167;01mBaseException\u001b[39;00m \u001b[38;5;28;01mas\u001b[39;00m e:\n\u001b[1;32m   1796\u001b[0m     run_manager\u001b[38;5;241m.\u001b[39mon_chain_error(e)\n",
      "File \u001b[0;32m~/Library/Caches/pypoetry/virtualenvs/langchain-kr-0guSvvrv-py3.11/lib/python3.11/site-packages/langchain_core/runnables/config.py:398\u001b[0m, in \u001b[0;36mcall_func_with_variable_args\u001b[0;34m(func, input, config, run_manager, **kwargs)\u001b[0m\n\u001b[1;32m    396\u001b[0m \u001b[38;5;28;01mif\u001b[39;00m run_manager \u001b[38;5;129;01mis\u001b[39;00m \u001b[38;5;129;01mnot\u001b[39;00m \u001b[38;5;28;01mNone\u001b[39;00m \u001b[38;5;129;01mand\u001b[39;00m accepts_run_manager(func):\n\u001b[1;32m    397\u001b[0m     kwargs[\u001b[38;5;124m\"\u001b[39m\u001b[38;5;124mrun_manager\u001b[39m\u001b[38;5;124m\"\u001b[39m] \u001b[38;5;241m=\u001b[39m run_manager\n\u001b[0;32m--> 398\u001b[0m \u001b[38;5;28;01mreturn\u001b[39;00m \u001b[43mfunc\u001b[49m\u001b[43m(\u001b[49m\u001b[38;5;28;43minput\u001b[39;49m\u001b[43m,\u001b[49m\u001b[43m \u001b[49m\u001b[38;5;241;43m*\u001b[39;49m\u001b[38;5;241;43m*\u001b[39;49m\u001b[43mkwargs\u001b[49m\u001b[43m)\u001b[49m\n",
      "File \u001b[0;32m~/Library/Caches/pypoetry/virtualenvs/langchain-kr-0guSvvrv-py3.11/lib/python3.11/site-packages/langchain_core/prompts/base.py:161\u001b[0m, in \u001b[0;36mBasePromptTemplate._format_prompt_with_error_handling\u001b[0;34m(self, inner_input)\u001b[0m\n\u001b[1;32m    160\u001b[0m \u001b[38;5;28;01mdef\u001b[39;00m \u001b[38;5;21m_format_prompt_with_error_handling\u001b[39m(\u001b[38;5;28mself\u001b[39m, inner_input: Dict) \u001b[38;5;241m-\u001b[39m\u001b[38;5;241m>\u001b[39m PromptValue:\n\u001b[0;32m--> 161\u001b[0m     _inner_input \u001b[38;5;241m=\u001b[39m \u001b[38;5;28;43mself\u001b[39;49m\u001b[38;5;241;43m.\u001b[39;49m\u001b[43m_validate_input\u001b[49m\u001b[43m(\u001b[49m\u001b[43minner_input\u001b[49m\u001b[43m)\u001b[49m\n\u001b[1;32m    162\u001b[0m     \u001b[38;5;28;01mreturn\u001b[39;00m \u001b[38;5;28mself\u001b[39m\u001b[38;5;241m.\u001b[39mformat_prompt(\u001b[38;5;241m*\u001b[39m\u001b[38;5;241m*\u001b[39m_inner_input)\n",
      "File \u001b[0;32m~/Library/Caches/pypoetry/virtualenvs/langchain-kr-0guSvvrv-py3.11/lib/python3.11/site-packages/langchain_core/prompts/base.py:157\u001b[0m, in \u001b[0;36mBasePromptTemplate._validate_input\u001b[0;34m(self, inner_input)\u001b[0m\n\u001b[1;32m    151\u001b[0m     example_key \u001b[38;5;241m=\u001b[39m missing\u001b[38;5;241m.\u001b[39mpop()\n\u001b[1;32m    152\u001b[0m     msg \u001b[38;5;241m+\u001b[39m\u001b[38;5;241m=\u001b[39m (\n\u001b[1;32m    153\u001b[0m         \u001b[38;5;124mf\u001b[39m\u001b[38;5;124m\"\u001b[39m\u001b[38;5;130;01m\\n\u001b[39;00m\u001b[38;5;124mNote: if you intended \u001b[39m\u001b[38;5;130;01m{{\u001b[39;00m\u001b[38;5;132;01m{\u001b[39;00mexample_key\u001b[38;5;132;01m}\u001b[39;00m\u001b[38;5;130;01m}}\u001b[39;00m\u001b[38;5;124m to be part of the string\u001b[39m\u001b[38;5;124m\"\u001b[39m\n\u001b[1;32m    154\u001b[0m         \u001b[38;5;124m\"\u001b[39m\u001b[38;5;124m and not a variable, please escape it with double curly braces like: \u001b[39m\u001b[38;5;124m\"\u001b[39m\n\u001b[1;32m    155\u001b[0m         \u001b[38;5;124mf\u001b[39m\u001b[38;5;124m\"\u001b[39m\u001b[38;5;124m'\u001b[39m\u001b[38;5;130;01m{{\u001b[39;00m\u001b[38;5;130;01m{{\u001b[39;00m\u001b[38;5;132;01m{\u001b[39;00mexample_key\u001b[38;5;132;01m}\u001b[39;00m\u001b[38;5;130;01m}}\u001b[39;00m\u001b[38;5;130;01m}}\u001b[39;00m\u001b[38;5;124m'\u001b[39m\u001b[38;5;124m.\u001b[39m\u001b[38;5;124m\"\u001b[39m\n\u001b[1;32m    156\u001b[0m     )\n\u001b[0;32m--> 157\u001b[0m     \u001b[38;5;28;01mraise\u001b[39;00m \u001b[38;5;167;01mKeyError\u001b[39;00m(msg)\n\u001b[1;32m    158\u001b[0m \u001b[38;5;28;01mreturn\u001b[39;00m inner_input\n",
      "\u001b[0;31mKeyError\u001b[0m: 'Input to PromptTemplate is missing variables {\\'\\\\n  \"subRoutine\"\\'}.  Expected: [\\'\\\\n  \"subRoutine\"\\', \\'Difficult\\', \\'Job\\', \\'age\\', \\'context\\', \\'gender\\', \\'goal\\', \\'question\\'] Received: [\\'context\\', \\'question\\', \\'age\\', \\'gender\\', \\'Job\\', \\'Difficult\\', \\'goal\\']\\nNote: if you intended {\\n  \"subRoutine\"} to be part of the string and not a variable, please escape it with double curly braces like: \\'{{\\n  \"subRoutine\"}}\\'.'"
     ]
    }
   ],
   "source": [
    "from langchain_openai import ChatOpenAI\n",
    "from pydantic import BaseModel, Field\n",
    "from typing import Optional\n",
    "\n",
    "class SubRoutine(BaseModel):\n",
    "    \"\"\"운동 루틴을 추천합니다.\"\"\"\n",
    "    emoji: str\n",
    "    routineDetail: str\n",
    "    minuteDuration: str\n",
    "\n",
    "llm = ChatOpenAI(model=\"gpt-4o-mini-2024-07-18\", temperature=0,response_format=SubRoutine)\n",
    "response = llm.invoke(\"30분 동안 할 수 있는 운동 루틴을 추천해주세요.\")\n",
    "# structured_llm = llm.with_structured_output(\n",
    "#     SubRoutine,\n",
    "#     method=\"json_schema\",\n",
    "#     include_raw=False,\n",
    "#     strict=True\n",
    "# )\n",
    "\n",
    "# response = structured_llm.invoke(\"30분 동안 할 수 있는 운동 루틴을 추천해주세요.\")\n",
    "import json\n",
    "\n",
    "# 4. LLM 설정 (OpenAI API 키가 필요합니다)\n",
    "model = ChatOpenAI(temperature=0,\n",
    "                  model_name=\"gpt-4o-mini-2024-07-18\",\n",
    "                  function_map={\n",
    "                      \"subRoutine\": {\n",
    "                          \"description\": \"운동 루틴을 추천합니다.\",\n",
    "                          \"parameters\": {\n",
    "                              \"type\": \"object\",\n",
    "                              \"properties\": {\n",
    "                                  \"emoji\": {\"type\": \"string\"},\n",
    "                                  \"routineDetail\": {\"type\": \"string\"},\n",
    "                                  \"miniuteDuration\": {\"type\": \"string\"}\n",
    "                              }\n",
    "                          }\n",
    "                      }\n",
    "                  })\n",
    "# 더미 데이터 생성\n",
    "dummy_data = {\n",
    "    \"context\": \"운동 루틴에 대한 정보가 포함된 문서 내용입니다.\",\n",
    "    \"question\": \"운동 루틴에 대해 설명해주세요.\",\n",
    "    \"age\": 24,\n",
    "    \"gender\": \"남성\",\n",
    "    \"Job\": \"학생\",\n",
    "    \"Difficult\": \"의욕 떨어짐, 목표 너무 큼\",\n",
    "    \"goal\": \"꾸준히 운동하기\"\n",
    "}\n",
    "\n",
    "# 5. RAG 파이프라인 구축\n",
    "prompt_template = PromptTemplate(\n",
    "    input_variables=[\"context\", \"question\", \"age\", \"gender\", \"Job\", \"Difficult\", \"goal\"],\n",
    "        template=\"\"\"당신은 API 서버입니다.\n",
    "{context}를 참고하여 사용자에 맞는 루틴을 추천해주세요.\n",
    "사용자의 나이는 {age}입니다.\n",
    "사용자의 성별은 {gender}입니다.\n",
    "사용자의 직업은 {job}입니다.\n",
    "사용자의 겪고 있는 어려움은 {difficult}입니다.\n",
    "사용자의 목표는 {goal}입니다.\n",
    "\n",
    "질문: {question}\n",
    "답변:\n",
    "응답 형식\n",
    "{{\n",
    "  \"subRoutine\": \n",
    "    }}\n",
    "      \"emoji\": \"이모지\",\n",
    "      \"routineDetail\": \"루틴 설명\",\n",
    "      \"miniuteDuration\": \"시간(분 단위)\"\n",
    "    }}\n",
    "  \n",
    "}}\n",
    "\"\"\"\n",
    ")\n",
    "\n",
    "retriever = vectorstore.as_retriever()\n",
    "\n",
    "\n",
    "\n",
    "class SubRoutine(BaseModel):\n",
    "    \"\"\"운동 루틴을 추천합니다.\"\"\"\n",
    "    emoji: str = Field(description=\"이모지\")\n",
    "    routineDetail: str = Field(description=\"루틴 설명\")\n",
    "    minuteDuration: str = Field(description=\"시간(분 단위)\")\n",
    "#llm = ChatOpenAI(model=\"gpt-4o-mini-2024-07-18\", temperature=0,response_format=SubRoutine)\n",
    "llm = ChatOpenAI(model=\"gpt-4o-mini-2024-07-18\", temperature=0.7)\n",
    "parser = JsonOutputParser(pydantic_object=SubRoutine)\n",
    "from langchain_core.output_parsers import StrOutputParser\n",
    "parser= StrOutputParser()\n",
    "\n",
    "\n",
    "prompt = PromptTemplate(\n",
    "    template=template,\n",
    "    input_variables=[\"context\", \"question\", \"age\", \"gender\", \"Job\", \"Difficult\", \"goal\"]\n",
    ")\n",
    "\n",
    "# RAG 체인 생성\n",
    "from operator import itemgetter\n",
    "chain = (\n",
    "    {\n",
    "        \"question\":itemgetter(\"question\"),\n",
    "        \"context\":itemgetter(\"context\"),\n",
    "        \"age\":itemgetter(\"age\"),\n",
    "        \"gender\":itemgetter(\"gender\"),\n",
    "        \"job\":itemgetter(\"job\"),\n",
    "        \"difficult\":itemgetter(\"difficult\"),\n",
    "        \"goal\":itemgetter(\"goal\")\n",
    "    }\n",
    "    | prompt_template\n",
    "    | llm\n",
    "    | parser\n",
    ")\n",
    "\n",
    "# 결과 생성\n",
    "result = chain.invoke(dummy_data,)\n",
    "\n",
    "# 결과 출력\n",
    "print(result)"
   ]
  },
  {
   "cell_type": "code",
   "execution_count": null,
   "metadata": {},
   "outputs": [],
   "source": [
    "\n",
    "\n"
   ]
  }
 ],
 "metadata": {
  "kernelspec": {
   "display_name": "langchain-kr-0guSvvrv-py3.11",
   "language": "python",
   "name": "python3"
  },
  "language_info": {
   "codemirror_mode": {
    "name": "ipython",
    "version": 3
   },
   "file_extension": ".py",
   "mimetype": "text/x-python",
   "name": "python",
   "nbconvert_exporter": "python",
   "pygments_lexer": "ipython3",
   "version": "3.11.10"
  }
 },
 "nbformat": 4,
 "nbformat_minor": 2
}
