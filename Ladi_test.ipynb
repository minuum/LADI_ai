{
 "cells": [
  {
   "cell_type": "markdown",
   "metadata": {},
   "source": [
    "### Ladi_ai_RAG"
   ]
  },
  {
   "cell_type": "markdown",
   "metadata": {},
   "source": [
    "- API DOCS : http://43.202.173.71:3000/\n",
    "- TASK : 루틴 추천\n",
    "- 루틴 관련 데이터 저장(vectorDB) -> 검색(Retrieve) -> LLM(gpt-4o)의 Context로 사용"
   ]
  },
  {
   "cell_type": "code",
   "execution_count": null,
   "metadata": {},
   "outputs": [],
   "source": []
  },
  {
   "cell_type": "code",
   "execution_count": null,
   "metadata": {},
   "outputs": [],
   "source": [
    "import requests\n",
    "import json\n",
    "\n",
    "# API 엔드포인트 URL\n",
    "api_url = \"http://43.202.173.71:3000/api/endpoint\"  # 실제 엔드포인트 URL로 변경해야 합니다\n",
    "\n",
    "# 요청 데이터\n",
    "request_data = {\n",
    "    \"Difficult\": \"의욕 떨어짐, 목표 너무 큼\",\n",
    "    \"Job\": \"학생\",\n",
    "    \"gender\": \"남성\",\n",
    "    \"age\": 24,\n",
    "    \"goal\": \"꾸준히 운동하기\"\n",
    "}\n",
    "\n",
    "# POST 요청 보내기\n",
    "response = requests.post(api_url, json=request_data)\n",
    "\n",
    "# 응답 처리\n",
    "if response.status_code == 200:\n",
    "    # 성공적인 응답\n",
    "    response_data = response.json()\n",
    "    print(\"API 응답:\")\n",
    "    print(json.dumps(response_data, indent=2, ensure_ascii=False))\n",
    "else:\n",
    "    # 오류 응답\n",
    "    print(f\"오류 발생: {response.status_code}\")\n",
    "    print(response.text)"
   ]
  },
  {
   "cell_type": "code",
   "execution_count": 8,
   "metadata": {},
   "outputs": [
    {
     "name": "stdout",
     "output_type": "stream",
     "text": [
      "오류 발생: 401\n",
      "Unauthorized\n"
     ]
    }
   ],
   "source": [
    "import requests\n",
    "\n",
    "# API 엔드포인트 URL\n",
    "token_url = \"http://43.202.173.71:3000/auth/token\"\n",
    "\n",
    "# 요청 데이터 (필요한 경우 수정)\n",
    "request_data = {\n",
    "    \"username\": \"your_username\",  # 사용자 이름\n",
    "    \"password\": \"your_password\"   # 비밀번호\n",
    "}\n",
    "\n",
    "# POST 요청 보내기\n",
    "response = requests.post(token_url)\n",
    "\n",
    "# 응답 처리\n",
    "if response.status_code == 200:\n",
    "    # 성공적인 응답\n",
    "    token_data = response.json()\n",
    "    print(\"토큰 응답:\")\n",
    "    print(json.dumps(token_data, indent=2, ensure_ascii=False))\n",
    "else:\n",
    "    # 오류 응답\n",
    "    print(f\"오류 발생: {response.status_code}\")\n",
    "    print(response.text)\n"
   ]
  },
  {
   "cell_type": "code",
   "execution_count": 6,
   "metadata": {},
   "outputs": [
    {
     "name": "stdout",
     "output_type": "stream",
     "text": [
      "오류 발생: 401 - Unauthorized\n"
     ]
    }
   ],
   "source": [
    "import requests\n",
    "# response=requests.get('http://43.202.173.71:3000/statistics')\n",
    "# print(response.json())\n",
    "\n",
    "response = requests.get('http://43.202.173.71:3000/statistics')\n",
    "if response.status_code == 200:\n",
    "    try:\n",
    "        data = response.json()\n",
    "    except ValueError:\n",
    "        print(\"응답이 JSON 형식이 아닙니다:\", response.text)\n",
    "else:\n",
    "    print(f\"오류 발생: {response.status_code} - {response.text}\")\n"
   ]
  },
  {
   "cell_type": "code",
   "execution_count": null,
   "metadata": {},
   "outputs": [],
   "source": [
    "from flask import Flask, jsonify\n",
    "import requests\n",
    "\n",
    "app = Flask(__name__)\n",
    "\n",
    "@app.route('/get_statistics', methods=['GET'])\n",
    "def get_statistics():\n",
    "    try:\n",
    "        # localhost:3000/statistics에 GET 요청 보내기\n",
    "        response = requests.get('http://43.202.173.71:3000/statistics')\n",
    "        \n",
    "        # 응답 상태 코드 확인\n",
    "        if response.status_code == 200:\n",
    "            # 성공적으로 데이터를 받아왔을 때\n",
    "            data = response.json()\n",
    "            return jsonify(data), 200\n",
    "        else:\n",
    "            # 오류 발생 시\n",
    "            return jsonify({\"error\": \"외부 API에서 데이터를 가져오는 데 실패했습니다.\"}), response.status_code\n",
    "    \n",
    "    except requests.RequestException as e:\n",
    "        # 네트워크 오류 등 예외 처리\n",
    "        return jsonify({\"error\": f\"요청 중 오류 발생: {str(e)}\"}), 500\n",
    "\n",
    "if __name__ == '__main__':\n",
    "    app.run(debug=True, port=5001)"
   ]
  },
  {
   "cell_type": "code",
   "execution_count": 9,
   "metadata": {},
   "outputs": [],
   "source": [
    "import json\n",
    "import os\n",
    "\n",
    "def load_json_files(directory):\n",
    "    data = []\n",
    "    for filename in os.listdir(directory):\n",
    "        if filename.endswith('.json'):\n",
    "            with open(os.path.join(directory, filename), 'r', encoding='utf-8') as file:\n",
    "                data.extend(json.load(file))\n",
    "    return data\n",
    "\n",
    "json_data = load_json_files('data/')"
   ]
  },
  {
   "cell_type": "code",
   "execution_count": 26,
   "metadata": {},
   "outputs": [
    {
     "name": "stdout",
     "output_type": "stream",
     "text": [
      "[Document(metadata={'id': '1', 'emoji': '🏃', 'miniuteDuration': 5}, page_content='가볍게 5분 걷기'),\n",
      " Document(metadata={'id': '2', 'emoji': '🧘', 'miniuteDuration': 5}, page_content='스트레칭으로 몸 풀기'),\n",
      " Document(metadata={'id': '3', 'emoji': '💪', 'miniuteDuration': 3}, page_content='팔굽혀펴기 10회'),\n",
      " Document(metadata={'id': '4', 'emoji': '🦵', 'miniuteDuration': 5}, page_content='스쿼트 15회'),\n",
      " Document(metadata={'id': '5', 'emoji': '🚶', 'miniuteDuration': 10}, page_content='10분 걷기로 마무리'),\n",
      " Document(metadata={'id': '6', 'emoji': '🧘\\u200d♂️', 'miniuteDuration': 15}, page_content='요가로 몸과 마음 안정시키기'),\n",
      " Document(metadata={'id': '7', 'emoji': '🚴', 'miniuteDuration': 20}, page_content='자전거 타기 20분'),\n",
      " Document(metadata={'id': '8', 'emoji': '🤸', 'miniuteDuration': 2}, page_content='플랭크 1분 유지'),\n",
      " Document(metadata={'id': '9', 'emoji': '🦵', 'miniuteDuration': 5}, page_content='런지 10회'),\n",
      " Document(metadata={'id': '10', 'emoji': '🏃\\u200d♂️', 'miniuteDuration': 15}, page_content='가벼운 조깅 15분')]\n"
     ]
    }
   ],
   "source": [
    "import json\n",
    "from langchain.schema import Document\n",
    "from pprint import pprint\n",
    "\n",
    "# JSON 파일 로드 함수 정의\n",
    "def load_json_file(file_path):\n",
    "    with open(file_path, 'r', encoding='utf-8') as file:\n",
    "        return json.load(file)\n",
    "\n",
    "# JSON 데이터 로드\n",
    "data = load_json_file(\"data/dummy.json\")\n",
    "\n",
    "# 필요한 정보 추출 및 Document 객체 생성\n",
    "docs = [\n",
    "    Document(\n",
    "        page_content=item[\"text\"],\n",
    "        metadata={\n",
    "            \"id\": item[\"id\"],\n",
    "            \"emoji\": item[\"metadata\"].get(\"emoji\"),\n",
    "            \"miniuteDuration\": item[\"metadata\"].get(\"miniuteDuration\")\n",
    "        }\n",
    "    )\n",
    "    for item in data\n",
    "]\n",
    "\n",
    "# 결과 출력\n",
    "pprint(docs)"
   ]
  },
  {
   "cell_type": "code",
   "execution_count": 32,
   "metadata": {},
   "outputs": [],
   "source": [
    "from langchain.vectorstores import Chroma\n",
    "from langchain.embeddings import HuggingFaceEmbeddings\n",
    "from langchain_upstage import UpstageEmbeddings\n",
    "from langchain.text_splitter import CharacterTextSplitter\n",
    "from langchain_openai import ChatOpenAI\n",
    "from langchain.prompts import PromptTemplate\n",
    "\n",
    "# 1. 벡터 저장소 생성\n",
    "passage_embeddings = UpstageEmbeddings(model=\"solar-embedding-1-large-query\")\n",
    "vectorstore = Chroma(embedding_function=passage_embeddings)\n"
   ]
  },
  {
   "cell_type": "code",
   "execution_count": 33,
   "metadata": {},
   "outputs": [
    {
     "data": {
      "text/plain": [
       "['6eb02a76-6a6e-42b8-ad53-bff4a3395cdb',\n",
       " '9329517f-9749-48de-b850-1358193782cc',\n",
       " '2435c6d4-e3fe-4fb1-a251-04ddccfeece9',\n",
       " 'd70f27f9-938a-4177-8937-58624d8c42d8',\n",
       " 'e06d786d-2e2f-4cf6-a06b-e7c814bb9566',\n",
       " 'f2f9fdfd-4a51-470d-95cb-e2e6a753779b',\n",
       " 'dd4b6b7e-177d-4124-94f3-18d8c7f14137',\n",
       " '2f88e5e6-d301-4135-bd62-c38281e6e783',\n",
       " '76b3af85-ba58-4df9-b601-326d57ed9bcd',\n",
       " 'fc15a954-f191-4a57-903c-d34b557c0f2c']"
      ]
     },
     "execution_count": 33,
     "metadata": {},
     "output_type": "execute_result"
    }
   ],
   "source": [
    "from langchain.storage import LocalFileStore\n",
    "from langchain.embeddings import CacheBackedEmbeddings\n",
    "\n",
    "fs = LocalFileStore(\"./cache/\")\n",
    "cached_embeddings = CacheBackedEmbeddings.from_bytes_store(\n",
    "    passage_embeddings, fs, namespace=passage_embeddings.model\n",
    ")\n",
    "\n",
    "# 2. 문서 임베딩 및 저장\n",
    "text_splitter = CharacterTextSplitter(chunk_size=1000, chunk_overlap=0)\n",
    "texts = text_splitter.split_documents(docs)\n",
    "vectorstore.add_documents(texts)\n"
   ]
  },
  {
   "cell_type": "code",
   "execution_count": 38,
   "metadata": {},
   "outputs": [
    {
     "ename": "TypeError",
     "evalue": "Expected a Runnable, callable or dict.Instead got an unsupported type: <class 'str'>",
     "output_type": "error",
     "traceback": [
      "\u001b[0;31m---------------------------------------------------------------------------\u001b[0m",
      "\u001b[0;31mTypeError\u001b[0m                                 Traceback (most recent call last)",
      "Cell \u001b[0;32mIn[38], line 34\u001b[0m\n\u001b[1;32m     18\u001b[0m template \u001b[38;5;241m=\u001b[39m \u001b[38;5;124m\"\"\"\u001b[39m\u001b[38;5;124m당신은 API 서버입니다.\u001b[39m\n\u001b[1;32m     19\u001b[0m \u001b[38;5;132;01m{context}\u001b[39;00m\n\u001b[1;32m     20\u001b[0m \u001b[38;5;124m사용자의 나이는 \u001b[39m\u001b[38;5;132;01m{age}\u001b[39;00m\u001b[38;5;124m입니다.\u001b[39m\n\u001b[0;32m   (...)\u001b[0m\n\u001b[1;32m     26\u001b[0m \u001b[38;5;124m질문: \u001b[39m\u001b[38;5;132;01m{question}\u001b[39;00m\n\u001b[1;32m     27\u001b[0m \u001b[38;5;124m답변:\u001b[39m\u001b[38;5;124m\"\"\"\u001b[39m\n\u001b[1;32m     29\u001b[0m prompt \u001b[38;5;241m=\u001b[39m PromptTemplate(\n\u001b[1;32m     30\u001b[0m     template\u001b[38;5;241m=\u001b[39mtemplate,\n\u001b[1;32m     31\u001b[0m     input_variables\u001b[38;5;241m=\u001b[39m[\u001b[38;5;124m\"\u001b[39m\u001b[38;5;124mcontext\u001b[39m\u001b[38;5;124m\"\u001b[39m, \u001b[38;5;124m\"\u001b[39m\u001b[38;5;124mquestion\u001b[39m\u001b[38;5;124m\"\u001b[39m, \u001b[38;5;124m\"\u001b[39m\u001b[38;5;124mage\u001b[39m\u001b[38;5;124m\"\u001b[39m, \u001b[38;5;124m\"\u001b[39m\u001b[38;5;124mgender\u001b[39m\u001b[38;5;124m\"\u001b[39m, \u001b[38;5;124m\"\u001b[39m\u001b[38;5;124mJob\u001b[39m\u001b[38;5;124m\"\u001b[39m, \u001b[38;5;124m\"\u001b[39m\u001b[38;5;124mDifficult\u001b[39m\u001b[38;5;124m\"\u001b[39m, \u001b[38;5;124m\"\u001b[39m\u001b[38;5;124mgoal\u001b[39m\u001b[38;5;124m\"\u001b[39m]\n\u001b[1;32m     32\u001b[0m )\n\u001b[1;32m     33\u001b[0m chain \u001b[38;5;241m=\u001b[39m (\n\u001b[0;32m---> 34\u001b[0m     \u001b[43m{\u001b[49m\u001b[38;5;124;43m\"\u001b[39;49m\u001b[38;5;124;43mquestion\u001b[39;49m\u001b[38;5;124;43m\"\u001b[39;49m\u001b[43m:\u001b[49m\u001b[43m \u001b[49m\u001b[43mitemgetter\u001b[49m\u001b[43m(\u001b[49m\u001b[38;5;124;43m\"\u001b[39;49m\u001b[38;5;124;43mquestion\u001b[39;49m\u001b[38;5;124;43m\"\u001b[39;49m\u001b[43m)\u001b[49m\u001b[43m(\u001b[49m\u001b[43mdummy_data\u001b[49m\u001b[43m)\u001b[49m\u001b[43m,\u001b[49m\u001b[43m \u001b[49m\u001b[38;5;124;43m\"\u001b[39;49m\u001b[38;5;124;43mcontext\u001b[39;49m\u001b[38;5;124;43m\"\u001b[39;49m\u001b[43m:\u001b[49m\u001b[43m \u001b[49m\u001b[43mitemgetter\u001b[49m\u001b[43m(\u001b[49m\u001b[38;5;124;43m\"\u001b[39;49m\u001b[38;5;124;43mcontext\u001b[39;49m\u001b[38;5;124;43m\"\u001b[39;49m\u001b[43m)\u001b[49m\u001b[43m(\u001b[49m\u001b[43mdummy_data\u001b[49m\u001b[43m)\u001b[49m\u001b[43m,\u001b[49m\n\u001b[1;32m     35\u001b[0m \u001b[43m     \u001b[49m\u001b[38;5;124;43m\"\u001b[39;49m\u001b[38;5;124;43mage\u001b[39;49m\u001b[38;5;124;43m\"\u001b[39;49m\u001b[43m:\u001b[49m\u001b[43m \u001b[49m\u001b[43mitemgetter\u001b[49m\u001b[43m(\u001b[49m\u001b[38;5;124;43m\"\u001b[39;49m\u001b[38;5;124;43mage\u001b[39;49m\u001b[38;5;124;43m\"\u001b[39;49m\u001b[43m)\u001b[49m\u001b[43m(\u001b[49m\u001b[43mdummy_data\u001b[49m\u001b[43m)\u001b[49m\u001b[43m,\u001b[49m\u001b[43m \u001b[49m\u001b[38;5;124;43m\"\u001b[39;49m\u001b[38;5;124;43mgender\u001b[39;49m\u001b[38;5;124;43m\"\u001b[39;49m\u001b[43m:\u001b[49m\u001b[43m \u001b[49m\u001b[43mitemgetter\u001b[49m\u001b[43m(\u001b[49m\u001b[38;5;124;43m\"\u001b[39;49m\u001b[38;5;124;43mgender\u001b[39;49m\u001b[38;5;124;43m\"\u001b[39;49m\u001b[43m)\u001b[49m\u001b[43m(\u001b[49m\u001b[43mdummy_data\u001b[49m\u001b[43m)\u001b[49m\u001b[43m,\u001b[49m\n\u001b[1;32m     36\u001b[0m \u001b[43m     \u001b[49m\u001b[38;5;124;43m\"\u001b[39;49m\u001b[38;5;124;43mJob\u001b[39;49m\u001b[38;5;124;43m\"\u001b[39;49m\u001b[43m:\u001b[49m\u001b[43m \u001b[49m\u001b[43mitemgetter\u001b[49m\u001b[43m(\u001b[49m\u001b[38;5;124;43m\"\u001b[39;49m\u001b[38;5;124;43mJob\u001b[39;49m\u001b[38;5;124;43m\"\u001b[39;49m\u001b[43m)\u001b[49m\u001b[43m(\u001b[49m\u001b[43mdummy_data\u001b[49m\u001b[43m)\u001b[49m\u001b[43m,\u001b[49m\u001b[43m \u001b[49m\u001b[38;5;124;43m\"\u001b[39;49m\u001b[38;5;124;43mDifficult\u001b[39;49m\u001b[38;5;124;43m\"\u001b[39;49m\u001b[43m:\u001b[49m\u001b[43m \u001b[49m\u001b[43mitemgetter\u001b[49m\u001b[43m(\u001b[49m\u001b[38;5;124;43m\"\u001b[39;49m\u001b[38;5;124;43mDifficult\u001b[39;49m\u001b[38;5;124;43m\"\u001b[39;49m\u001b[43m)\u001b[49m\u001b[43m(\u001b[49m\u001b[43mdummy_data\u001b[49m\u001b[43m)\u001b[49m\u001b[43m,\u001b[49m\n\u001b[1;32m     37\u001b[0m \u001b[43m     \u001b[49m\u001b[38;5;124;43m\"\u001b[39;49m\u001b[38;5;124;43mgoal\u001b[39;49m\u001b[38;5;124;43m\"\u001b[39;49m\u001b[43m:\u001b[49m\u001b[43m \u001b[49m\u001b[43mitemgetter\u001b[49m\u001b[43m(\u001b[49m\u001b[38;5;124;43m\"\u001b[39;49m\u001b[38;5;124;43mgoal\u001b[39;49m\u001b[38;5;124;43m\"\u001b[39;49m\u001b[43m)\u001b[49m\u001b[43m(\u001b[49m\u001b[43mdummy_data\u001b[49m\u001b[43m)\u001b[49m\u001b[43m}\u001b[49m\n\u001b[1;32m     38\u001b[0m \u001b[43m            \u001b[49m\u001b[38;5;241;43m|\u001b[39;49m\u001b[43m \u001b[49m\u001b[43mprompt\u001b[49m\n\u001b[1;32m     39\u001b[0m             \u001b[38;5;241m|\u001b[39m model\n\u001b[1;32m     40\u001b[0m             \u001b[38;5;241m|\u001b[39m StrOutputParser()\n\u001b[1;32m     41\u001b[0m         )\n\u001b[1;32m     42\u001b[0m result \u001b[38;5;241m=\u001b[39m chain\u001b[38;5;241m.\u001b[39minvoke({\u001b[38;5;124m\"\u001b[39m\u001b[38;5;124mcontext\u001b[39m\u001b[38;5;124m\"\u001b[39m: \u001b[38;5;124m\"\u001b[39m\u001b[38;5;124m운동 루틴에 대해 설명해주세요.\u001b[39m\u001b[38;5;124m\"\u001b[39m, \u001b[38;5;124m\"\u001b[39m\u001b[38;5;124mquestion\u001b[39m\u001b[38;5;124m\"\u001b[39m: \u001b[38;5;124m\"\u001b[39m\u001b[38;5;124m운동 루틴에 대해 설명해주세요.\u001b[39m\u001b[38;5;124m\"\u001b[39m})\n\u001b[1;32m     44\u001b[0m \u001b[38;5;28mprint\u001b[39m(result)\n",
      "File \u001b[0;32m~/Library/Caches/pypoetry/virtualenvs/langchain-kr-0guSvvrv-py3.11/lib/python3.11/site-packages/langchain_core/runnables/base.py:448\u001b[0m, in \u001b[0;36mRunnable.__ror__\u001b[0;34m(self, other)\u001b[0m\n\u001b[1;32m    438\u001b[0m \u001b[38;5;28;01mdef\u001b[39;00m \u001b[38;5;21m__ror__\u001b[39m(\n\u001b[1;32m    439\u001b[0m     \u001b[38;5;28mself\u001b[39m,\n\u001b[1;32m    440\u001b[0m     other: Union[\n\u001b[0;32m   (...)\u001b[0m\n\u001b[1;32m    445\u001b[0m     ],\n\u001b[1;32m    446\u001b[0m ) \u001b[38;5;241m-\u001b[39m\u001b[38;5;241m>\u001b[39m RunnableSerializable[Other, Output]:\n\u001b[1;32m    447\u001b[0m \u001b[38;5;250m    \u001b[39m\u001b[38;5;124;03m\"\"\"Compose this Runnable with another object to create a RunnableSequence.\"\"\"\u001b[39;00m\n\u001b[0;32m--> 448\u001b[0m     \u001b[38;5;28;01mreturn\u001b[39;00m RunnableSequence(\u001b[43mcoerce_to_runnable\u001b[49m\u001b[43m(\u001b[49m\u001b[43mother\u001b[49m\u001b[43m)\u001b[49m, \u001b[38;5;28mself\u001b[39m)\n",
      "File \u001b[0;32m~/Library/Caches/pypoetry/virtualenvs/langchain-kr-0guSvvrv-py3.11/lib/python3.11/site-packages/langchain_core/runnables/base.py:5576\u001b[0m, in \u001b[0;36mcoerce_to_runnable\u001b[0;34m(thing)\u001b[0m\n\u001b[1;32m   5574\u001b[0m     \u001b[38;5;28;01mreturn\u001b[39;00m RunnableLambda(cast(Callable[[Input], Output], thing))\n\u001b[1;32m   5575\u001b[0m \u001b[38;5;28;01melif\u001b[39;00m \u001b[38;5;28misinstance\u001b[39m(thing, \u001b[38;5;28mdict\u001b[39m):\n\u001b[0;32m-> 5576\u001b[0m     \u001b[38;5;28;01mreturn\u001b[39;00m cast(Runnable[Input, Output], \u001b[43mRunnableParallel\u001b[49m\u001b[43m(\u001b[49m\u001b[43mthing\u001b[49m\u001b[43m)\u001b[49m)\n\u001b[1;32m   5577\u001b[0m \u001b[38;5;28;01melse\u001b[39;00m:\n\u001b[1;32m   5578\u001b[0m     \u001b[38;5;28;01mraise\u001b[39;00m \u001b[38;5;167;01mTypeError\u001b[39;00m(\n\u001b[1;32m   5579\u001b[0m         \u001b[38;5;124mf\u001b[39m\u001b[38;5;124m\"\u001b[39m\u001b[38;5;124mExpected a Runnable, callable or dict.\u001b[39m\u001b[38;5;124m\"\u001b[39m\n\u001b[1;32m   5580\u001b[0m         \u001b[38;5;124mf\u001b[39m\u001b[38;5;124m\"\u001b[39m\u001b[38;5;124mInstead got an unsupported type: \u001b[39m\u001b[38;5;132;01m{\u001b[39;00m\u001b[38;5;28mtype\u001b[39m(thing)\u001b[38;5;132;01m}\u001b[39;00m\u001b[38;5;124m\"\u001b[39m\n\u001b[1;32m   5581\u001b[0m     )\n",
      "File \u001b[0;32m~/Library/Caches/pypoetry/virtualenvs/langchain-kr-0guSvvrv-py3.11/lib/python3.11/site-packages/langchain_core/runnables/base.py:3394\u001b[0m, in \u001b[0;36mRunnableParallel.__init__\u001b[0;34m(self, steps__, **kwargs)\u001b[0m\n\u001b[1;32m   3391\u001b[0m merged \u001b[38;5;241m=\u001b[39m {\u001b[38;5;241m*\u001b[39m\u001b[38;5;241m*\u001b[39msteps__} \u001b[38;5;28;01mif\u001b[39;00m steps__ \u001b[38;5;129;01mis\u001b[39;00m \u001b[38;5;129;01mnot\u001b[39;00m \u001b[38;5;28;01mNone\u001b[39;00m \u001b[38;5;28;01melse\u001b[39;00m {}\n\u001b[1;32m   3392\u001b[0m merged\u001b[38;5;241m.\u001b[39mupdate(kwargs)\n\u001b[1;32m   3393\u001b[0m \u001b[38;5;28msuper\u001b[39m()\u001b[38;5;241m.\u001b[39m\u001b[38;5;21m__init__\u001b[39m(  \u001b[38;5;66;03m# type: ignore[call-arg]\u001b[39;00m\n\u001b[0;32m-> 3394\u001b[0m     steps__\u001b[38;5;241m=\u001b[39m\u001b[43m{\u001b[49m\u001b[43mkey\u001b[49m\u001b[43m:\u001b[49m\u001b[43m \u001b[49m\u001b[43mcoerce_to_runnable\u001b[49m\u001b[43m(\u001b[49m\u001b[43mr\u001b[49m\u001b[43m)\u001b[49m\u001b[43m \u001b[49m\u001b[38;5;28;43;01mfor\u001b[39;49;00m\u001b[43m \u001b[49m\u001b[43mkey\u001b[49m\u001b[43m,\u001b[49m\u001b[43m \u001b[49m\u001b[43mr\u001b[49m\u001b[43m \u001b[49m\u001b[38;5;129;43;01min\u001b[39;49;00m\u001b[43m \u001b[49m\u001b[43mmerged\u001b[49m\u001b[38;5;241;43m.\u001b[39;49m\u001b[43mitems\u001b[49m\u001b[43m(\u001b[49m\u001b[43m)\u001b[49m\u001b[43m}\u001b[49m\n\u001b[1;32m   3395\u001b[0m )\n",
      "File \u001b[0;32m~/Library/Caches/pypoetry/virtualenvs/langchain-kr-0guSvvrv-py3.11/lib/python3.11/site-packages/langchain_core/runnables/base.py:3394\u001b[0m, in \u001b[0;36m<dictcomp>\u001b[0;34m(.0)\u001b[0m\n\u001b[1;32m   3391\u001b[0m merged \u001b[38;5;241m=\u001b[39m {\u001b[38;5;241m*\u001b[39m\u001b[38;5;241m*\u001b[39msteps__} \u001b[38;5;28;01mif\u001b[39;00m steps__ \u001b[38;5;129;01mis\u001b[39;00m \u001b[38;5;129;01mnot\u001b[39;00m \u001b[38;5;28;01mNone\u001b[39;00m \u001b[38;5;28;01melse\u001b[39;00m {}\n\u001b[1;32m   3392\u001b[0m merged\u001b[38;5;241m.\u001b[39mupdate(kwargs)\n\u001b[1;32m   3393\u001b[0m \u001b[38;5;28msuper\u001b[39m()\u001b[38;5;241m.\u001b[39m\u001b[38;5;21m__init__\u001b[39m(  \u001b[38;5;66;03m# type: ignore[call-arg]\u001b[39;00m\n\u001b[0;32m-> 3394\u001b[0m     steps__\u001b[38;5;241m=\u001b[39m{key: \u001b[43mcoerce_to_runnable\u001b[49m\u001b[43m(\u001b[49m\u001b[43mr\u001b[49m\u001b[43m)\u001b[49m \u001b[38;5;28;01mfor\u001b[39;00m key, r \u001b[38;5;129;01min\u001b[39;00m merged\u001b[38;5;241m.\u001b[39mitems()}\n\u001b[1;32m   3395\u001b[0m )\n",
      "File \u001b[0;32m~/Library/Caches/pypoetry/virtualenvs/langchain-kr-0guSvvrv-py3.11/lib/python3.11/site-packages/langchain_core/runnables/base.py:5578\u001b[0m, in \u001b[0;36mcoerce_to_runnable\u001b[0;34m(thing)\u001b[0m\n\u001b[1;32m   5576\u001b[0m     \u001b[38;5;28;01mreturn\u001b[39;00m cast(Runnable[Input, Output], RunnableParallel(thing))\n\u001b[1;32m   5577\u001b[0m \u001b[38;5;28;01melse\u001b[39;00m:\n\u001b[0;32m-> 5578\u001b[0m     \u001b[38;5;28;01mraise\u001b[39;00m \u001b[38;5;167;01mTypeError\u001b[39;00m(\n\u001b[1;32m   5579\u001b[0m         \u001b[38;5;124mf\u001b[39m\u001b[38;5;124m\"\u001b[39m\u001b[38;5;124mExpected a Runnable, callable or dict.\u001b[39m\u001b[38;5;124m\"\u001b[39m\n\u001b[1;32m   5580\u001b[0m         \u001b[38;5;124mf\u001b[39m\u001b[38;5;124m\"\u001b[39m\u001b[38;5;124mInstead got an unsupported type: \u001b[39m\u001b[38;5;132;01m{\u001b[39;00m\u001b[38;5;28mtype\u001b[39m(thing)\u001b[38;5;132;01m}\u001b[39;00m\u001b[38;5;124m\"\u001b[39m\n\u001b[1;32m   5581\u001b[0m     )\n",
      "\u001b[0;31mTypeError\u001b[0m: Expected a Runnable, callable or dict.Instead got an unsupported type: <class 'str'>"
     ]
    }
   ],
   "source": [
    "from langchain_core.output_parsers import StrOutputParser\n",
    "from operator import itemgetter\n",
    "# 3. 검색 기능 구현\n",
    "retriever = vectorstore.as_retriever()\n",
    "\n",
    "# 4. LLM 설정 (OpenAI API 키가 필요합니다)\n",
    "model = ChatOpenAI(temperature=0, model_name=\"gpt-4o-mini-2024-07-18\")\n",
    "dummy_data = {\n",
    "    \"context\": \"운동 루틴에 대한 정보가 포함된 문서 내용입니다.\",\n",
    "    \"question\": \"운동 루틴에 대해 설명해주세요.\",\n",
    "    \"age\": 24,\n",
    "    \"gender\": \"남성\",\n",
    "    \"Job\": \"학생\",\n",
    "    \"Difficult\": \"의욕 떨어짐, 목표 너무 큼\",\n",
    "    \"goal\": \"꾸준히 운동하기\"\n",
    "}\n",
    "# 5. RAG 파이프라인 구축\n",
    "template = \"\"\"당신은 API 서버입니다.\n",
    "{context}\n",
    "사용자의 나이는 {dummy_data.age}입니다.\n",
    "사용자의 성별은 {dummy_data.gender}입니다.\n",
    "사용자의 직업은 {dummy_data.Job}입니다.\n",
    "사용자의 겪고 있는 어려움은 {dummy_data.Difficult}입니다.\n",
    "사용자의 목표는 {dummy_data.goal}입니다.\n",
    "\n",
    "질문: {question}\n",
    "답변:\"\"\"\n",
    "\n",
    "prompt = PromptTemplate(\n",
    "    template=template,\n",
    "    input_variables=[\"context\", \"question\", \"age\", \"gender\", \"Job\", \"Difficult\", \"goal\"]\n",
    ")\n",
    "chain = (\n",
    "    {\"question\": itemgetter(\"question\"), \"context\": itemgetter(\"context\")}\n",
    "            | prompt\n",
    "            | model\n",
    "            | StrOutputParser()\n",
    "        )\n",
    "result = chain.invoke({\"context\": \"운동 루틴에 대해 설명해주세요.\", \"question\": \"운동 루틴에 대해 설명해주세요.\"})\n",
    "\n",
    "print(result)"
   ]
  },
  {
   "cell_type": "code",
   "execution_count": null,
   "metadata": {},
   "outputs": [],
   "source": []
  }
 ],
 "metadata": {
  "kernelspec": {
   "display_name": "langchain-kr-0guSvvrv-py3.11",
   "language": "python",
   "name": "python3"
  },
  "language_info": {
   "codemirror_mode": {
    "name": "ipython",
    "version": 3
   },
   "file_extension": ".py",
   "mimetype": "text/x-python",
   "name": "python",
   "nbconvert_exporter": "python",
   "pygments_lexer": "ipython3",
   "version": "3.11.10"
  }
 },
 "nbformat": 4,
 "nbformat_minor": 2
}
