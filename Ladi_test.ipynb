{
 "cells": [
  {
   "cell_type": "markdown",
   "metadata": {},
   "source": [
    "### Ladi_ai_RAG"
   ]
  },
  {
   "cell_type": "markdown",
   "metadata": {},
   "source": [
    "- API DOCS : http://43.202.173.71:3000/\n",
    "- TASK : 루틴 추천\n",
    "- 루틴 관련 데이터 저장(vectorDB) -> 검색(Retrieve) -> LLM(gpt-4o)의 Context로 사용"
   ]
  },
  {
   "cell_type": "code",
   "execution_count": null,
   "metadata": {},
   "outputs": [],
   "source": []
  },
  {
   "cell_type": "code",
   "execution_count": 2,
   "metadata": {},
   "outputs": [
    {
     "name": "stdout",
     "output_type": "stream",
     "text": [
      "오류 발생: 404\n",
      "<!DOCTYPE html><html><head><title></title><link rel=\"stylesheet\" href=\"/stylesheets/style.css\"></head><body><h1>Not Found</h1><h2>404</h2><pre>NotFoundError: Not Found\n",
      "    at file:///home/ubuntu/life-designer-server/app.js:39:8\n",
      "    at Layer.handle [as handle_request] (/home/ubuntu/life-designer-server/node_modules/express/lib/router/layer.js:95:5)\n",
      "    at trim_prefix (/home/ubuntu/life-designer-server/node_modules/express/lib/router/index.js:317:13)\n",
      "    at /home/ubuntu/life-designer-server/node_modules/express/lib/router/index.js:284:7\n",
      "    at Function.process_params (/home/ubuntu/life-designer-server/node_modules/express/lib/router/index.js:335:12)\n",
      "    at next (/home/ubuntu/life-designer-server/node_modules/express/lib/router/index.js:275:10)\n",
      "    at /home/ubuntu/life-designer-server/node_modules/express/lib/router/index.js:635:15\n",
      "    at next (/home/ubuntu/life-designer-server/node_modules/express/lib/router/index.js:260:14)\n",
      "    at Function.handle (/home/ubuntu/life-designer-server/node_modules/express/lib/router/index.js:174:3)\n",
      "    at router (/home/ubuntu/life-designer-server/node_modules/express/lib/router/index.js:47:12)</pre></body></html>\n"
     ]
    }
   ],
   "source": [
    "import requests\n",
    "import json\n",
    "\n",
    "# API 엔드포인트 URL\n",
    "api_url = \"http://43.202.173.71:3000/api/endpoint\"  # 실제 엔드포인트 URL로 변경해야 합니다\n",
    "\n",
    "# 요청 데이터\n",
    "request_data = {\n",
    "    \"Difficult\": \"의욕 떨어짐, 목표 너무 큼\",\n",
    "    \"Job\": \"학생\",\n",
    "    \"gender\": \"남성\",\n",
    "    \"age\": 24,\n",
    "    \"goal\": \"꾸준히 운동하기\"\n",
    "}\n",
    "\n",
    "# POST 요청 보내기\n",
    "response = requests.post(api_url, json=request_data)\n",
    "\n",
    "# 응답 처리\n",
    "if response.status_code == 200:\n",
    "    # 성공적인 응답\n",
    "    response_data = response.json()\n",
    "    print(\"API 응답:\")\n",
    "    print(json.dumps(response_data, indent=2, ensure_ascii=False))\n",
    "else:\n",
    "    # 오류 응답\n",
    "    print(f\"오류 발생: {response.status_code}\")\n",
    "    print(response.text)"
   ]
  },
  {
   "cell_type": "code",
   "execution_count": 3,
   "metadata": {},
   "outputs": [
    {
     "name": "stdout",
     "output_type": "stream",
     "text": [
      "오류 발생: 401\n",
      "Unauthorized\n"
     ]
    }
   ],
   "source": [
    "import requests\n",
    "\n",
    "# API 엔드포인트 URL\n",
    "token_url = \"http://43.202.173.71:3000/auth/token\"\n",
    "\n",
    "# 요청 데이터 (필요한 경우 수정)\n",
    "request_data = {\n",
    "    \"username\": \"your_username\",  # 사용자 이름\n",
    "    \"password\": \"your_password\"   # 비밀번호\n",
    "}\n",
    "\n",
    "# POST 요청 보내기\n",
    "response = requests.post(token_url)\n",
    "\n",
    "# 응답 처리\n",
    "if response.status_code == 200:\n",
    "    # 성공적인 응답\n",
    "    token_data = response.json()\n",
    "    print(\"토큰 응답:\")\n",
    "    print(json.dumps(token_data, indent=2, ensure_ascii=False))\n",
    "else:\n",
    "    # 오류 응답\n",
    "    print(f\"오류 발생: {response.status_code}\")\n",
    "    print(response.text)\n"
   ]
  },
  {
   "cell_type": "code",
   "execution_count": 4,
   "metadata": {},
   "outputs": [
    {
     "name": "stdout",
     "output_type": "stream",
     "text": [
      "오류 발생: 401 - Unauthorized\n"
     ]
    }
   ],
   "source": [
    "import requests\n",
    "# response=requests.get('http://43.202.173.71:3000/statistics')\n",
    "# print(response.json())\n",
    "\n",
    "response = requests.get('http://43.202.173.71:3000/statistics')\n",
    "if response.status_code == 200:\n",
    "    try:\n",
    "        data = response.json()\n",
    "    except ValueError:\n",
    "        print(\"응답이 JSON 형식이 아닙니다:\", response.text)\n",
    "else:\n",
    "    print(f\"오류 발생: {response.status_code} - {response.text}\")\n"
   ]
  },
  {
   "cell_type": "code",
   "execution_count": 5,
   "metadata": {},
   "outputs": [
    {
     "name": "stdout",
     "output_type": "stream",
     "text": [
      " * Serving Flask app '__main__'\n",
      " * Debug mode: on\n"
     ]
    },
    {
     "name": "stderr",
     "output_type": "stream",
     "text": [
      "\u001b[31m\u001b[1mWARNING: This is a development server. Do not use it in a production deployment. Use a production WSGI server instead.\u001b[0m\n",
      " * Running on http://127.0.0.1:5001\n",
      "\u001b[33mPress CTRL+C to quit\u001b[0m\n",
      " * Restarting with stat\n",
      "Traceback (most recent call last):\n",
      "  File \"<frozen runpy>\", line 198, in _run_module_as_main\n",
      "  File \"<frozen runpy>\", line 88, in _run_code\n",
      "  File \"/Users/minu/Library/Caches/pypoetry/virtualenvs/langchain-kr-0guSvvrv-py3.11/lib/python3.11/site-packages/ipykernel_launcher.py\", line 18, in <module>\n",
      "    app.launch_new_instance()\n",
      "  File \"/Users/minu/Library/Caches/pypoetry/virtualenvs/langchain-kr-0guSvvrv-py3.11/lib/python3.11/site-packages/traitlets/config/application.py\", line 1074, in launch_instance\n",
      "    app.initialize(argv)\n",
      "  File \"/Users/minu/Library/Caches/pypoetry/virtualenvs/langchain-kr-0guSvvrv-py3.11/lib/python3.11/site-packages/traitlets/config/application.py\", line 118, in inner\n",
      "    return method(app, *args, **kwargs)\n",
      "           ^^^^^^^^^^^^^^^^^^^^^^^^^^^^\n",
      "  File \"/Users/minu/Library/Caches/pypoetry/virtualenvs/langchain-kr-0guSvvrv-py3.11/lib/python3.11/site-packages/ipykernel/kernelapp.py\", line 692, in initialize\n",
      "    self.init_sockets()\n",
      "  File \"/Users/minu/Library/Caches/pypoetry/virtualenvs/langchain-kr-0guSvvrv-py3.11/lib/python3.11/site-packages/ipykernel/kernelapp.py\", line 331, in init_sockets\n",
      "    self.shell_port = self._bind_socket(self.shell_socket, self.shell_port)\n",
      "                      ^^^^^^^^^^^^^^^^^^^^^^^^^^^^^^^^^^^^^^^^^^^^^^^^^^^^^\n",
      "  File \"/Users/minu/Library/Caches/pypoetry/virtualenvs/langchain-kr-0guSvvrv-py3.11/lib/python3.11/site-packages/ipykernel/kernelapp.py\", line 253, in _bind_socket\n",
      "    return self._try_bind_socket(s, port)\n",
      "           ^^^^^^^^^^^^^^^^^^^^^^^^^^^^^^\n",
      "  File \"/Users/minu/Library/Caches/pypoetry/virtualenvs/langchain-kr-0guSvvrv-py3.11/lib/python3.11/site-packages/ipykernel/kernelapp.py\", line 229, in _try_bind_socket\n",
      "    s.bind(\"tcp://%s:%i\" % (self.ip, port))\n",
      "  File \"/Users/minu/Library/Caches/pypoetry/virtualenvs/langchain-kr-0guSvvrv-py3.11/lib/python3.11/site-packages/zmq/sugar/socket.py\", line 311, in bind\n",
      "    super().bind(addr)\n",
      "  File \"_zmq.py\", line 917, in zmq.backend.cython._zmq.Socket.bind\n",
      "  File \"_zmq.py\", line 179, in zmq.backend.cython._zmq._check_rc\n",
      "zmq.error.ZMQError: Address already in use (addr='tcp://127.0.0.1:9002')\n"
     ]
    },
    {
     "ename": "SystemExit",
     "evalue": "1",
     "output_type": "error",
     "traceback": [
      "An exception has occurred, use %tb to see the full traceback.\n",
      "\u001b[0;31mSystemExit\u001b[0m\u001b[0;31m:\u001b[0m 1\n"
     ]
    },
    {
     "name": "stderr",
     "output_type": "stream",
     "text": [
      "/Users/minu/Library/Caches/pypoetry/virtualenvs/langchain-kr-0guSvvrv-py3.11/lib/python3.11/site-packages/IPython/core/interactiveshell.py:3585: UserWarning: To exit: use 'exit', 'quit', or Ctrl-D.\n",
      "  warn(\"To exit: use 'exit', 'quit', or Ctrl-D.\", stacklevel=1)\n"
     ]
    }
   ],
   "source": [
    "from flask import Flask, jsonify\n",
    "import requests\n",
    "\n",
    "app = Flask(__name__)\n",
    "\n",
    "@app.route('/get_statistics', methods=['GET'])\n",
    "def get_statistics():\n",
    "    try:\n",
    "        # localhost:3000/statistics에 GET 요청 보내기\n",
    "        response = requests.get('http://43.202.173.71:3000/statistics')\n",
    "        \n",
    "        # 응답 상태 코드 확인\n",
    "        if response.status_code == 200:\n",
    "            # 성공적으로 데이터를 받아왔을 때\n",
    "            data = response.json()\n",
    "            return jsonify(data), 200\n",
    "        else:\n",
    "            # 오류 발생 시\n",
    "            return jsonify({\"error\": \"외부 API에서 데이터를 가져오는 데 실패했습니다.\"}), response.status_code\n",
    "    \n",
    "    except requests.RequestException as e:\n",
    "        # 네트워크 오류 등 예외 처리\n",
    "        return jsonify({\"error\": f\"요청 중 오류 발생: {str(e)}\"}), 500\n",
    "\n",
    "if __name__ == '__main__':\n",
    "    app.run(debug=True, port=5001)"
   ]
  },
  {
   "cell_type": "code",
   "execution_count": 9,
   "metadata": {},
   "outputs": [],
   "source": [
    "import json\n",
    "import os\n",
    "\n",
    "def load_json_files(directory):\n",
    "    data = []\n",
    "    for filename in os.listdir(directory):\n",
    "        if filename.endswith('.json'):\n",
    "            with open(os.path.join(directory, filename), 'r', encoding='utf-8') as file:\n",
    "                data.extend(json.load(file))\n",
    "    return data\n",
    "\n",
    "json_data = load_json_files('data/')"
   ]
  },
  {
   "cell_type": "code",
   "execution_count": 26,
   "metadata": {},
   "outputs": [
    {
     "name": "stdout",
     "output_type": "stream",
     "text": [
      "[Document(metadata={'id': '1', 'emoji': '🏃', 'miniuteDuration': 5}, page_content='가볍게 5분 걷기'),\n",
      " Document(metadata={'id': '2', 'emoji': '🧘', 'miniuteDuration': 5}, page_content='스트레칭으로 몸 풀기'),\n",
      " Document(metadata={'id': '3', 'emoji': '💪', 'miniuteDuration': 3}, page_content='팔굽혀펴기 10회'),\n",
      " Document(metadata={'id': '4', 'emoji': '🦵', 'miniuteDuration': 5}, page_content='스쿼트 15회'),\n",
      " Document(metadata={'id': '5', 'emoji': '🚶', 'miniuteDuration': 10}, page_content='10분 걷기로 마무리'),\n",
      " Document(metadata={'id': '6', 'emoji': '🧘\\u200d♂️', 'miniuteDuration': 15}, page_content='요가로 몸과 마음 안정시키기'),\n",
      " Document(metadata={'id': '7', 'emoji': '🚴', 'miniuteDuration': 20}, page_content='자전거 타기 20분'),\n",
      " Document(metadata={'id': '8', 'emoji': '🤸', 'miniuteDuration': 2}, page_content='플랭크 1분 유지'),\n",
      " Document(metadata={'id': '9', 'emoji': '🦵', 'miniuteDuration': 5}, page_content='런지 10회'),\n",
      " Document(metadata={'id': '10', 'emoji': '🏃\\u200d♂️', 'miniuteDuration': 15}, page_content='가벼운 조깅 15분')]\n"
     ]
    }
   ],
   "source": [
    "import json\n",
    "from langchain.schema import Document\n",
    "from pprint import pprint\n",
    "\n",
    "# JSON 파일 로드 함수 정의\n",
    "def load_json_file(file_path):\n",
    "    with open(file_path, 'r', encoding='utf-8') as file:\n",
    "        return json.load(file)\n",
    "\n",
    "# JSON 데이터 로드\n",
    "data = load_json_file(\"data/dummy.json\")\n",
    "\n",
    "# 필요한 정보 추출 및 Document 객체 생성\n",
    "docs = [\n",
    "    Document(\n",
    "        page_content=item[\"text\"],\n",
    "        metadata={\n",
    "            \"id\": item[\"id\"],\n",
    "            \"emoji\": item[\"metadata\"].get(\"emoji\"),\n",
    "            \"miniuteDuration\": item[\"metadata\"].get(\"miniuteDuration\")\n",
    "        }\n",
    "    )\n",
    "    for item in data\n",
    "]\n",
    "\n",
    "# 결과 출력\n",
    "pprint(docs)"
   ]
  },
  {
   "cell_type": "code",
   "execution_count": 7,
   "metadata": {},
   "outputs": [
    {
     "name": "stderr",
     "output_type": "stream",
     "text": [
      "/var/folders/ng/3fkn67lx65g3fmz9qjw7gdp80000gn/T/ipykernel_88821/777457567.py:10: LangChainDeprecationWarning: The class `Chroma` was deprecated in LangChain 0.2.9 and will be removed in 1.0. An updated version of the class exists in the langchain-chroma package and should be used instead. To use it run `pip install -U langchain-chroma` and import as `from langchain_chroma import Chroma`.\n",
      "  vectorstore = Chroma(embedding_function=passage_embeddings)\n"
     ]
    }
   ],
   "source": [
    "from langchain.vectorstores import Chroma\n",
    "from langchain.embeddings import HuggingFaceEmbeddings\n",
    "from langchain_upstage import UpstageEmbeddings\n",
    "from langchain.text_splitter import CharacterTextSplitter\n",
    "from langchain_openai import ChatOpenAI\n",
    "from langchain.prompts import PromptTemplate\n",
    "\n",
    "# 1. 벡터 저장소 생성\n",
    "passage_embeddings = UpstageEmbeddings(model=\"solar-embedding-1-large-query\")\n",
    "vectorstore = Chroma(embedding_function=passage_embeddings)\n"
   ]
  },
  {
   "cell_type": "code",
   "execution_count": 8,
   "metadata": {},
   "outputs": [
    {
     "ename": "NameError",
     "evalue": "name 'docs' is not defined",
     "output_type": "error",
     "traceback": [
      "\u001b[0;31m---------------------------------------------------------------------------\u001b[0m",
      "\u001b[0;31mNameError\u001b[0m                                 Traceback (most recent call last)",
      "Cell \u001b[0;32mIn[8], line 11\u001b[0m\n\u001b[1;32m      9\u001b[0m \u001b[38;5;66;03m# 2. 문서 임베딩 및 저장\u001b[39;00m\n\u001b[1;32m     10\u001b[0m text_splitter \u001b[38;5;241m=\u001b[39m CharacterTextSplitter(chunk_size\u001b[38;5;241m=\u001b[39m\u001b[38;5;241m1000\u001b[39m, chunk_overlap\u001b[38;5;241m=\u001b[39m\u001b[38;5;241m0\u001b[39m)\n\u001b[0;32m---> 11\u001b[0m texts \u001b[38;5;241m=\u001b[39m text_splitter\u001b[38;5;241m.\u001b[39msplit_documents(\u001b[43mdocs\u001b[49m)\n\u001b[1;32m     12\u001b[0m vectorstore\u001b[38;5;241m.\u001b[39madd_documents(texts)\n",
      "\u001b[0;31mNameError\u001b[0m: name 'docs' is not defined"
     ]
    }
   ],
   "source": [
    "from langchain.storage import LocalFileStore\n",
    "from langchain.embeddings import CacheBackedEmbeddings\n",
    "\n",
    "fs = LocalFileStore(\"./cache/\")\n",
    "cached_embeddings = CacheBackedEmbeddings.from_bytes_store(\n",
    "    passage_embeddings, fs, namespace=passage_embeddings.model\n",
    ")\n",
    "\n",
    "# 2. 문서 임베딩 및 저장\n",
    "text_splitter = CharacterTextSplitter(chunk_size=1000, chunk_overlap=0)\n",
    "texts = text_splitter.split_documents(docs)\n",
    "vectorstore.add_documents(texts)\n"
   ]
  },
  {
   "cell_type": "code",
   "execution_count": 10,
   "metadata": {},
   "outputs": [
    {
     "name": "stderr",
     "output_type": "stream",
     "text": [
      "/Users/minu/Library/Caches/pypoetry/virtualenvs/langchain-kr-0guSvvrv-py3.11/lib/python3.11/site-packages/IPython/core/interactiveshell.py:3577: UserWarning: WARNING! function_map is not default parameter.\n",
      "                function_map was transferred to model_kwargs.\n",
      "                Please confirm that function_map is what you intended.\n",
      "  exec(code_obj, self.user_global_ns, self.user_ns)\n"
     ]
    },
    {
     "ename": "KeyError",
     "evalue": "'Input to PromptTemplate is missing variables {\\'\\\\n  \"subRoutine\"\\'}.  Expected: [\\'\\\\n  \"subRoutine\"\\', \\'Difficult\\', \\'Job\\', \\'age\\', \\'context\\', \\'gender\\', \\'goal\\', \\'question\\'] Received: [\\'context\\', \\'question\\', \\'age\\', \\'gender\\', \\'Job\\', \\'Difficult\\', \\'goal\\']\\nNote: if you intended {\\n  \"subRoutine\"} to be part of the string and not a variable, please escape it with double curly braces like: \\'{{\\n  \"subRoutine\"}}\\'.'",
     "output_type": "error",
     "traceback": [
      "\u001b[0;31m---------------------------------------------------------------------------\u001b[0m",
      "\u001b[0;31mKeyError\u001b[0m                                  Traceback (most recent call last)",
      "Cell \u001b[0;32mIn[10], line 71\u001b[0m\n\u001b[1;32m     64\u001b[0m chain \u001b[38;5;241m=\u001b[39m (\n\u001b[1;32m     65\u001b[0m      prompt\n\u001b[1;32m     66\u001b[0m     \u001b[38;5;241m|\u001b[39m model\n\u001b[1;32m     67\u001b[0m     \u001b[38;5;241m|\u001b[39m StrOutputParser()\n\u001b[1;32m     68\u001b[0m )\n\u001b[1;32m     70\u001b[0m \u001b[38;5;66;03m# 결과 생성\u001b[39;00m\n\u001b[0;32m---> 71\u001b[0m result \u001b[38;5;241m=\u001b[39m \u001b[43mchain\u001b[49m\u001b[38;5;241;43m.\u001b[39;49m\u001b[43minvoke\u001b[49m\u001b[43m(\u001b[49m\u001b[43mdummy_data\u001b[49m\u001b[43m,\u001b[49m\u001b[43m)\u001b[49m\n\u001b[1;32m     73\u001b[0m \u001b[38;5;66;03m# 결과 출력\u001b[39;00m\n\u001b[1;32m     74\u001b[0m \u001b[38;5;28mprint\u001b[39m(result)\n",
      "File \u001b[0;32m~/Library/Caches/pypoetry/virtualenvs/langchain-kr-0guSvvrv-py3.11/lib/python3.11/site-packages/langchain_core/runnables/base.py:2877\u001b[0m, in \u001b[0;36mRunnableSequence.invoke\u001b[0;34m(self, input, config, **kwargs)\u001b[0m\n\u001b[1;32m   2875\u001b[0m context\u001b[38;5;241m.\u001b[39mrun(_set_config_context, config)\n\u001b[1;32m   2876\u001b[0m \u001b[38;5;28;01mif\u001b[39;00m i \u001b[38;5;241m==\u001b[39m \u001b[38;5;241m0\u001b[39m:\n\u001b[0;32m-> 2877\u001b[0m     \u001b[38;5;28minput\u001b[39m \u001b[38;5;241m=\u001b[39m \u001b[43mcontext\u001b[49m\u001b[38;5;241;43m.\u001b[39;49m\u001b[43mrun\u001b[49m\u001b[43m(\u001b[49m\u001b[43mstep\u001b[49m\u001b[38;5;241;43m.\u001b[39;49m\u001b[43minvoke\u001b[49m\u001b[43m,\u001b[49m\u001b[43m \u001b[49m\u001b[38;5;28;43minput\u001b[39;49m\u001b[43m,\u001b[49m\u001b[43m \u001b[49m\u001b[43mconfig\u001b[49m\u001b[43m,\u001b[49m\u001b[43m \u001b[49m\u001b[38;5;241;43m*\u001b[39;49m\u001b[38;5;241;43m*\u001b[39;49m\u001b[43mkwargs\u001b[49m\u001b[43m)\u001b[49m\n\u001b[1;32m   2878\u001b[0m \u001b[38;5;28;01melse\u001b[39;00m:\n\u001b[1;32m   2879\u001b[0m     \u001b[38;5;28minput\u001b[39m \u001b[38;5;241m=\u001b[39m context\u001b[38;5;241m.\u001b[39mrun(step\u001b[38;5;241m.\u001b[39minvoke, \u001b[38;5;28minput\u001b[39m, config)\n",
      "File \u001b[0;32m~/Library/Caches/pypoetry/virtualenvs/langchain-kr-0guSvvrv-py3.11/lib/python3.11/site-packages/langchain_core/prompts/base.py:187\u001b[0m, in \u001b[0;36mBasePromptTemplate.invoke\u001b[0;34m(self, input, config)\u001b[0m\n\u001b[1;32m    185\u001b[0m \u001b[38;5;28;01mif\u001b[39;00m \u001b[38;5;28mself\u001b[39m\u001b[38;5;241m.\u001b[39mtags:\n\u001b[1;32m    186\u001b[0m     config[\u001b[38;5;124m\"\u001b[39m\u001b[38;5;124mtags\u001b[39m\u001b[38;5;124m\"\u001b[39m] \u001b[38;5;241m=\u001b[39m config[\u001b[38;5;124m\"\u001b[39m\u001b[38;5;124mtags\u001b[39m\u001b[38;5;124m\"\u001b[39m] \u001b[38;5;241m+\u001b[39m \u001b[38;5;28mself\u001b[39m\u001b[38;5;241m.\u001b[39mtags\n\u001b[0;32m--> 187\u001b[0m \u001b[38;5;28;01mreturn\u001b[39;00m \u001b[38;5;28;43mself\u001b[39;49m\u001b[38;5;241;43m.\u001b[39;49m\u001b[43m_call_with_config\u001b[49m\u001b[43m(\u001b[49m\n\u001b[1;32m    188\u001b[0m \u001b[43m    \u001b[49m\u001b[38;5;28;43mself\u001b[39;49m\u001b[38;5;241;43m.\u001b[39;49m\u001b[43m_format_prompt_with_error_handling\u001b[49m\u001b[43m,\u001b[49m\n\u001b[1;32m    189\u001b[0m \u001b[43m    \u001b[49m\u001b[38;5;28;43minput\u001b[39;49m\u001b[43m,\u001b[49m\n\u001b[1;32m    190\u001b[0m \u001b[43m    \u001b[49m\u001b[43mconfig\u001b[49m\u001b[43m,\u001b[49m\n\u001b[1;32m    191\u001b[0m \u001b[43m    \u001b[49m\u001b[43mrun_type\u001b[49m\u001b[38;5;241;43m=\u001b[39;49m\u001b[38;5;124;43m\"\u001b[39;49m\u001b[38;5;124;43mprompt\u001b[39;49m\u001b[38;5;124;43m\"\u001b[39;49m\u001b[43m,\u001b[49m\n\u001b[1;32m    192\u001b[0m \u001b[43m    \u001b[49m\u001b[43mserialized\u001b[49m\u001b[38;5;241;43m=\u001b[39;49m\u001b[43mdumpd\u001b[49m\u001b[43m(\u001b[49m\u001b[38;5;28;43mself\u001b[39;49m\u001b[43m)\u001b[49m\u001b[43m,\u001b[49m\n\u001b[1;32m    193\u001b[0m \u001b[43m\u001b[49m\u001b[43m)\u001b[49m\n",
      "File \u001b[0;32m~/Library/Caches/pypoetry/virtualenvs/langchain-kr-0guSvvrv-py3.11/lib/python3.11/site-packages/langchain_core/runnables/base.py:1786\u001b[0m, in \u001b[0;36mRunnable._call_with_config\u001b[0;34m(self, func, input, config, run_type, serialized, **kwargs)\u001b[0m\n\u001b[1;32m   1782\u001b[0m     context \u001b[38;5;241m=\u001b[39m copy_context()\n\u001b[1;32m   1783\u001b[0m     context\u001b[38;5;241m.\u001b[39mrun(_set_config_context, child_config)\n\u001b[1;32m   1784\u001b[0m     output \u001b[38;5;241m=\u001b[39m cast(\n\u001b[1;32m   1785\u001b[0m         Output,\n\u001b[0;32m-> 1786\u001b[0m         \u001b[43mcontext\u001b[49m\u001b[38;5;241;43m.\u001b[39;49m\u001b[43mrun\u001b[49m\u001b[43m(\u001b[49m\n\u001b[1;32m   1787\u001b[0m \u001b[43m            \u001b[49m\u001b[43mcall_func_with_variable_args\u001b[49m\u001b[43m,\u001b[49m\u001b[43m  \u001b[49m\u001b[38;5;66;43;03m# type: ignore[arg-type]\u001b[39;49;00m\n\u001b[1;32m   1788\u001b[0m \u001b[43m            \u001b[49m\u001b[43mfunc\u001b[49m\u001b[43m,\u001b[49m\u001b[43m  \u001b[49m\u001b[38;5;66;43;03m# type: ignore[arg-type]\u001b[39;49;00m\n\u001b[1;32m   1789\u001b[0m \u001b[43m            \u001b[49m\u001b[38;5;28;43minput\u001b[39;49m\u001b[43m,\u001b[49m\u001b[43m  \u001b[49m\u001b[38;5;66;43;03m# type: ignore[arg-type]\u001b[39;49;00m\n\u001b[1;32m   1790\u001b[0m \u001b[43m            \u001b[49m\u001b[43mconfig\u001b[49m\u001b[43m,\u001b[49m\n\u001b[1;32m   1791\u001b[0m \u001b[43m            \u001b[49m\u001b[43mrun_manager\u001b[49m\u001b[43m,\u001b[49m\n\u001b[1;32m   1792\u001b[0m \u001b[43m            \u001b[49m\u001b[38;5;241;43m*\u001b[39;49m\u001b[38;5;241;43m*\u001b[39;49m\u001b[43mkwargs\u001b[49m\u001b[43m,\u001b[49m\n\u001b[1;32m   1793\u001b[0m \u001b[43m        \u001b[49m\u001b[43m)\u001b[49m,\n\u001b[1;32m   1794\u001b[0m     )\n\u001b[1;32m   1795\u001b[0m \u001b[38;5;28;01mexcept\u001b[39;00m \u001b[38;5;167;01mBaseException\u001b[39;00m \u001b[38;5;28;01mas\u001b[39;00m e:\n\u001b[1;32m   1796\u001b[0m     run_manager\u001b[38;5;241m.\u001b[39mon_chain_error(e)\n",
      "File \u001b[0;32m~/Library/Caches/pypoetry/virtualenvs/langchain-kr-0guSvvrv-py3.11/lib/python3.11/site-packages/langchain_core/runnables/config.py:398\u001b[0m, in \u001b[0;36mcall_func_with_variable_args\u001b[0;34m(func, input, config, run_manager, **kwargs)\u001b[0m\n\u001b[1;32m    396\u001b[0m \u001b[38;5;28;01mif\u001b[39;00m run_manager \u001b[38;5;129;01mis\u001b[39;00m \u001b[38;5;129;01mnot\u001b[39;00m \u001b[38;5;28;01mNone\u001b[39;00m \u001b[38;5;129;01mand\u001b[39;00m accepts_run_manager(func):\n\u001b[1;32m    397\u001b[0m     kwargs[\u001b[38;5;124m\"\u001b[39m\u001b[38;5;124mrun_manager\u001b[39m\u001b[38;5;124m\"\u001b[39m] \u001b[38;5;241m=\u001b[39m run_manager\n\u001b[0;32m--> 398\u001b[0m \u001b[38;5;28;01mreturn\u001b[39;00m \u001b[43mfunc\u001b[49m\u001b[43m(\u001b[49m\u001b[38;5;28;43minput\u001b[39;49m\u001b[43m,\u001b[49m\u001b[43m \u001b[49m\u001b[38;5;241;43m*\u001b[39;49m\u001b[38;5;241;43m*\u001b[39;49m\u001b[43mkwargs\u001b[49m\u001b[43m)\u001b[49m\n",
      "File \u001b[0;32m~/Library/Caches/pypoetry/virtualenvs/langchain-kr-0guSvvrv-py3.11/lib/python3.11/site-packages/langchain_core/prompts/base.py:161\u001b[0m, in \u001b[0;36mBasePromptTemplate._format_prompt_with_error_handling\u001b[0;34m(self, inner_input)\u001b[0m\n\u001b[1;32m    160\u001b[0m \u001b[38;5;28;01mdef\u001b[39;00m \u001b[38;5;21m_format_prompt_with_error_handling\u001b[39m(\u001b[38;5;28mself\u001b[39m, inner_input: Dict) \u001b[38;5;241m-\u001b[39m\u001b[38;5;241m>\u001b[39m PromptValue:\n\u001b[0;32m--> 161\u001b[0m     _inner_input \u001b[38;5;241m=\u001b[39m \u001b[38;5;28;43mself\u001b[39;49m\u001b[38;5;241;43m.\u001b[39;49m\u001b[43m_validate_input\u001b[49m\u001b[43m(\u001b[49m\u001b[43minner_input\u001b[49m\u001b[43m)\u001b[49m\n\u001b[1;32m    162\u001b[0m     \u001b[38;5;28;01mreturn\u001b[39;00m \u001b[38;5;28mself\u001b[39m\u001b[38;5;241m.\u001b[39mformat_prompt(\u001b[38;5;241m*\u001b[39m\u001b[38;5;241m*\u001b[39m_inner_input)\n",
      "File \u001b[0;32m~/Library/Caches/pypoetry/virtualenvs/langchain-kr-0guSvvrv-py3.11/lib/python3.11/site-packages/langchain_core/prompts/base.py:157\u001b[0m, in \u001b[0;36mBasePromptTemplate._validate_input\u001b[0;34m(self, inner_input)\u001b[0m\n\u001b[1;32m    151\u001b[0m     example_key \u001b[38;5;241m=\u001b[39m missing\u001b[38;5;241m.\u001b[39mpop()\n\u001b[1;32m    152\u001b[0m     msg \u001b[38;5;241m+\u001b[39m\u001b[38;5;241m=\u001b[39m (\n\u001b[1;32m    153\u001b[0m         \u001b[38;5;124mf\u001b[39m\u001b[38;5;124m\"\u001b[39m\u001b[38;5;130;01m\\n\u001b[39;00m\u001b[38;5;124mNote: if you intended \u001b[39m\u001b[38;5;130;01m{{\u001b[39;00m\u001b[38;5;132;01m{\u001b[39;00mexample_key\u001b[38;5;132;01m}\u001b[39;00m\u001b[38;5;130;01m}}\u001b[39;00m\u001b[38;5;124m to be part of the string\u001b[39m\u001b[38;5;124m\"\u001b[39m\n\u001b[1;32m    154\u001b[0m         \u001b[38;5;124m\"\u001b[39m\u001b[38;5;124m and not a variable, please escape it with double curly braces like: \u001b[39m\u001b[38;5;124m\"\u001b[39m\n\u001b[1;32m    155\u001b[0m         \u001b[38;5;124mf\u001b[39m\u001b[38;5;124m\"\u001b[39m\u001b[38;5;124m'\u001b[39m\u001b[38;5;130;01m{{\u001b[39;00m\u001b[38;5;130;01m{{\u001b[39;00m\u001b[38;5;132;01m{\u001b[39;00mexample_key\u001b[38;5;132;01m}\u001b[39;00m\u001b[38;5;130;01m}}\u001b[39;00m\u001b[38;5;130;01m}}\u001b[39;00m\u001b[38;5;124m'\u001b[39m\u001b[38;5;124m.\u001b[39m\u001b[38;5;124m\"\u001b[39m\n\u001b[1;32m    156\u001b[0m     )\n\u001b[0;32m--> 157\u001b[0m     \u001b[38;5;28;01mraise\u001b[39;00m \u001b[38;5;167;01mKeyError\u001b[39;00m(msg)\n\u001b[1;32m    158\u001b[0m \u001b[38;5;28;01mreturn\u001b[39;00m inner_input\n",
      "\u001b[0;31mKeyError\u001b[0m: 'Input to PromptTemplate is missing variables {\\'\\\\n  \"subRoutine\"\\'}.  Expected: [\\'\\\\n  \"subRoutine\"\\', \\'Difficult\\', \\'Job\\', \\'age\\', \\'context\\', \\'gender\\', \\'goal\\', \\'question\\'] Received: [\\'context\\', \\'question\\', \\'age\\', \\'gender\\', \\'Job\\', \\'Difficult\\', \\'goal\\']\\nNote: if you intended {\\n  \"subRoutine\"} to be part of the string and not a variable, please escape it with double curly braces like: \\'{{\\n  \"subRoutine\"}}\\'.'"
     ]
    }
   ],
   "source": [
    "from langchain_core.output_parsers import StrOutputParser\n",
    "from langchain.prompts import PromptTemplate\n",
    "from langchain_openai import ChatOpenAI\n",
    "\n",
    "# 3. 검색 기능 구현\n",
    "retriever = vectorstore.as_retriever()\n",
    "\n",
    "# 4. LLM 설정 (OpenAI API 키가 필요합니다)\n",
    "model = ChatOpenAI(temperature=0,\n",
    "                  model_name=\"gpt-4o-mini-2024-07-18\",\n",
    "                  function_map={\n",
    "                      \"subRoutine\": {\n",
    "                          \"description\": \"운동 루틴을 추천합니다.\",\n",
    "                          \"parameters\": {\n",
    "                              \"type\": \"object\",\n",
    "                              \"properties\": {\n",
    "                                  \"emoji\": {\"type\": \"string\"},\n",
    "                                  \"routineDetail\": {\"type\": \"string\"},\n",
    "                                  \"miniuteDuration\": {\"type\": \"string\"}\n",
    "                              }\n",
    "                          }\n",
    "                      }\n",
    "                  })\n",
    "# 더미 데이터 생성\n",
    "dummy_data = {\n",
    "    \"context\": \"운동 루틴에 대한 정보가 포함된 문서 내용입니다.\",\n",
    "    \"question\": \"운동 루틴에 대해 설명해주세요.\",\n",
    "    \"age\": 24,\n",
    "    \"gender\": \"남성\",\n",
    "    \"Job\": \"학생\",\n",
    "    \"Difficult\": \"의욕 떨어짐, 목표 너무 큼\",\n",
    "    \"goal\": \"꾸준히 운동하기\"\n",
    "}\n",
    "\n",
    "# 5. RAG 파이프라인 구축\n",
    "template = \"\"\"당신은 API 서버입니다.\n",
    "{context}\n",
    "사용자의 나이는 {age}입니다.\n",
    "사용자의 성별은 {gender}입니다.\n",
    "사용자의 직업은 {Job}입니다.\n",
    "사용자의 겪고 있는 어려움은 {Difficult}입니다.\n",
    "사용자의 목표는 {goal}입니다.\n",
    "\n",
    "질문: {question}\n",
    "답변:\n",
    "응답 형식\n",
    "{{\n",
    "  \"subRoutine\": \n",
    "    }}\n",
    "      \"emoji\": \"이모지\",\n",
    "      \"routineDetail\": \"루틴 설명\",\n",
    "      \"miniuteDuration\": \"시간(분 단위)\"\n",
    "    }}\n",
    "  \n",
    "}}\"\"\"\n",
    "\n",
    "\n",
    "prompt = PromptTemplate(\n",
    "    template=template,\n",
    "    input_variables=[\"context\", \"question\", \"age\", \"gender\", \"Job\", \"Difficult\", \"goal\"]\n",
    ")\n",
    "\n",
    "# RAG 체인 생성\n",
    "chain = (\n",
    "     prompt\n",
    "    | model\n",
    "    | StrOutputParser()\n",
    ")\n",
    "\n",
    "# 결과 생성\n",
    "result = chain.invoke(dummy_data,)\n",
    "\n",
    "# 결과 출력\n",
    "print(result)"
   ]
  },
  {
   "cell_type": "code",
   "execution_count": null,
   "metadata": {},
   "outputs": [],
   "source": []
  }
 ],
 "metadata": {
  "kernelspec": {
   "display_name": "langchain-kr-0guSvvrv-py3.11",
   "language": "python",
   "name": "python3"
  },
  "language_info": {
   "codemirror_mode": {
    "name": "ipython",
    "version": 3
   },
   "file_extension": ".py",
   "mimetype": "text/x-python",
   "name": "python",
   "nbconvert_exporter": "python",
   "pygments_lexer": "ipython3",
   "version": "3.11.10"
  }
 },
 "nbformat": 4,
 "nbformat_minor": 2
}
